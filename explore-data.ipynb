{
 "cells": [
  {
   "cell_type": "markdown",
   "metadata": {},
   "source": [
    "# Load dataset "
   ]
  },
  {
   "cell_type": "code",
   "execution_count": 2,
   "metadata": {},
   "outputs": [
    {
     "name": "stdout",
     "output_type": "stream",
     "text": [
      "The autoreload extension is already loaded. To reload it, use:\n",
      "  %reload_ext autoreload\n"
     ]
    }
   ],
   "source": [
    "%load_ext autoreload\n",
    "%autoreload 2\n",
    "from pathlib import Path\n",
    "import os, re\n",
    "\n",
    "DATA_PATH = Path(\"./data\")\n",
    "assert DATA_PATH.is_dir()\n"
   ]
  },
  {
   "cell_type": "code",
   "execution_count": 3,
   "metadata": {},
   "outputs": [],
   "source": [
    "csv_path = DATA_PATH / Path(\"ri_annotated_texts_filtered_anonymized.csv\")\n",
    "assert csv_path.exists()"
   ]
  },
  {
   "cell_type": "code",
   "execution_count": 7,
   "metadata": {},
   "outputs": [],
   "source": [
    "import pandas as pd"
   ]
  },
  {
   "cell_type": "code",
   "execution_count": 9,
   "metadata": {},
   "outputs": [],
   "source": [
    "df = pd.read_csv(csv_path)"
   ]
  },
  {
   "cell_type": "code",
   "execution_count": 10,
   "metadata": {},
   "outputs": [
    {
     "data": {
      "text/html": [
       "<div>\n",
       "<style scoped>\n",
       "    .dataframe tbody tr th:only-of-type {\n",
       "        vertical-align: middle;\n",
       "    }\n",
       "\n",
       "    .dataframe tbody tr th {\n",
       "        vertical-align: top;\n",
       "    }\n",
       "\n",
       "    .dataframe thead th {\n",
       "        text-align: right;\n",
       "    }\n",
       "</style>\n",
       "<table border=\"1\" class=\"dataframe\">\n",
       "  <thead>\n",
       "    <tr style=\"text-align: right;\">\n",
       "      <th></th>\n",
       "      <th>Version initiale</th>\n",
       "      <th>Version retraitée</th>\n",
       "      <th>Stratégie</th>\n",
       "    </tr>\n",
       "  </thead>\n",
       "  <tbody>\n",
       "    <tr>\n",
       "      <th>0</th>\n",
       "      <td>Dispositif d'apprentissage du français : perme...</td>\n",
       "      <td>Des ateliers 2 fois par semaine pour progresse...</td>\n",
       "      <td>Complement</td>\n",
       "    </tr>\n",
       "    <tr>\n",
       "      <th>1</th>\n",
       "      <td>Dispositif d'apprentissage du français : perme...</td>\n",
       "      <td>Des ateliers 2 fois par semaine pour progresse...</td>\n",
       "      <td>Complement</td>\n",
       "    </tr>\n",
       "    <tr>\n",
       "      <th>2</th>\n",
       "      <td>Dispositif d'apprentissage du français : perme...</td>\n",
       "      <td>Des ateliers pour progresser en français, mieu...</td>\n",
       "      <td>SynSemantic</td>\n",
       "    </tr>\n",
       "    <tr>\n",
       "      <th>3</th>\n",
       "      <td>Dispositif d'apprentissage du français : perme...</td>\n",
       "      <td>Des ateliers pour progresser en français, mieu...</td>\n",
       "      <td>Compression</td>\n",
       "    </tr>\n",
       "    <tr>\n",
       "      <th>4</th>\n",
       "      <td>Dispositif d'apprentissage du français : perme...</td>\n",
       "      <td>Des ateliers pour progresser en français, mieu...</td>\n",
       "      <td>Syntactic</td>\n",
       "    </tr>\n",
       "    <tr>\n",
       "      <th>...</th>\n",
       "      <td>...</td>\n",
       "      <td>...</td>\n",
       "      <td>...</td>\n",
       "    </tr>\n",
       "    <tr>\n",
       "      <th>379</th>\n",
       "      <td>Suivi socio-administratif : individualisé visa...</td>\n",
       "      <td>Conseils pour trouver une garde d'enfant, un m...</td>\n",
       "      <td>Modulation</td>\n",
       "    </tr>\n",
       "    <tr>\n",
       "      <th>380</th>\n",
       "      <td>Suivi socio-administratif : individualisé visa...</td>\n",
       "      <td>Conseils pour trouver une garde d'enfant, un m...</td>\n",
       "      <td>SynSemantic</td>\n",
       "    </tr>\n",
       "    <tr>\n",
       "      <th>381</th>\n",
       "      <td>Suivi socio-administratif : individualisé visa...</td>\n",
       "      <td>Conseils pour trouver une garde d'enfant, un m...</td>\n",
       "      <td>Explanation</td>\n",
       "    </tr>\n",
       "    <tr>\n",
       "      <th>382</th>\n",
       "      <td>Suivi socio-administratif : individualisé visa...</td>\n",
       "      <td>Conseils pour trouver une garde d'enfant, un m...</td>\n",
       "      <td>Examples</td>\n",
       "    </tr>\n",
       "    <tr>\n",
       "      <th>383</th>\n",
       "      <td>il vous sera demandé de passer une évaluation ...</td>\n",
       "      <td>vous allez faire une évaluation en français</td>\n",
       "      <td>Compression</td>\n",
       "    </tr>\n",
       "  </tbody>\n",
       "</table>\n",
       "<p>384 rows × 3 columns</p>\n",
       "</div>"
      ],
      "text/plain": [
       "                                      Version initiale  \\\n",
       "0    Dispositif d'apprentissage du français : perme...   \n",
       "1    Dispositif d'apprentissage du français : perme...   \n",
       "2    Dispositif d'apprentissage du français : perme...   \n",
       "3    Dispositif d'apprentissage du français : perme...   \n",
       "4    Dispositif d'apprentissage du français : perme...   \n",
       "..                                                 ...   \n",
       "379  Suivi socio-administratif : individualisé visa...   \n",
       "380  Suivi socio-administratif : individualisé visa...   \n",
       "381  Suivi socio-administratif : individualisé visa...   \n",
       "382  Suivi socio-administratif : individualisé visa...   \n",
       "383  il vous sera demandé de passer une évaluation ...   \n",
       "\n",
       "                                     Version retraitée    Stratégie  \n",
       "0    Des ateliers 2 fois par semaine pour progresse...   Complement  \n",
       "1    Des ateliers 2 fois par semaine pour progresse...   Complement  \n",
       "2    Des ateliers pour progresser en français, mieu...  SynSemantic  \n",
       "3    Des ateliers pour progresser en français, mieu...  Compression  \n",
       "4    Des ateliers pour progresser en français, mieu...    Syntactic  \n",
       "..                                                 ...          ...  \n",
       "379  Conseils pour trouver une garde d'enfant, un m...   Modulation  \n",
       "380  Conseils pour trouver une garde d'enfant, un m...  SynSemantic  \n",
       "381  Conseils pour trouver une garde d'enfant, un m...  Explanation  \n",
       "382  Conseils pour trouver une garde d'enfant, un m...     Examples  \n",
       "383        vous allez faire une évaluation en français  Compression  \n",
       "\n",
       "[384 rows x 3 columns]"
      ]
     },
     "execution_count": 10,
     "metadata": {},
     "output_type": "execute_result"
    }
   ],
   "source": [
    "df"
   ]
  },
  {
   "cell_type": "code",
   "execution_count": 13,
   "metadata": {},
   "outputs": [
    {
     "data": {
      "text/plain": [
       "Stratégie\n",
       "SynSemantic      73\n",
       "Transcription    57\n",
       "Complement       51\n",
       "Syntactic        50\n",
       "Modulation       43\n",
       "Explanation      29\n",
       "Transposition    24\n",
       "Examples         23\n",
       "Compression      17\n",
       "Omission         14\n",
       "SynAcronyme       3\n",
       "Name: count, dtype: int64"
      ]
     },
     "execution_count": 13,
     "metadata": {},
     "output_type": "execute_result"
    }
   ],
   "source": [
    "df[\"Stratégie\"].value_counts()"
   ]
  },
  {
   "cell_type": "markdown",
   "metadata": {},
   "source": [
    "## Data cleaning"
   ]
  },
  {
   "cell_type": "code",
   "execution_count": 16,
   "metadata": {},
   "outputs": [],
   "source": [
    "data = df\n",
    "\n",
    "# Drop empty columns\n",
    "data = data.dropna(how='all', axis=1)\n",
    "\n",
    "# Drop rows with missing values in required columns\n",
    "data = data.dropna(subset=data.columns)\n",
    "\n",
    "# Clean up the Strategy column\n",
    "data['Stratégie'] = data['Stratégie'].str.replace(\"\\xa0\", \"\").str.replace(\" \", \"\")\n",
    "\n"
   ]
  },
  {
   "cell_type": "markdown",
   "metadata": {},
   "source": [
    "## Split train / test data"
   ]
  },
  {
   "cell_type": "code",
   "execution_count": null,
   "metadata": {},
   "outputs": [],
   "source": []
  }
 ],
 "metadata": {
  "kernelspec": {
   "display_name": ".venv",
   "language": "python",
   "name": "python3"
  },
  "language_info": {
   "codemirror_mode": {
    "name": "ipython",
    "version": 3
   },
   "file_extension": ".py",
   "mimetype": "text/x-python",
   "name": "python",
   "nbconvert_exporter": "python",
   "pygments_lexer": "ipython3",
   "version": "3.12.5"
  }
 },
 "nbformat": 4,
 "nbformat_minor": 2
}
