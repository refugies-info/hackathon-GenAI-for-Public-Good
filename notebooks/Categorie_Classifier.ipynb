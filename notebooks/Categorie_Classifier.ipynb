{
  "nbformat": 4,
  "nbformat_minor": 0,
  "metadata": {
    "colab": {
      "provenance": [],
      "machine_shape": "hm",
      "gpuType": "T4"
    },
    "kernelspec": {
      "name": "python3",
      "display_name": "Python 3"
    },
    "language_info": {
      "name": "python"
    },
    "accelerator": "GPU"
  },
  "cells": [
    {
      "cell_type": "markdown",
      "metadata": {
        "id": "Fg-hHCYEX98V"
      },
      "source": [
        "[![Open In Colab](https://colab.research.google.com/assets/colab-badge.svg)](https://github.com/refugies-info/genai-for-public-good/blob/main/notebooks/Categorie_Classifier.ipynb)
]    ]
{

      "cell_type": "markdown",
      "source": [
        "#**Simplification Typology Classifier using mBert**\n",
        "\n",
        "\n",
        "\n"
      ],
      "metadata": {
        "id": "l6kbJaSvdm8C"
      }
    },
    {
      "cell_type": "markdown",
      "source": [
        "This NoteBook is deticated to explore the use of pre-trained transformer-based models for multiclass text classification. The primary focus is on predicting the appropriate simplification strategies required to simplify respective SE sentences.\n",
        "\n",
        "\n"
      ],
      "metadata": {
        "id": "Gh4FhylUgHbr"
      }
    },
    {
      "cell_type": "markdown",
      "source": [
        "---\n",
        "\n",
        "### **Text Simplification Strategies**  \n",
        "Strategies for text simplification vary along a spectrum from **omission** (removing text) to **explanation** (adding clarifications). The **transcription** strategy lies in the middle, maintaining the original content without modifications.  \n",
        "\n",
        "#### **Macro-Strategies and Their Subcategories**  \n",
        "Text simplification is structured into **macro-strategies**, which are further divided into **strategies** and **micro-strategies**:  \n",
        "\n",
        "📌 **Transcription** – No changes are made to the original text.  \n",
        "📌 **Syntactic Change** – Adjustments between different syntactic levels.  \n",
        "📌 **Transposition** – Changes in word class (e.g., transforming a noun into a verb).  \n",
        "📌 **Synonymy** – Simplifying technical or abstract words (e.g., *conversation* → *talk*).  \n",
        "📌 **Modulation** – Reorganizing sentence structure without altering meaning.  \n",
        "📌 **Explanation** – Expanding on implicit grammar or hidden content.  \n",
        "📌 **Illocutionary Change** – Making implied meanings explicit.  \n",
        "📌 **Compression** – Condensing grammatical or semantic constructs for clarity.  \n",
        "📌 **Omission** – Removing redundant rhetorical or diamesic elements.  \n",
        "\n",
        "---\n",
        "![Taxonomy](https://drive.google.com/uc?id=1Hs8zyBESJEWZ_B7Kylm-gcH-Bg-ogsg2)\n"
      ],
      "metadata": {
        "id": "HBO0VFMcxyfc"
      }
    },
    {
      "cell_type": "markdown",
      "source": [
        "---\n",
        "> ### Load the data\n",
        "\n",
        "----\n"
      ],
      "metadata": {
        "id": "dcORk-xzd4EC"
      }
    },
    {
      "cell_type": "code",
      "source": [
        "!pip install gdown\n",
        "!gdown \"https://drive.google.com/uc?id=1z-SRYUL6bAHQ-vfP0AJgxMjpkCd-56iP\"\n"
      ],
      "metadata": {
        "colab": {
          "base_uri": "https://localhost:8080/"
        },
        "id": "_iPKt2pEimIR",
        "outputId": "b37076b2-f071-4d02-bf51-69c0526398f6"
      },
      "execution_count": 1,
      "outputs": [
        {
          "output_type": "stream",
          "name": "stdout",
          "text": [
            "Requirement already satisfied: gdown in /usr/local/lib/python3.11/dist-packages (5.2.0)\n",
            "Requirement already satisfied: beautifulsoup4 in /usr/local/lib/python3.11/dist-packages (from gdown) (4.12.3)\n",
            "Requirement already satisfied: filelock in /usr/local/lib/python3.11/dist-packages (from gdown) (3.17.0)\n",
            "Requirement already satisfied: requests[socks] in /usr/local/lib/python3.11/dist-packages (from gdown) (2.32.3)\n",
            "Requirement already satisfied: tqdm in /usr/local/lib/python3.11/dist-packages (from gdown) (4.67.1)\n",
            "Requirement already satisfied: soupsieve>1.2 in /usr/local/lib/python3.11/dist-packages (from beautifulsoup4->gdown) (2.6)\n",
            "Requirement already satisfied: charset-normalizer<4,>=2 in /usr/local/lib/python3.11/dist-packages (from requests[socks]->gdown) (3.4.1)\n",
            "Requirement already satisfied: idna<4,>=2.5 in /usr/local/lib/python3.11/dist-packages (from requests[socks]->gdown) (3.10)\n",
            "Requirement already satisfied: urllib3<3,>=1.21.1 in /usr/local/lib/python3.11/dist-packages (from requests[socks]->gdown) (2.3.0)\n",
            "Requirement already satisfied: certifi>=2017.4.17 in /usr/local/lib/python3.11/dist-packages (from requests[socks]->gdown) (2024.12.14)\n",
            "Requirement already satisfied: PySocks!=1.5.7,>=1.5.6 in /usr/local/lib/python3.11/dist-packages (from requests[socks]->gdown) (1.7.1)\n",
            "Downloading...\n",
            "From: https://drive.google.com/uc?id=1z-SRYUL6bAHQ-vfP0AJgxMjpkCd-56iP\n",
            "To: /content/ri_annotated_texts_final.csv\n",
            "100% 76.8k/76.8k [00:00<00:00, 111MB/s]\n"
          ]
        }
      ]
    },
    {
      "cell_type": "code",
      "execution_count": 2,
      "metadata": {
        "id": "pnkGY9OMdWPq"
      },
      "outputs": [],
      "source": [
        "import pandas as pd\n",
        "file_path = 'ri_annotated_texts_final.csv'\n",
        "data = pd.read_csv(file_path)"
      ]
    },
    {
      "cell_type": "markdown",
      "source": [
        "\n",
        "\n",
        "---\n",
        "\n",
        "\n",
        "\n",
        "\n",
        "> ### Data Exploration and Analysis\n",
        "\n",
        "\n",
        "\n",
        "\n",
        "\n",
        "---\n",
        "\n"
      ],
      "metadata": {
        "id": "cZB0eau4kArg"
      }
    },
    {
      "cell_type": "code",
      "source": [
        "# Display basic information and first few rows\n",
        "data.info()"
      ],
      "metadata": {
        "colab": {
          "base_uri": "https://localhost:8080/"
        },
        "id": "rHVVEMmSopzr",
        "outputId": "2bc7fa88-4469-4149-9995-73f75eaac359"
      },
      "execution_count": 3,
      "outputs": [
        {
          "output_type": "stream",
          "name": "stdout",
          "text": [
            "<class 'pandas.core.frame.DataFrame'>\n",
            "RangeIndex: 370 entries, 0 to 369\n",
            "Data columns (total 3 columns):\n",
            " #   Column             Non-Null Count  Dtype \n",
            "---  ------             --------------  ----- \n",
            " 0   Version initiale   370 non-null    object\n",
            " 1   Version retraitée  370 non-null    object\n",
            " 2   Catégorie          370 non-null    object\n",
            "dtypes: object(3)\n",
            "memory usage: 8.8+ KB\n"
          ]
        }
      ]
    },
    {
      "cell_type": "code",
      "source": [
        "# Display the first few rows of the dataset\n",
        "data.head()"
      ],
      "metadata": {
        "colab": {
          "base_uri": "https://localhost:8080/",
          "height": 206
        },
        "id": "DExzH-SRivJS",
        "outputId": "a2b0faf4-6721-48a2-a226-13a1597f7276"
      },
      "execution_count": 4,
      "outputs": [
        {
          "output_type": "execute_result",
          "data": {
            "text/plain": [
              "                                    Version initiale  \\\n",
              "0  Dispositif d'apprentissage du français : perme...   \n",
              "1  Dispositif d'apprentissage du français : perme...   \n",
              "2  Dispositif d'apprentissage du français : perme...   \n",
              "3  Dispositif d'apprentissage du français : perme...   \n",
              "4  Dispositif d'apprentissage du français : perme...   \n",
              "\n",
              "                                   Version retraitée     Catégorie  \n",
              "0  Des ateliers 2 fois par semaine pour progresse...   Explanation  \n",
              "1  Des ateliers 2 fois par semaine pour progresse...   Explanation  \n",
              "2  Des ateliers pour progresser en français, mieu...  Substitution  \n",
              "3  Des ateliers pour progresser en français, mieu...   Compression  \n",
              "4  Des ateliers pour progresser en français, mieu...     Syntactic  "
            ],
            "text/html": [
              "\n",
              "  <div id=\"df-9d118926-38a5-4def-b8a6-9421284ea039\" class=\"colab-df-container\">\n",
              "    <div>\n",
              "<style scoped>\n",
              "    .dataframe tbody tr th:only-of-type {\n",
              "        vertical-align: middle;\n",
              "    }\n",
              "\n",
              "    .dataframe tbody tr th {\n",
              "        vertical-align: top;\n",
              "    }\n",
              "\n",
              "    .dataframe thead th {\n",
              "        text-align: right;\n",
              "    }\n",
              "</style>\n",
              "<table border=\"1\" class=\"dataframe\">\n",
              "  <thead>\n",
              "    <tr style=\"text-align: right;\">\n",
              "      <th></th>\n",
              "      <th>Version initiale</th>\n",
              "      <th>Version retraitée</th>\n",
              "      <th>Catégorie</th>\n",
              "    </tr>\n",
              "  </thead>\n",
              "  <tbody>\n",
              "    <tr>\n",
              "      <th>0</th>\n",
              "      <td>Dispositif d'apprentissage du français : perme...</td>\n",
              "      <td>Des ateliers 2 fois par semaine pour progresse...</td>\n",
              "      <td>Explanation</td>\n",
              "    </tr>\n",
              "    <tr>\n",
              "      <th>1</th>\n",
              "      <td>Dispositif d'apprentissage du français : perme...</td>\n",
              "      <td>Des ateliers 2 fois par semaine pour progresse...</td>\n",
              "      <td>Explanation</td>\n",
              "    </tr>\n",
              "    <tr>\n",
              "      <th>2</th>\n",
              "      <td>Dispositif d'apprentissage du français : perme...</td>\n",
              "      <td>Des ateliers pour progresser en français, mieu...</td>\n",
              "      <td>Substitution</td>\n",
              "    </tr>\n",
              "    <tr>\n",
              "      <th>3</th>\n",
              "      <td>Dispositif d'apprentissage du français : perme...</td>\n",
              "      <td>Des ateliers pour progresser en français, mieu...</td>\n",
              "      <td>Compression</td>\n",
              "    </tr>\n",
              "    <tr>\n",
              "      <th>4</th>\n",
              "      <td>Dispositif d'apprentissage du français : perme...</td>\n",
              "      <td>Des ateliers pour progresser en français, mieu...</td>\n",
              "      <td>Syntactic</td>\n",
              "    </tr>\n",
              "  </tbody>\n",
              "</table>\n",
              "</div>\n",
              "    <div class=\"colab-df-buttons\">\n",
              "\n",
              "  <div class=\"colab-df-container\">\n",
              "    <button class=\"colab-df-convert\" onclick=\"convertToInteractive('df-9d118926-38a5-4def-b8a6-9421284ea039')\"\n",
              "            title=\"Convert this dataframe to an interactive table.\"\n",
              "            style=\"display:none;\">\n",
              "\n",
              "  <svg xmlns=\"http://www.w3.org/2000/svg\" height=\"24px\" viewBox=\"0 -960 960 960\">\n",
              "    <path d=\"M120-120v-720h720v720H120Zm60-500h600v-160H180v160Zm220 220h160v-160H400v160Zm0 220h160v-160H400v160ZM180-400h160v-160H180v160Zm440 0h160v-160H620v160ZM180-180h160v-160H180v160Zm440 0h160v-160H620v160Z\"/>\n",
              "  </svg>\n",
              "    </button>\n",
              "\n",
              "  <style>\n",
              "    .colab-df-container {\n",
              "      display:flex;\n",
              "      gap: 12px;\n",
              "    }\n",
              "\n",
              "    .colab-df-convert {\n",
              "      background-color: #E8F0FE;\n",
              "      border: none;\n",
              "      border-radius: 50%;\n",
              "      cursor: pointer;\n",
              "      display: none;\n",
              "      fill: #1967D2;\n",
              "      height: 32px;\n",
              "      padding: 0 0 0 0;\n",
              "      width: 32px;\n",
              "    }\n",
              "\n",
              "    .colab-df-convert:hover {\n",
              "      background-color: #E2EBFA;\n",
              "      box-shadow: 0px 1px 2px rgba(60, 64, 67, 0.3), 0px 1px 3px 1px rgba(60, 64, 67, 0.15);\n",
              "      fill: #174EA6;\n",
              "    }\n",
              "\n",
              "    .colab-df-buttons div {\n",
              "      margin-bottom: 4px;\n",
              "    }\n",
              "\n",
              "    [theme=dark] .colab-df-convert {\n",
              "      background-color: #3B4455;\n",
              "      fill: #D2E3FC;\n",
              "    }\n",
              "\n",
              "    [theme=dark] .colab-df-convert:hover {\n",
              "      background-color: #434B5C;\n",
              "      box-shadow: 0px 1px 3px 1px rgba(0, 0, 0, 0.15);\n",
              "      filter: drop-shadow(0px 1px 2px rgba(0, 0, 0, 0.3));\n",
              "      fill: #FFFFFF;\n",
              "    }\n",
              "  </style>\n",
              "\n",
              "    <script>\n",
              "      const buttonEl =\n",
              "        document.querySelector('#df-9d118926-38a5-4def-b8a6-9421284ea039 button.colab-df-convert');\n",
              "      buttonEl.style.display =\n",
              "        google.colab.kernel.accessAllowed ? 'block' : 'none';\n",
              "\n",
              "      async function convertToInteractive(key) {\n",
              "        const element = document.querySelector('#df-9d118926-38a5-4def-b8a6-9421284ea039');\n",
              "        const dataTable =\n",
              "          await google.colab.kernel.invokeFunction('convertToInteractive',\n",
              "                                                    [key], {});\n",
              "        if (!dataTable) return;\n",
              "\n",
              "        const docLinkHtml = 'Like what you see? Visit the ' +\n",
              "          '<a target=\"_blank\" href=https://colab.research.google.com/notebooks/data_table.ipynb>data table notebook</a>'\n",
              "          + ' to learn more about interactive tables.';\n",
              "        element.innerHTML = '';\n",
              "        dataTable['output_type'] = 'display_data';\n",
              "        await google.colab.output.renderOutput(dataTable, element);\n",
              "        const docLink = document.createElement('div');\n",
              "        docLink.innerHTML = docLinkHtml;\n",
              "        element.appendChild(docLink);\n",
              "      }\n",
              "    </script>\n",
              "  </div>\n",
              "\n",
              "\n",
              "<div id=\"df-1d2b826e-df10-4601-88fa-afbc59ca9953\">\n",
              "  <button class=\"colab-df-quickchart\" onclick=\"quickchart('df-1d2b826e-df10-4601-88fa-afbc59ca9953')\"\n",
              "            title=\"Suggest charts\"\n",
              "            style=\"display:none;\">\n",
              "\n",
              "<svg xmlns=\"http://www.w3.org/2000/svg\" height=\"24px\"viewBox=\"0 0 24 24\"\n",
              "     width=\"24px\">\n",
              "    <g>\n",
              "        <path d=\"M19 3H5c-1.1 0-2 .9-2 2v14c0 1.1.9 2 2 2h14c1.1 0 2-.9 2-2V5c0-1.1-.9-2-2-2zM9 17H7v-7h2v7zm4 0h-2V7h2v10zm4 0h-2v-4h2v4z\"/>\n",
              "    </g>\n",
              "</svg>\n",
              "  </button>\n",
              "\n",
              "<style>\n",
              "  .colab-df-quickchart {\n",
              "      --bg-color: #E8F0FE;\n",
              "      --fill-color: #1967D2;\n",
              "      --hover-bg-color: #E2EBFA;\n",
              "      --hover-fill-color: #174EA6;\n",
              "      --disabled-fill-color: #AAA;\n",
              "      --disabled-bg-color: #DDD;\n",
              "  }\n",
              "\n",
              "  [theme=dark] .colab-df-quickchart {\n",
              "      --bg-color: #3B4455;\n",
              "      --fill-color: #D2E3FC;\n",
              "      --hover-bg-color: #434B5C;\n",
              "      --hover-fill-color: #FFFFFF;\n",
              "      --disabled-bg-color: #3B4455;\n",
              "      --disabled-fill-color: #666;\n",
              "  }\n",
              "\n",
              "  .colab-df-quickchart {\n",
              "    background-color: var(--bg-color);\n",
              "    border: none;\n",
              "    border-radius: 50%;\n",
              "    cursor: pointer;\n",
              "    display: none;\n",
              "    fill: var(--fill-color);\n",
              "    height: 32px;\n",
              "    padding: 0;\n",
              "    width: 32px;\n",
              "  }\n",
              "\n",
              "  .colab-df-quickchart:hover {\n",
              "    background-color: var(--hover-bg-color);\n",
              "    box-shadow: 0 1px 2px rgba(60, 64, 67, 0.3), 0 1px 3px 1px rgba(60, 64, 67, 0.15);\n",
              "    fill: var(--button-hover-fill-color);\n",
              "  }\n",
              "\n",
              "  .colab-df-quickchart-complete:disabled,\n",
              "  .colab-df-quickchart-complete:disabled:hover {\n",
              "    background-color: var(--disabled-bg-color);\n",
              "    fill: var(--disabled-fill-color);\n",
              "    box-shadow: none;\n",
              "  }\n",
              "\n",
              "  .colab-df-spinner {\n",
              "    border: 2px solid var(--fill-color);\n",
              "    border-color: transparent;\n",
              "    border-bottom-color: var(--fill-color);\n",
              "    animation:\n",
              "      spin 1s steps(1) infinite;\n",
              "  }\n",
              "\n",
              "  @keyframes spin {\n",
              "    0% {\n",
              "      border-color: transparent;\n",
              "      border-bottom-color: var(--fill-color);\n",
              "      border-left-color: var(--fill-color);\n",
              "    }\n",
              "    20% {\n",
              "      border-color: transparent;\n",
              "      border-left-color: var(--fill-color);\n",
              "      border-top-color: var(--fill-color);\n",
              "    }\n",
              "    30% {\n",
              "      border-color: transparent;\n",
              "      border-left-color: var(--fill-color);\n",
              "      border-top-color: var(--fill-color);\n",
              "      border-right-color: var(--fill-color);\n",
              "    }\n",
              "    40% {\n",
              "      border-color: transparent;\n",
              "      border-right-color: var(--fill-color);\n",
              "      border-top-color: var(--fill-color);\n",
              "    }\n",
              "    60% {\n",
              "      border-color: transparent;\n",
              "      border-right-color: var(--fill-color);\n",
              "    }\n",
              "    80% {\n",
              "      border-color: transparent;\n",
              "      border-right-color: var(--fill-color);\n",
              "      border-bottom-color: var(--fill-color);\n",
              "    }\n",
              "    90% {\n",
              "      border-color: transparent;\n",
              "      border-bottom-color: var(--fill-color);\n",
              "    }\n",
              "  }\n",
              "</style>\n",
              "\n",
              "  <script>\n",
              "    async function quickchart(key) {\n",
              "      const quickchartButtonEl =\n",
              "        document.querySelector('#' + key + ' button');\n",
              "      quickchartButtonEl.disabled = true;  // To prevent multiple clicks.\n",
              "      quickchartButtonEl.classList.add('colab-df-spinner');\n",
              "      try {\n",
              "        const charts = await google.colab.kernel.invokeFunction(\n",
              "            'suggestCharts', [key], {});\n",
              "      } catch (error) {\n",
              "        console.error('Error during call to suggestCharts:', error);\n",
              "      }\n",
              "      quickchartButtonEl.classList.remove('colab-df-spinner');\n",
              "      quickchartButtonEl.classList.add('colab-df-quickchart-complete');\n",
              "    }\n",
              "    (() => {\n",
              "      let quickchartButtonEl =\n",
              "        document.querySelector('#df-1d2b826e-df10-4601-88fa-afbc59ca9953 button');\n",
              "      quickchartButtonEl.style.display =\n",
              "        google.colab.kernel.accessAllowed ? 'block' : 'none';\n",
              "    })();\n",
              "  </script>\n",
              "</div>\n",
              "\n",
              "    </div>\n",
              "  </div>\n"
            ],
            "application/vnd.google.colaboratory.intrinsic+json": {
              "type": "dataframe",
              "variable_name": "data",
              "summary": "{\n  \"name\": \"data\",\n  \"rows\": 370,\n  \"fields\": [\n    {\n      \"column\": \"Version initiale\",\n      \"properties\": {\n        \"dtype\": \"string\",\n        \"num_unique_values\": 258,\n        \"samples\": [\n          \"L'inscription \\u00e0 la Mission Locale de Paris est n\\u00e9cessaire pour\\nb\\u00e9n\\u00e9ficier de l'action. L'accueil du public a lieu sur les 6 sites parisiens :\",\n          \"Nous vous rencontrons dans un des quartiers de la ville selon votre convenance : Adrien Pereira, Le Blosne, Centre\",\n          \"Permanence d'inscription\"\n        ],\n        \"semantic_type\": \"\",\n        \"description\": \"\"\n      }\n    },\n    {\n      \"column\": \"Version retrait\\u00e9e\",\n      \"properties\": {\n        \"dtype\": \"string\",\n        \"num_unique_values\": 262,\n        \"samples\": [\n          \"- par mail : renardstephane@example.net\",\n          \"Apprendre le fran\\u00e7ais niveau d\\u00e9butant\",\n          \"Demander \\u00e0 un professionnel ou un b\\u00e9n\\u00e9vole\\nde nous contacter\"\n        ],\n        \"semantic_type\": \"\",\n        \"description\": \"\"\n      }\n    },\n    {\n      \"column\": \"Cat\\u00e9gorie\",\n      \"properties\": {\n        \"dtype\": \"category\",\n        \"num_unique_values\": 9,\n        \"samples\": [\n          \"Omission\",\n          \"Substitution\",\n          \"Transposition\"\n        ],\n        \"semantic_type\": \"\",\n        \"description\": \"\"\n      }\n    }\n  ]\n}"
            }
          },
          "metadata": {},
          "execution_count": 4
        }
      ]
    },
    {
      "cell_type": "markdown",
      "source": [
        "\n",
        "\n",
        "```\n",
        "load important libiraries for visualisation\n",
        "```\n",
        "\n"
      ],
      "metadata": {
        "id": "uTiSXUabrYC3"
      }
    },
    {
      "cell_type": "code",
      "source": [
        "!pip install seaborn wordcloud ace_tools"
      ],
      "metadata": {
        "colab": {
          "base_uri": "https://localhost:8080/"
        },
        "id": "3zzrLpEQrUKT",
        "outputId": "817f670b-79b6-45a9-a30d-a5bb27d8288e"
      },
      "execution_count": 5,
      "outputs": [
        {
          "output_type": "stream",
          "name": "stdout",
          "text": [
            "Requirement already satisfied: seaborn in /usr/local/lib/python3.11/dist-packages (0.13.2)\n",
            "Requirement already satisfied: wordcloud in /usr/local/lib/python3.11/dist-packages (1.9.4)\n",
            "Requirement already satisfied: ace_tools in /usr/local/lib/python3.11/dist-packages (0.0)\n",
            "Requirement already satisfied: numpy!=1.24.0,>=1.20 in /usr/local/lib/python3.11/dist-packages (from seaborn) (1.26.4)\n",
            "Requirement already satisfied: pandas>=1.2 in /usr/local/lib/python3.11/dist-packages (from seaborn) (2.2.2)\n",
            "Requirement already satisfied: matplotlib!=3.6.1,>=3.4 in /usr/local/lib/python3.11/dist-packages (from seaborn) (3.10.0)\n",
            "Requirement already satisfied: pillow in /usr/local/lib/python3.11/dist-packages (from wordcloud) (11.1.0)\n",
            "Requirement already satisfied: contourpy>=1.0.1 in /usr/local/lib/python3.11/dist-packages (from matplotlib!=3.6.1,>=3.4->seaborn) (1.3.1)\n",
            "Requirement already satisfied: cycler>=0.10 in /usr/local/lib/python3.11/dist-packages (from matplotlib!=3.6.1,>=3.4->seaborn) (0.12.1)\n",
            "Requirement already satisfied: fonttools>=4.22.0 in /usr/local/lib/python3.11/dist-packages (from matplotlib!=3.6.1,>=3.4->seaborn) (4.55.7)\n",
            "Requirement already satisfied: kiwisolver>=1.3.1 in /usr/local/lib/python3.11/dist-packages (from matplotlib!=3.6.1,>=3.4->seaborn) (1.4.8)\n",
            "Requirement already satisfied: packaging>=20.0 in /usr/local/lib/python3.11/dist-packages (from matplotlib!=3.6.1,>=3.4->seaborn) (24.2)\n",
            "Requirement already satisfied: pyparsing>=2.3.1 in /usr/local/lib/python3.11/dist-packages (from matplotlib!=3.6.1,>=3.4->seaborn) (3.2.1)\n",
            "Requirement already satisfied: python-dateutil>=2.7 in /usr/local/lib/python3.11/dist-packages (from matplotlib!=3.6.1,>=3.4->seaborn) (2.8.2)\n",
            "Requirement already satisfied: pytz>=2020.1 in /usr/local/lib/python3.11/dist-packages (from pandas>=1.2->seaborn) (2024.2)\n",
            "Requirement already satisfied: tzdata>=2022.7 in /usr/local/lib/python3.11/dist-packages (from pandas>=1.2->seaborn) (2025.1)\n",
            "Requirement already satisfied: six>=1.5 in /usr/local/lib/python3.11/dist-packages (from python-dateutil>=2.7->matplotlib!=3.6.1,>=3.4->seaborn) (1.17.0)\n"
          ]
        }
      ]
    },
    {
      "cell_type": "code",
      "source": [
        "import pandas as pd\n",
        "import plotly.express as px\n",
        "import plotly.graph_objects as go\n",
        "import nltk\n",
        "from nltk.corpus import stopwords\n",
        "from collections import Counter\n",
        "from wordcloud import WordCloud"
      ],
      "metadata": {
        "id": "At8Gusygo4Lf"
      },
      "execution_count": 6,
      "outputs": []
    },
    {
      "cell_type": "markdown",
      "source": [
        "\n",
        "\n",
        "> Distribution of Simplification Strategies\n",
        "\n"
      ],
      "metadata": {
        "id": "9g3ZvM5So8s-"
      }
    },
    {
      "cell_type": "code",
      "source": [
        "# Plotly bar chart for distribution of categories\n",
        "fig = px.bar(data['Catégorie'].value_counts().reset_index(),\n",
        "             x='Catégorie',\n",
        "             y='count',\n",
        "             labels={'Catégorie': 'Simplification Strategy', 'count': 'Count'},  # Updated labels\n",
        "             title='Distribution of Simplification Strategies')\n",
        "fig.show()"
      ],
      "metadata": {
        "colab": {
          "base_uri": "https://localhost:8080/",
          "height": 542
        },
        "id": "LfA-ayi3o8fx",
        "outputId": "5087bb89-906c-4d82-ae18-46ba2dd7916a"
      },
      "execution_count": 7,
      "outputs": [
        {
          "output_type": "display_data",
          "data": {
            "text/html": [
              "<html>\n",
              "<head><meta charset=\"utf-8\" /></head>\n",
              "<body>\n",
              "    <div>            <script src=\"https://cdnjs.cloudflare.com/ajax/libs/mathjax/2.7.5/MathJax.js?config=TeX-AMS-MML_SVG\"></script><script type=\"text/javascript\">if (window.MathJax && window.MathJax.Hub && window.MathJax.Hub.Config) {window.MathJax.Hub.Config({SVG: {font: \"STIX-Web\"}});}</script>                <script type=\"text/javascript\">window.PlotlyConfig = {MathJaxConfig: 'local'};</script>\n",
              "        <script charset=\"utf-8\" src=\"https://cdn.plot.ly/plotly-2.35.2.min.js\"></script>                <div id=\"5cb3e2fd-c234-4d3f-9ccf-a5585d82d58f\" class=\"plotly-graph-div\" style=\"height:525px; width:100%;\"></div>            <script type=\"text/javascript\">                                    window.PLOTLYENV=window.PLOTLYENV || {};                                    if (document.getElementById(\"5cb3e2fd-c234-4d3f-9ccf-a5585d82d58f\")) {                    Plotly.newPlot(                        \"5cb3e2fd-c234-4d3f-9ccf-a5585d82d58f\",                        [{\"alignmentgroup\":\"True\",\"hovertemplate\":\"Simplification Strategy=%{x}\\u003cbr\\u003eCount=%{y}\\u003cextra\\u003e\\u003c\\u002fextra\\u003e\",\"legendgroup\":\"\",\"marker\":{\"color\":\"#636efa\",\"pattern\":{\"shape\":\"\"}},\"name\":\"\",\"offsetgroup\":\"\",\"orientation\":\"v\",\"showlegend\":false,\"textposition\":\"auto\",\"x\":[\"Explanation\",\"Substitution\",\"Transcription\",\"Syntactic\",\"Modulation\",\"Transposition\",\"Compression\",\"Omission\",\"Synonymy\"],\"xaxis\":\"x\",\"y\":[92,73,54,50,43,24,17,14,3],\"yaxis\":\"y\",\"type\":\"bar\"}],                        {\"template\":{\"data\":{\"histogram2dcontour\":[{\"type\":\"histogram2dcontour\",\"colorbar\":{\"outlinewidth\":0,\"ticks\":\"\"},\"colorscale\":[[0.0,\"#0d0887\"],[0.1111111111111111,\"#46039f\"],[0.2222222222222222,\"#7201a8\"],[0.3333333333333333,\"#9c179e\"],[0.4444444444444444,\"#bd3786\"],[0.5555555555555556,\"#d8576b\"],[0.6666666666666666,\"#ed7953\"],[0.7777777777777778,\"#fb9f3a\"],[0.8888888888888888,\"#fdca26\"],[1.0,\"#f0f921\"]]}],\"choropleth\":[{\"type\":\"choropleth\",\"colorbar\":{\"outlinewidth\":0,\"ticks\":\"\"}}],\"histogram2d\":[{\"type\":\"histogram2d\",\"colorbar\":{\"outlinewidth\":0,\"ticks\":\"\"},\"colorscale\":[[0.0,\"#0d0887\"],[0.1111111111111111,\"#46039f\"],[0.2222222222222222,\"#7201a8\"],[0.3333333333333333,\"#9c179e\"],[0.4444444444444444,\"#bd3786\"],[0.5555555555555556,\"#d8576b\"],[0.6666666666666666,\"#ed7953\"],[0.7777777777777778,\"#fb9f3a\"],[0.8888888888888888,\"#fdca26\"],[1.0,\"#f0f921\"]]}],\"heatmap\":[{\"type\":\"heatmap\",\"colorbar\":{\"outlinewidth\":0,\"ticks\":\"\"},\"colorscale\":[[0.0,\"#0d0887\"],[0.1111111111111111,\"#46039f\"],[0.2222222222222222,\"#7201a8\"],[0.3333333333333333,\"#9c179e\"],[0.4444444444444444,\"#bd3786\"],[0.5555555555555556,\"#d8576b\"],[0.6666666666666666,\"#ed7953\"],[0.7777777777777778,\"#fb9f3a\"],[0.8888888888888888,\"#fdca26\"],[1.0,\"#f0f921\"]]}],\"heatmapgl\":[{\"type\":\"heatmapgl\",\"colorbar\":{\"outlinewidth\":0,\"ticks\":\"\"},\"colorscale\":[[0.0,\"#0d0887\"],[0.1111111111111111,\"#46039f\"],[0.2222222222222222,\"#7201a8\"],[0.3333333333333333,\"#9c179e\"],[0.4444444444444444,\"#bd3786\"],[0.5555555555555556,\"#d8576b\"],[0.6666666666666666,\"#ed7953\"],[0.7777777777777778,\"#fb9f3a\"],[0.8888888888888888,\"#fdca26\"],[1.0,\"#f0f921\"]]}],\"contourcarpet\":[{\"type\":\"contourcarpet\",\"colorbar\":{\"outlinewidth\":0,\"ticks\":\"\"}}],\"contour\":[{\"type\":\"contour\",\"colorbar\":{\"outlinewidth\":0,\"ticks\":\"\"},\"colorscale\":[[0.0,\"#0d0887\"],[0.1111111111111111,\"#46039f\"],[0.2222222222222222,\"#7201a8\"],[0.3333333333333333,\"#9c179e\"],[0.4444444444444444,\"#bd3786\"],[0.5555555555555556,\"#d8576b\"],[0.6666666666666666,\"#ed7953\"],[0.7777777777777778,\"#fb9f3a\"],[0.8888888888888888,\"#fdca26\"],[1.0,\"#f0f921\"]]}],\"surface\":[{\"type\":\"surface\",\"colorbar\":{\"outlinewidth\":0,\"ticks\":\"\"},\"colorscale\":[[0.0,\"#0d0887\"],[0.1111111111111111,\"#46039f\"],[0.2222222222222222,\"#7201a8\"],[0.3333333333333333,\"#9c179e\"],[0.4444444444444444,\"#bd3786\"],[0.5555555555555556,\"#d8576b\"],[0.6666666666666666,\"#ed7953\"],[0.7777777777777778,\"#fb9f3a\"],[0.8888888888888888,\"#fdca26\"],[1.0,\"#f0f921\"]]}],\"mesh3d\":[{\"type\":\"mesh3d\",\"colorbar\":{\"outlinewidth\":0,\"ticks\":\"\"}}],\"scatter\":[{\"fillpattern\":{\"fillmode\":\"overlay\",\"size\":10,\"solidity\":0.2},\"type\":\"scatter\"}],\"parcoords\":[{\"type\":\"parcoords\",\"line\":{\"colorbar\":{\"outlinewidth\":0,\"ticks\":\"\"}}}],\"scatterpolargl\":[{\"type\":\"scatterpolargl\",\"marker\":{\"colorbar\":{\"outlinewidth\":0,\"ticks\":\"\"}}}],\"bar\":[{\"error_x\":{\"color\":\"#2a3f5f\"},\"error_y\":{\"color\":\"#2a3f5f\"},\"marker\":{\"line\":{\"color\":\"#E5ECF6\",\"width\":0.5},\"pattern\":{\"fillmode\":\"overlay\",\"size\":10,\"solidity\":0.2}},\"type\":\"bar\"}],\"scattergeo\":[{\"type\":\"scattergeo\",\"marker\":{\"colorbar\":{\"outlinewidth\":0,\"ticks\":\"\"}}}],\"scatterpolar\":[{\"type\":\"scatterpolar\",\"marker\":{\"colorbar\":{\"outlinewidth\":0,\"ticks\":\"\"}}}],\"histogram\":[{\"marker\":{\"pattern\":{\"fillmode\":\"overlay\",\"size\":10,\"solidity\":0.2}},\"type\":\"histogram\"}],\"scattergl\":[{\"type\":\"scattergl\",\"marker\":{\"colorbar\":{\"outlinewidth\":0,\"ticks\":\"\"}}}],\"scatter3d\":[{\"type\":\"scatter3d\",\"line\":{\"colorbar\":{\"outlinewidth\":0,\"ticks\":\"\"}},\"marker\":{\"colorbar\":{\"outlinewidth\":0,\"ticks\":\"\"}}}],\"scattermapbox\":[{\"type\":\"scattermapbox\",\"marker\":{\"colorbar\":{\"outlinewidth\":0,\"ticks\":\"\"}}}],\"scatterternary\":[{\"type\":\"scatterternary\",\"marker\":{\"colorbar\":{\"outlinewidth\":0,\"ticks\":\"\"}}}],\"scattercarpet\":[{\"type\":\"scattercarpet\",\"marker\":{\"colorbar\":{\"outlinewidth\":0,\"ticks\":\"\"}}}],\"carpet\":[{\"aaxis\":{\"endlinecolor\":\"#2a3f5f\",\"gridcolor\":\"white\",\"linecolor\":\"white\",\"minorgridcolor\":\"white\",\"startlinecolor\":\"#2a3f5f\"},\"baxis\":{\"endlinecolor\":\"#2a3f5f\",\"gridcolor\":\"white\",\"linecolor\":\"white\",\"minorgridcolor\":\"white\",\"startlinecolor\":\"#2a3f5f\"},\"type\":\"carpet\"}],\"table\":[{\"cells\":{\"fill\":{\"color\":\"#EBF0F8\"},\"line\":{\"color\":\"white\"}},\"header\":{\"fill\":{\"color\":\"#C8D4E3\"},\"line\":{\"color\":\"white\"}},\"type\":\"table\"}],\"barpolar\":[{\"marker\":{\"line\":{\"color\":\"#E5ECF6\",\"width\":0.5},\"pattern\":{\"fillmode\":\"overlay\",\"size\":10,\"solidity\":0.2}},\"type\":\"barpolar\"}],\"pie\":[{\"automargin\":true,\"type\":\"pie\"}]},\"layout\":{\"autotypenumbers\":\"strict\",\"colorway\":[\"#636efa\",\"#EF553B\",\"#00cc96\",\"#ab63fa\",\"#FFA15A\",\"#19d3f3\",\"#FF6692\",\"#B6E880\",\"#FF97FF\",\"#FECB52\"],\"font\":{\"color\":\"#2a3f5f\"},\"hovermode\":\"closest\",\"hoverlabel\":{\"align\":\"left\"},\"paper_bgcolor\":\"white\",\"plot_bgcolor\":\"#E5ECF6\",\"polar\":{\"bgcolor\":\"#E5ECF6\",\"angularaxis\":{\"gridcolor\":\"white\",\"linecolor\":\"white\",\"ticks\":\"\"},\"radialaxis\":{\"gridcolor\":\"white\",\"linecolor\":\"white\",\"ticks\":\"\"}},\"ternary\":{\"bgcolor\":\"#E5ECF6\",\"aaxis\":{\"gridcolor\":\"white\",\"linecolor\":\"white\",\"ticks\":\"\"},\"baxis\":{\"gridcolor\":\"white\",\"linecolor\":\"white\",\"ticks\":\"\"},\"caxis\":{\"gridcolor\":\"white\",\"linecolor\":\"white\",\"ticks\":\"\"}},\"coloraxis\":{\"colorbar\":{\"outlinewidth\":0,\"ticks\":\"\"}},\"colorscale\":{\"sequential\":[[0.0,\"#0d0887\"],[0.1111111111111111,\"#46039f\"],[0.2222222222222222,\"#7201a8\"],[0.3333333333333333,\"#9c179e\"],[0.4444444444444444,\"#bd3786\"],[0.5555555555555556,\"#d8576b\"],[0.6666666666666666,\"#ed7953\"],[0.7777777777777778,\"#fb9f3a\"],[0.8888888888888888,\"#fdca26\"],[1.0,\"#f0f921\"]],\"sequentialminus\":[[0.0,\"#0d0887\"],[0.1111111111111111,\"#46039f\"],[0.2222222222222222,\"#7201a8\"],[0.3333333333333333,\"#9c179e\"],[0.4444444444444444,\"#bd3786\"],[0.5555555555555556,\"#d8576b\"],[0.6666666666666666,\"#ed7953\"],[0.7777777777777778,\"#fb9f3a\"],[0.8888888888888888,\"#fdca26\"],[1.0,\"#f0f921\"]],\"diverging\":[[0,\"#8e0152\"],[0.1,\"#c51b7d\"],[0.2,\"#de77ae\"],[0.3,\"#f1b6da\"],[0.4,\"#fde0ef\"],[0.5,\"#f7f7f7\"],[0.6,\"#e6f5d0\"],[0.7,\"#b8e186\"],[0.8,\"#7fbc41\"],[0.9,\"#4d9221\"],[1,\"#276419\"]]},\"xaxis\":{\"gridcolor\":\"white\",\"linecolor\":\"white\",\"ticks\":\"\",\"title\":{\"standoff\":15},\"zerolinecolor\":\"white\",\"automargin\":true,\"zerolinewidth\":2},\"yaxis\":{\"gridcolor\":\"white\",\"linecolor\":\"white\",\"ticks\":\"\",\"title\":{\"standoff\":15},\"zerolinecolor\":\"white\",\"automargin\":true,\"zerolinewidth\":2},\"scene\":{\"xaxis\":{\"backgroundcolor\":\"#E5ECF6\",\"gridcolor\":\"white\",\"linecolor\":\"white\",\"showbackground\":true,\"ticks\":\"\",\"zerolinecolor\":\"white\",\"gridwidth\":2},\"yaxis\":{\"backgroundcolor\":\"#E5ECF6\",\"gridcolor\":\"white\",\"linecolor\":\"white\",\"showbackground\":true,\"ticks\":\"\",\"zerolinecolor\":\"white\",\"gridwidth\":2},\"zaxis\":{\"backgroundcolor\":\"#E5ECF6\",\"gridcolor\":\"white\",\"linecolor\":\"white\",\"showbackground\":true,\"ticks\":\"\",\"zerolinecolor\":\"white\",\"gridwidth\":2}},\"shapedefaults\":{\"line\":{\"color\":\"#2a3f5f\"}},\"annotationdefaults\":{\"arrowcolor\":\"#2a3f5f\",\"arrowhead\":0,\"arrowwidth\":1},\"geo\":{\"bgcolor\":\"white\",\"landcolor\":\"#E5ECF6\",\"subunitcolor\":\"white\",\"showland\":true,\"showlakes\":true,\"lakecolor\":\"white\"},\"title\":{\"x\":0.05},\"mapbox\":{\"style\":\"light\"}}},\"xaxis\":{\"anchor\":\"y\",\"domain\":[0.0,1.0],\"title\":{\"text\":\"Simplification Strategy\"}},\"yaxis\":{\"anchor\":\"x\",\"domain\":[0.0,1.0],\"title\":{\"text\":\"Count\"}},\"legend\":{\"tracegroupgap\":0},\"title\":{\"text\":\"Distribution of Simplification Strategies\"},\"barmode\":\"relative\"},                        {\"responsive\": true}                    ).then(function(){\n",
              "                            \n",
              "var gd = document.getElementById('5cb3e2fd-c234-4d3f-9ccf-a5585d82d58f');\n",
              "var x = new MutationObserver(function (mutations, observer) {{\n",
              "        var display = window.getComputedStyle(gd).display;\n",
              "        if (!display || display === 'none') {{\n",
              "            console.log([gd, 'removed!']);\n",
              "            Plotly.purge(gd);\n",
              "            observer.disconnect();\n",
              "        }}\n",
              "}});\n",
              "\n",
              "// Listen for the removal of the full notebook cells\n",
              "var notebookContainer = gd.closest('#notebook-container');\n",
              "if (notebookContainer) {{\n",
              "    x.observe(notebookContainer, {childList: true});\n",
              "}}\n",
              "\n",
              "// Listen for the clearing of the current output cell\n",
              "var outputEl = gd.closest('.output');\n",
              "if (outputEl) {{\n",
              "    x.observe(outputEl, {childList: true});\n",
              "}}\n",
              "\n",
              "                        })                };                            </script>        </div>\n",
              "</body>\n",
              "</html>"
            ]
          },
          "metadata": {}
        }
      ]
    },
    {
      "cell_type": "markdown",
      "source": [
        "\n",
        "\n",
        "> Text Length Analysis\n",
        "\n"
      ],
      "metadata": {
        "id": "1uq3HnqspYZF"
      }
    },
    {
      "cell_type": "code",
      "source": [
        "data['Initial_Length'] = data['Version initiale'].apply(len)\n",
        "data['Retraited_Length'] = data['Version retraitée'].apply(len)\n",
        "\n",
        "# Plotly histogram for text length comparison\n",
        "fig = go.Figure()\n",
        "fig.add_trace(go.Histogram(x=data['Initial_Length'], name='Original Text Length', opacity=0.6))\n",
        "fig.add_trace(go.Histogram(x=data['Retraited_Length'], name='Simplified Text Length', opacity=0.6))\n",
        "fig.update_layout(title='Distribution of Text Lengths Before and After Simplification',\n",
        "                  xaxis_title='Text Length', yaxis_title='Frequency',\n",
        "                  barmode='overlay')\n",
        "fig.show()"
      ],
      "metadata": {
        "colab": {
          "base_uri": "https://localhost:8080/",
          "height": 542
        },
        "id": "8-kLbB-UpKwM",
        "outputId": "2bd809cf-7c43-4bc4-a5b0-05ff1dad62fa"
      },
      "execution_count": 8,
      "outputs": [
        {
          "output_type": "display_data",
          "data": {
            "text/html": [
              "<html>\n",
              "<head><meta charset=\"utf-8\" /></head>\n",
              "<body>\n",
              "    <div>            <script src=\"https://cdnjs.cloudflare.com/ajax/libs/mathjax/2.7.5/MathJax.js?config=TeX-AMS-MML_SVG\"></script><script type=\"text/javascript\">if (window.MathJax && window.MathJax.Hub && window.MathJax.Hub.Config) {window.MathJax.Hub.Config({SVG: {font: \"STIX-Web\"}});}</script>                <script type=\"text/javascript\">window.PlotlyConfig = {MathJaxConfig: 'local'};</script>\n",
              "        <script charset=\"utf-8\" src=\"https://cdn.plot.ly/plotly-2.35.2.min.js\"></script>                <div id=\"bc29235b-f119-4cb7-9b75-4ca9deca69e2\" class=\"plotly-graph-div\" style=\"height:525px; width:100%;\"></div>            <script type=\"text/javascript\">                                    window.PLOTLYENV=window.PLOTLYENV || {};                                    if (document.getElementById(\"bc29235b-f119-4cb7-9b75-4ca9deca69e2\")) {                    Plotly.newPlot(                        \"bc29235b-f119-4cb7-9b75-4ca9deca69e2\",                        [{\"name\":\"Original Text Length\",\"opacity\":0.6,\"x\":[167,167,167,167,167,22,124,124,19,145,145,145,145,33,200,200,200,52,52,191,191,191,24,164,28,28,28,29,39,27,50,34,33,105,105,34,15,46,30,30,41,21,52,29,27,48,20,20,32,44,155,155,15,62,62,14,100,100,29,40,40,101,101,112,112,29,124,124,17,114,31,139,21,30,30,34,39,48,148,148,148,110,111,111,111,56,110,110,32,150,150,150,179,179,120,50,50,165,165,165,159,43,141,141,141,246,246,246,80,80,80,46,228,228,36,36,109,109,321,321,83,83,228,228,228,228,165,165,165,27,27,20,42,150,150,78,78,78,66,249,249,85,85,85,36,36,241,241,14,14,14,31,81,13,140,32,58,46,172,254,254,65,13,34,28,58,49,49,36,43,90,39,110,110,142,142,142,35,18,73,59,186,86,40,292,98,26,193,57,194,194,21,169,169,14,14,355,50,207,207,96,25,129,54,51,61,55,43,39,43,35,77,56,58,27,27,45,64,31,70,97,25,108,42,195,195,21,26,56,41,42,14,158,158,105,99,61,137,64,44,44,40,39,11,11,59,59,59,59,16,35,35,18,260,260,260,57,57,27,106,105,105,105,62,40,87,34,39,48,37,72,72,45,38,102,142,142,73,73,74,74,72,72,147,111,111,111,63,96,47,48,65,52,135,135,135,55,45,77,40,33,64,70,57,21,7,67,24,36,36,93,93,69,67,130,130,71,52,19,50,17,116,116,116,34,34,123,123,123,157,36,88,88,15,92,18,186,48,120,120,54,100,176,176,54,65,32,52,49,22,25,35,58,58,58,29,53,55,48,15,47,47,151,115,115,69,124,124,124,59],\"type\":\"histogram\"},{\"name\":\"Simplified Text Length\",\"opacity\":0.6,\"x\":[216,124,105,105,105,22,130,130,19,164,164,164,164,33,177,177,47,38,38,168,168,168,40,153,63,63,63,107,62,67,79,35,138,235,235,194,22,132,35,72,50,21,55,54,92,56,41,41,94,72,84,84,26,90,90,26,153,153,61,86,86,175,175,57,57,60,287,287,51,128,50,114,21,94,94,36,40,50,109,109,109,103,81,81,81,59,189,189,43,112,112,112,110,110,121,36,36,200,200,200,167,39,194,194,194,385,385,385,266,266,266,94,114,114,40,40,55,55,129,129,36,36,114,114,114,114,108,108,108,41,41,76,39,234,234,36,249,249,49,180,180,191,191,191,40,40,116,116,89,89,89,68,84,32,74,150,176,59,85,168,168,25,38,60,48,67,40,40,232,29,92,35,130,130,196,196,196,86,33,129,53,291,192,40,271,98,26,203,57,173,173,21,150,150,42,42,202,41,84,84,75,58,137,53,75,61,55,43,34,69,50,76,59,58,43,27,48,52,31,70,97,25,108,42,218,218,21,26,56,41,42,32,196,196,108,100,60,137,64,34,34,40,97,33,33,93,93,93,93,29,64,64,19,174,174,174,73,73,46,177,114,114,114,82,40,73,34,39,40,66,104,104,24,39,110,122,122,42,42,102,102,75,75,143,60,224,224,63,96,47,48,65,52,152,152,152,122,45,77,40,33,64,72,57,21,7,67,24,37,37,85,85,63,32,90,90,74,47,230,49,18,96,96,96,43,43,121,121,121,137,27,99,99,28,107,44,100,46,72,72,56,72,178,177,30,62,54,63,20,49,35,39,155,128,128,14,45,35,45,26,52,52,117,102,102,43,119,119,119,43],\"type\":\"histogram\"}],                        {\"template\":{\"data\":{\"histogram2dcontour\":[{\"type\":\"histogram2dcontour\",\"colorbar\":{\"outlinewidth\":0,\"ticks\":\"\"},\"colorscale\":[[0.0,\"#0d0887\"],[0.1111111111111111,\"#46039f\"],[0.2222222222222222,\"#7201a8\"],[0.3333333333333333,\"#9c179e\"],[0.4444444444444444,\"#bd3786\"],[0.5555555555555556,\"#d8576b\"],[0.6666666666666666,\"#ed7953\"],[0.7777777777777778,\"#fb9f3a\"],[0.8888888888888888,\"#fdca26\"],[1.0,\"#f0f921\"]]}],\"choropleth\":[{\"type\":\"choropleth\",\"colorbar\":{\"outlinewidth\":0,\"ticks\":\"\"}}],\"histogram2d\":[{\"type\":\"histogram2d\",\"colorbar\":{\"outlinewidth\":0,\"ticks\":\"\"},\"colorscale\":[[0.0,\"#0d0887\"],[0.1111111111111111,\"#46039f\"],[0.2222222222222222,\"#7201a8\"],[0.3333333333333333,\"#9c179e\"],[0.4444444444444444,\"#bd3786\"],[0.5555555555555556,\"#d8576b\"],[0.6666666666666666,\"#ed7953\"],[0.7777777777777778,\"#fb9f3a\"],[0.8888888888888888,\"#fdca26\"],[1.0,\"#f0f921\"]]}],\"heatmap\":[{\"type\":\"heatmap\",\"colorbar\":{\"outlinewidth\":0,\"ticks\":\"\"},\"colorscale\":[[0.0,\"#0d0887\"],[0.1111111111111111,\"#46039f\"],[0.2222222222222222,\"#7201a8\"],[0.3333333333333333,\"#9c179e\"],[0.4444444444444444,\"#bd3786\"],[0.5555555555555556,\"#d8576b\"],[0.6666666666666666,\"#ed7953\"],[0.7777777777777778,\"#fb9f3a\"],[0.8888888888888888,\"#fdca26\"],[1.0,\"#f0f921\"]]}],\"heatmapgl\":[{\"type\":\"heatmapgl\",\"colorbar\":{\"outlinewidth\":0,\"ticks\":\"\"},\"colorscale\":[[0.0,\"#0d0887\"],[0.1111111111111111,\"#46039f\"],[0.2222222222222222,\"#7201a8\"],[0.3333333333333333,\"#9c179e\"],[0.4444444444444444,\"#bd3786\"],[0.5555555555555556,\"#d8576b\"],[0.6666666666666666,\"#ed7953\"],[0.7777777777777778,\"#fb9f3a\"],[0.8888888888888888,\"#fdca26\"],[1.0,\"#f0f921\"]]}],\"contourcarpet\":[{\"type\":\"contourcarpet\",\"colorbar\":{\"outlinewidth\":0,\"ticks\":\"\"}}],\"contour\":[{\"type\":\"contour\",\"colorbar\":{\"outlinewidth\":0,\"ticks\":\"\"},\"colorscale\":[[0.0,\"#0d0887\"],[0.1111111111111111,\"#46039f\"],[0.2222222222222222,\"#7201a8\"],[0.3333333333333333,\"#9c179e\"],[0.4444444444444444,\"#bd3786\"],[0.5555555555555556,\"#d8576b\"],[0.6666666666666666,\"#ed7953\"],[0.7777777777777778,\"#fb9f3a\"],[0.8888888888888888,\"#fdca26\"],[1.0,\"#f0f921\"]]}],\"surface\":[{\"type\":\"surface\",\"colorbar\":{\"outlinewidth\":0,\"ticks\":\"\"},\"colorscale\":[[0.0,\"#0d0887\"],[0.1111111111111111,\"#46039f\"],[0.2222222222222222,\"#7201a8\"],[0.3333333333333333,\"#9c179e\"],[0.4444444444444444,\"#bd3786\"],[0.5555555555555556,\"#d8576b\"],[0.6666666666666666,\"#ed7953\"],[0.7777777777777778,\"#fb9f3a\"],[0.8888888888888888,\"#fdca26\"],[1.0,\"#f0f921\"]]}],\"mesh3d\":[{\"type\":\"mesh3d\",\"colorbar\":{\"outlinewidth\":0,\"ticks\":\"\"}}],\"scatter\":[{\"fillpattern\":{\"fillmode\":\"overlay\",\"size\":10,\"solidity\":0.2},\"type\":\"scatter\"}],\"parcoords\":[{\"type\":\"parcoords\",\"line\":{\"colorbar\":{\"outlinewidth\":0,\"ticks\":\"\"}}}],\"scatterpolargl\":[{\"type\":\"scatterpolargl\",\"marker\":{\"colorbar\":{\"outlinewidth\":0,\"ticks\":\"\"}}}],\"bar\":[{\"error_x\":{\"color\":\"#2a3f5f\"},\"error_y\":{\"color\":\"#2a3f5f\"},\"marker\":{\"line\":{\"color\":\"#E5ECF6\",\"width\":0.5},\"pattern\":{\"fillmode\":\"overlay\",\"size\":10,\"solidity\":0.2}},\"type\":\"bar\"}],\"scattergeo\":[{\"type\":\"scattergeo\",\"marker\":{\"colorbar\":{\"outlinewidth\":0,\"ticks\":\"\"}}}],\"scatterpolar\":[{\"type\":\"scatterpolar\",\"marker\":{\"colorbar\":{\"outlinewidth\":0,\"ticks\":\"\"}}}],\"histogram\":[{\"marker\":{\"pattern\":{\"fillmode\":\"overlay\",\"size\":10,\"solidity\":0.2}},\"type\":\"histogram\"}],\"scattergl\":[{\"type\":\"scattergl\",\"marker\":{\"colorbar\":{\"outlinewidth\":0,\"ticks\":\"\"}}}],\"scatter3d\":[{\"type\":\"scatter3d\",\"line\":{\"colorbar\":{\"outlinewidth\":0,\"ticks\":\"\"}},\"marker\":{\"colorbar\":{\"outlinewidth\":0,\"ticks\":\"\"}}}],\"scattermapbox\":[{\"type\":\"scattermapbox\",\"marker\":{\"colorbar\":{\"outlinewidth\":0,\"ticks\":\"\"}}}],\"scatterternary\":[{\"type\":\"scatterternary\",\"marker\":{\"colorbar\":{\"outlinewidth\":0,\"ticks\":\"\"}}}],\"scattercarpet\":[{\"type\":\"scattercarpet\",\"marker\":{\"colorbar\":{\"outlinewidth\":0,\"ticks\":\"\"}}}],\"carpet\":[{\"aaxis\":{\"endlinecolor\":\"#2a3f5f\",\"gridcolor\":\"white\",\"linecolor\":\"white\",\"minorgridcolor\":\"white\",\"startlinecolor\":\"#2a3f5f\"},\"baxis\":{\"endlinecolor\":\"#2a3f5f\",\"gridcolor\":\"white\",\"linecolor\":\"white\",\"minorgridcolor\":\"white\",\"startlinecolor\":\"#2a3f5f\"},\"type\":\"carpet\"}],\"table\":[{\"cells\":{\"fill\":{\"color\":\"#EBF0F8\"},\"line\":{\"color\":\"white\"}},\"header\":{\"fill\":{\"color\":\"#C8D4E3\"},\"line\":{\"color\":\"white\"}},\"type\":\"table\"}],\"barpolar\":[{\"marker\":{\"line\":{\"color\":\"#E5ECF6\",\"width\":0.5},\"pattern\":{\"fillmode\":\"overlay\",\"size\":10,\"solidity\":0.2}},\"type\":\"barpolar\"}],\"pie\":[{\"automargin\":true,\"type\":\"pie\"}]},\"layout\":{\"autotypenumbers\":\"strict\",\"colorway\":[\"#636efa\",\"#EF553B\",\"#00cc96\",\"#ab63fa\",\"#FFA15A\",\"#19d3f3\",\"#FF6692\",\"#B6E880\",\"#FF97FF\",\"#FECB52\"],\"font\":{\"color\":\"#2a3f5f\"},\"hovermode\":\"closest\",\"hoverlabel\":{\"align\":\"left\"},\"paper_bgcolor\":\"white\",\"plot_bgcolor\":\"#E5ECF6\",\"polar\":{\"bgcolor\":\"#E5ECF6\",\"angularaxis\":{\"gridcolor\":\"white\",\"linecolor\":\"white\",\"ticks\":\"\"},\"radialaxis\":{\"gridcolor\":\"white\",\"linecolor\":\"white\",\"ticks\":\"\"}},\"ternary\":{\"bgcolor\":\"#E5ECF6\",\"aaxis\":{\"gridcolor\":\"white\",\"linecolor\":\"white\",\"ticks\":\"\"},\"baxis\":{\"gridcolor\":\"white\",\"linecolor\":\"white\",\"ticks\":\"\"},\"caxis\":{\"gridcolor\":\"white\",\"linecolor\":\"white\",\"ticks\":\"\"}},\"coloraxis\":{\"colorbar\":{\"outlinewidth\":0,\"ticks\":\"\"}},\"colorscale\":{\"sequential\":[[0.0,\"#0d0887\"],[0.1111111111111111,\"#46039f\"],[0.2222222222222222,\"#7201a8\"],[0.3333333333333333,\"#9c179e\"],[0.4444444444444444,\"#bd3786\"],[0.5555555555555556,\"#d8576b\"],[0.6666666666666666,\"#ed7953\"],[0.7777777777777778,\"#fb9f3a\"],[0.8888888888888888,\"#fdca26\"],[1.0,\"#f0f921\"]],\"sequentialminus\":[[0.0,\"#0d0887\"],[0.1111111111111111,\"#46039f\"],[0.2222222222222222,\"#7201a8\"],[0.3333333333333333,\"#9c179e\"],[0.4444444444444444,\"#bd3786\"],[0.5555555555555556,\"#d8576b\"],[0.6666666666666666,\"#ed7953\"],[0.7777777777777778,\"#fb9f3a\"],[0.8888888888888888,\"#fdca26\"],[1.0,\"#f0f921\"]],\"diverging\":[[0,\"#8e0152\"],[0.1,\"#c51b7d\"],[0.2,\"#de77ae\"],[0.3,\"#f1b6da\"],[0.4,\"#fde0ef\"],[0.5,\"#f7f7f7\"],[0.6,\"#e6f5d0\"],[0.7,\"#b8e186\"],[0.8,\"#7fbc41\"],[0.9,\"#4d9221\"],[1,\"#276419\"]]},\"xaxis\":{\"gridcolor\":\"white\",\"linecolor\":\"white\",\"ticks\":\"\",\"title\":{\"standoff\":15},\"zerolinecolor\":\"white\",\"automargin\":true,\"zerolinewidth\":2},\"yaxis\":{\"gridcolor\":\"white\",\"linecolor\":\"white\",\"ticks\":\"\",\"title\":{\"standoff\":15},\"zerolinecolor\":\"white\",\"automargin\":true,\"zerolinewidth\":2},\"scene\":{\"xaxis\":{\"backgroundcolor\":\"#E5ECF6\",\"gridcolor\":\"white\",\"linecolor\":\"white\",\"showbackground\":true,\"ticks\":\"\",\"zerolinecolor\":\"white\",\"gridwidth\":2},\"yaxis\":{\"backgroundcolor\":\"#E5ECF6\",\"gridcolor\":\"white\",\"linecolor\":\"white\",\"showbackground\":true,\"ticks\":\"\",\"zerolinecolor\":\"white\",\"gridwidth\":2},\"zaxis\":{\"backgroundcolor\":\"#E5ECF6\",\"gridcolor\":\"white\",\"linecolor\":\"white\",\"showbackground\":true,\"ticks\":\"\",\"zerolinecolor\":\"white\",\"gridwidth\":2}},\"shapedefaults\":{\"line\":{\"color\":\"#2a3f5f\"}},\"annotationdefaults\":{\"arrowcolor\":\"#2a3f5f\",\"arrowhead\":0,\"arrowwidth\":1},\"geo\":{\"bgcolor\":\"white\",\"landcolor\":\"#E5ECF6\",\"subunitcolor\":\"white\",\"showland\":true,\"showlakes\":true,\"lakecolor\":\"white\"},\"title\":{\"x\":0.05},\"mapbox\":{\"style\":\"light\"}}},\"title\":{\"text\":\"Distribution of Text Lengths Before and After Simplification\"},\"xaxis\":{\"title\":{\"text\":\"Text Length\"}},\"yaxis\":{\"title\":{\"text\":\"Frequency\"}},\"barmode\":\"overlay\"},                        {\"responsive\": true}                    ).then(function(){\n",
              "                            \n",
              "var gd = document.getElementById('bc29235b-f119-4cb7-9b75-4ca9deca69e2');\n",
              "var x = new MutationObserver(function (mutations, observer) {{\n",
              "        var display = window.getComputedStyle(gd).display;\n",
              "        if (!display || display === 'none') {{\n",
              "            console.log([gd, 'removed!']);\n",
              "            Plotly.purge(gd);\n",
              "            observer.disconnect();\n",
              "        }}\n",
              "}});\n",
              "\n",
              "// Listen for the removal of the full notebook cells\n",
              "var notebookContainer = gd.closest('#notebook-container');\n",
              "if (notebookContainer) {{\n",
              "    x.observe(notebookContainer, {childList: true});\n",
              "}}\n",
              "\n",
              "// Listen for the clearing of the current output cell\n",
              "var outputEl = gd.closest('.output');\n",
              "if (outputEl) {{\n",
              "    x.observe(outputEl, {childList: true});\n",
              "}}\n",
              "\n",
              "                        })                };                            </script>        </div>\n",
              "</body>\n",
              "</html>"
            ]
          },
          "metadata": {}
        }
      ]
    },
    {
      "cell_type": "markdown",
      "source": [
        "\n",
        "\n",
        "> Word Frequency Analysis\n",
        "\n"
      ],
      "metadata": {
        "id": "ZvxXvqIOp0-H"
      }
    },
    {
      "cell_type": "code",
      "source": [
        "from collections import Counter\n",
        "import nltk\n",
        "from nltk.corpus import stopwords\n",
        "nltk.download('stopwords')\n",
        "nltk.download('punkt')\n",
        "nltk.download('punkt_tab')\n",
        "\n",
        "stop_words = set(stopwords.words('french'))\n",
        "\n",
        "def get_most_common_words(text_series, n=20):\n",
        "    words = ' '.join(text_series).lower()\n",
        "    words = nltk.word_tokenize(words)\n",
        "    words = [word for word in words if word.isalnum() and word not in stop_words]\n",
        "    return Counter(words).most_common(n)\n",
        "\n",
        "# Display top words\n",
        "print(\"Top words in Original Text:\", get_most_common_words(data['Version initiale']))\n",
        "print(\"Top words in Simplified Text:\", get_most_common_words(data['Version retraitée']))"
      ],
      "metadata": {
        "colab": {
          "base_uri": "https://localhost:8080/"
        },
        "id": "wzC6khQmpgCN",
        "outputId": "9dede372-652b-4d60-af98-1b1e6a8ec1c5"
      },
      "execution_count": 9,
      "outputs": [
        {
          "output_type": "stream",
          "name": "stdout",
          "text": [
            "Top words in Original Text: [('français', 67), ('travail', 36), ('formation', 29), ('comprendre', 25), ('france', 22), ('ateliers', 21), ('vie', 21), ('langue', 20), ('accompagnement', 20), ('cours', 19), ('faire', 19), ('professionnelle', 18), ('apprendre', 18), ('démarches', 18), ('savoir', 15), ('niveau', 15), ('besoins', 15), ('mail', 14), ('personnes', 14), ('vocabulaire', 13)]\n",
            "Top words in Simplified Text: [('français', 62), ('travail', 59), ('apprendre', 39), ('trouver', 35), ('formation', 30), ('comprendre', 28), ('être', 28), ('démarches', 27), ('mieux', 25), ('ateliers', 24), ('faire', 24), ('professionnel', 23), ('connaître', 23), ('pouvez', 23), ('niveau', 23), ('communiquer', 22), ('accompagnement', 21), ('mail', 20), ('savoir', 19), ('prendre', 19)]\n"
          ]
        },
        {
          "output_type": "stream",
          "name": "stderr",
          "text": [
            "[nltk_data] Downloading package stopwords to /root/nltk_data...\n",
            "[nltk_data]   Package stopwords is already up-to-date!\n",
            "[nltk_data] Downloading package punkt to /root/nltk_data...\n",
            "[nltk_data]   Package punkt is already up-to-date!\n",
            "[nltk_data] Downloading package punkt_tab to /root/nltk_data...\n",
            "[nltk_data]   Package punkt_tab is already up-to-date!\n"
          ]
        }
      ]
    },
    {
      "cell_type": "code",
      "source": [
        "# Get top words and their frequencies\n",
        "original_top_words = get_most_common_words(data['Version initiale'])\n",
        "simplified_top_words = get_most_common_words(data['Version retraitée'])\n",
        "\n",
        "# Convert to DataFrame for better visualization\n",
        "df_words = pd.DataFrame({\n",
        "    \"Word (Original)\": [word for word, _ in original_top_words],\n",
        "    \"Frequency (Original)\": [freq for _, freq in original_top_words],\n",
        "    \"Word (Simplified)\": [word for word, _ in simplified_top_words],\n",
        "    \"Frequency (Simplified)\": [freq for _, freq in simplified_top_words],\n",
        "})"
      ],
      "metadata": {
        "id": "88ahQXykvR9G"
      },
      "execution_count": 10,
      "outputs": []
    },
    {
      "cell_type": "code",
      "source": [
        "import matplotlib.pyplot as plt\n",
        "fig, ax = plt.subplots(figsize=(10, 5))\n",
        "ax.barh([word for word, _ in original_top_words], [freq for _, freq in original_top_words], color='blue', alpha=0.6, label=\"Original Text\")\n",
        "ax.barh([word for word, _ in simplified_top_words], [freq for _, freq in simplified_top_words], color='red', alpha=0.6, label=\"Simplified Text\")\n",
        "\n",
        "ax.set_xlabel(\"Frequency\")\n",
        "ax.set_ylabel(\"Words\")\n",
        "ax.set_title(\"Top Words in Original vs Simplified Text\")\n",
        "ax.legend()\n",
        "\n",
        "plt.gca().invert_yaxis()\n",
        "plt.show()"
      ],
      "metadata": {
        "colab": {
          "base_uri": "https://localhost:8080/",
          "height": 487
        },
        "id": "lJg0S-Jdvj24",
        "outputId": "7ee43a7b-cbd1-458b-e995-95aa50700ecf"
      },
      "execution_count": 11,
      "outputs": [
        {
          "output_type": "display_data",
          "data": {
            "text/plain": [
              "<Figure size 1000x500 with 1 Axes>"
            ],
            "image/png": "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\n"
          },
          "metadata": {}
        }
      ]
    },
    {
      "cell_type": "markdown",
      "source": [
        "\n",
        "\n",
        "> Add blockquote\n",
        "\n"
      ],
      "metadata": {
        "id": "yZVc_XJheQql"
      }
    },
    {
      "cell_type": "code",
      "source": [
        "import pandas as pd\n",
        "\n",
        "# Ensure the relevant columns are present\n",
        "assert 'Version initiale' in data.columns and 'Version retraitée' in data.columns, \"Required columns missing.\"\n",
        "\n",
        "# Calculate sentence lengths (number of words per sentence) for complex and simple texts\n",
        "data['Standard_Length'] = data['Version initiale'].str.split().str.len()\n",
        "data['E2R_Length'] = data['Version retraitée'].str.split().str.len()\n",
        "\n",
        "# Calculate total number of words in each column\n",
        "total_words_complex = data['Standard_Length'].sum()\n",
        "total_words_simple = data['E2R_Length'].sum()\n",
        "\n",
        "# Compute ranges and interquartile ranges for \"Complex\" (Version initiale) texts\n",
        "complex_q1 = data['Standard_Length'].quantile(0.25)\n",
        "complex_q3 = data['Standard_Length'].quantile(0.75)\n",
        "complex_iqr = complex_q3 - complex_q1\n",
        "\n",
        "# Compute ranges and interquartile ranges for \"Simple\" (E2R version) texts\n",
        "simple_q1 = data['E2R_Length'].quantile(0.25)\n",
        "simple_q3 = data['E2R_Length'].quantile(0.75)\n",
        "simple_iqr = simple_q3 - simple_q1\n",
        "\n",
        "# Display the results\n",
        "print(\"Complex Texts (Version initiale):\")\n",
        "print(f\"Total Number of Words: {total_words_complex}\")\n",
        "print(f\"Range at 25th Percentile (Q1): {complex_q1} words\")\n",
        "print(f\"Range at 75th Percentile (Q3): {complex_q3} words\")\n",
        "print(f\"IQR: {complex_iqr} words\\n\")\n",
        "\n",
        "print(\"Simplified Texts (Version retraitée):\")\n",
        "print(f\"Total Number of Words: {total_words_simple}\")\n",
        "print(f\"Range at 25th Percentile (Q1): {simple_q1} words\")\n",
        "print(f\"Range at 75th Percentile (Q3): {simple_q3} words\")\n",
        "print(f\"IQR: {simple_iqr} words\")"
      ],
      "metadata": {
        "id": "EcDzNmHSe3z5",
        "colab": {
          "base_uri": "https://localhost:8080/"
        },
        "outputId": "db55bb7a-b30d-463d-dc29-81dc87741cb6"
      },
      "execution_count": 12,
      "outputs": [
        {
          "output_type": "stream",
          "name": "stdout",
          "text": [
            "Complex Texts (Version initiale):\n",
            "Total Number of Words: 5005\n",
            "Range at 25th Percentile (Q1): 6.0 words\n",
            "Range at 75th Percentile (Q3): 19.0 words\n",
            "IQR: 13.0 words\n",
            "\n",
            "Simplified Texts (Version retraitée):\n",
            "Total Number of Words: 5647\n",
            "Range at 25th Percentile (Q1): 7.0 words\n",
            "Range at 75th Percentile (Q3): 20.0 words\n",
            "IQR: 13.0 words\n"
          ]
        }
      ]
    },
    {
      "cell_type": "code",
      "source": [
        "import seaborn as sns\n",
        "\n",
        "# Enhanced visualization with boxplots\n",
        "plt.figure(figsize=(10, 6))\n",
        "sns.boxplot(data=data[['Standard_Length', 'E2R_Length']], palette=[\"blue\", \"red\"])\n",
        "plt.xticks(ticks=[0, 1], labels=[\"Complex Texts\", \"Simplified Texts\"])\n",
        "plt.ylabel(\"Sentence Length (Word Count)\")\n",
        "plt.title(\"Distribution of Sentence Lengths: Complex vs Simplified Texts\")\n",
        "plt.grid(True)\n",
        "plt.show()\n"
      ],
      "metadata": {
        "colab": {
          "base_uri": "https://localhost:8080/",
          "height": 545
        },
        "id": "FjG0ECT_y8pi",
        "outputId": "bee279c8-3bac-4b72-c1c6-4b461f0339b5"
      },
      "execution_count": 13,
      "outputs": [
        {
          "output_type": "display_data",
          "data": {
            "text/plain": [
              "<Figure size 1000x600 with 1 Axes>"
            ],
            "image/png": "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\n"
          },
          "metadata": {}
        }
      ]
    },
    {
      "cell_type": "markdown",
      "source": [
        "\n",
        "\n",
        "---\n",
        "\n",
        "\n",
        "\n",
        "> ### Install Hugging Face Transformers and Datasets library\n",
        "\n",
        "---"
      ],
      "metadata": {
        "id": "wGmdXwc1hD47"
      }
    },
    {
      "cell_type": "code",
      "source": [
        "!pip install transformers datasets torch"
      ],
      "metadata": {
        "id": "cnQyuc0teWdr",
        "colab": {
          "base_uri": "https://localhost:8080/"
        },
        "outputId": "ebcc281e-b688-48f9-a954-729671b61e75"
      },
      "execution_count": 14,
      "outputs": [
        {
          "output_type": "stream",
          "name": "stdout",
          "text": [
            "Requirement already satisfied: transformers in /usr/local/lib/python3.11/dist-packages (4.47.1)\n",
            "Requirement already satisfied: datasets in /usr/local/lib/python3.11/dist-packages (3.2.0)\n",
            "Requirement already satisfied: torch in /usr/local/lib/python3.11/dist-packages (2.5.1+cu124)\n",
            "Requirement already satisfied: filelock in /usr/local/lib/python3.11/dist-packages (from transformers) (3.17.0)\n",
            "Requirement already satisfied: huggingface-hub<1.0,>=0.24.0 in /usr/local/lib/python3.11/dist-packages (from transformers) (0.27.1)\n",
            "Requirement already satisfied: numpy>=1.17 in /usr/local/lib/python3.11/dist-packages (from transformers) (1.26.4)\n",
            "Requirement already satisfied: packaging>=20.0 in /usr/local/lib/python3.11/dist-packages (from transformers) (24.2)\n",
            "Requirement already satisfied: pyyaml>=5.1 in /usr/local/lib/python3.11/dist-packages (from transformers) (6.0.2)\n",
            "Requirement already satisfied: regex!=2019.12.17 in /usr/local/lib/python3.11/dist-packages (from transformers) (2024.11.6)\n",
            "Requirement already satisfied: requests in /usr/local/lib/python3.11/dist-packages (from transformers) (2.32.3)\n",
            "Requirement already satisfied: tokenizers<0.22,>=0.21 in /usr/local/lib/python3.11/dist-packages (from transformers) (0.21.0)\n",
            "Requirement already satisfied: safetensors>=0.4.1 in /usr/local/lib/python3.11/dist-packages (from transformers) (0.5.2)\n",
            "Requirement already satisfied: tqdm>=4.27 in /usr/local/lib/python3.11/dist-packages (from transformers) (4.67.1)\n",
            "Requirement already satisfied: pyarrow>=15.0.0 in /usr/local/lib/python3.11/dist-packages (from datasets) (17.0.0)\n",
            "Requirement already satisfied: dill<0.3.9,>=0.3.0 in /usr/local/lib/python3.11/dist-packages (from datasets) (0.3.8)\n",
            "Requirement already satisfied: pandas in /usr/local/lib/python3.11/dist-packages (from datasets) (2.2.2)\n",
            "Requirement already satisfied: xxhash in /usr/local/lib/python3.11/dist-packages (from datasets) (3.5.0)\n",
            "Requirement already satisfied: multiprocess<0.70.17 in /usr/local/lib/python3.11/dist-packages (from datasets) (0.70.16)\n",
            "Requirement already satisfied: fsspec<=2024.9.0,>=2023.1.0 in /usr/local/lib/python3.11/dist-packages (from fsspec[http]<=2024.9.0,>=2023.1.0->datasets) (2024.9.0)\n",
            "Requirement already satisfied: aiohttp in /usr/local/lib/python3.11/dist-packages (from datasets) (3.11.11)\n",
            "Requirement already satisfied: typing-extensions>=4.8.0 in /usr/local/lib/python3.11/dist-packages (from torch) (4.12.2)\n",
            "Requirement already satisfied: networkx in /usr/local/lib/python3.11/dist-packages (from torch) (3.4.2)\n",
            "Requirement already satisfied: jinja2 in /usr/local/lib/python3.11/dist-packages (from torch) (3.1.5)\n",
            "Requirement already satisfied: nvidia-cuda-nvrtc-cu12==12.4.127 in /usr/local/lib/python3.11/dist-packages (from torch) (12.4.127)\n",
            "Requirement already satisfied: nvidia-cuda-runtime-cu12==12.4.127 in /usr/local/lib/python3.11/dist-packages (from torch) (12.4.127)\n",
            "Requirement already satisfied: nvidia-cuda-cupti-cu12==12.4.127 in /usr/local/lib/python3.11/dist-packages (from torch) (12.4.127)\n",
            "Requirement already satisfied: nvidia-cudnn-cu12==9.1.0.70 in /usr/local/lib/python3.11/dist-packages (from torch) (9.1.0.70)\n",
            "Requirement already satisfied: nvidia-cublas-cu12==12.4.5.8 in /usr/local/lib/python3.11/dist-packages (from torch) (12.4.5.8)\n",
            "Requirement already satisfied: nvidia-cufft-cu12==11.2.1.3 in /usr/local/lib/python3.11/dist-packages (from torch) (11.2.1.3)\n",
            "Requirement already satisfied: nvidia-curand-cu12==10.3.5.147 in /usr/local/lib/python3.11/dist-packages (from torch) (10.3.5.147)\n",
            "Requirement already satisfied: nvidia-cusolver-cu12==11.6.1.9 in /usr/local/lib/python3.11/dist-packages (from torch) (11.6.1.9)\n",
            "Requirement already satisfied: nvidia-cusparse-cu12==12.3.1.170 in /usr/local/lib/python3.11/dist-packages (from torch) (12.3.1.170)\n",
            "Requirement already satisfied: nvidia-nccl-cu12==2.21.5 in /usr/local/lib/python3.11/dist-packages (from torch) (2.21.5)\n",
            "Requirement already satisfied: nvidia-nvtx-cu12==12.4.127 in /usr/local/lib/python3.11/dist-packages (from torch) (12.4.127)\n",
            "Requirement already satisfied: nvidia-nvjitlink-cu12==12.4.127 in /usr/local/lib/python3.11/dist-packages (from torch) (12.4.127)\n",
            "Requirement already satisfied: triton==3.1.0 in /usr/local/lib/python3.11/dist-packages (from torch) (3.1.0)\n",
            "Requirement already satisfied: sympy==1.13.1 in /usr/local/lib/python3.11/dist-packages (from torch) (1.13.1)\n",
            "Requirement already satisfied: mpmath<1.4,>=1.1.0 in /usr/local/lib/python3.11/dist-packages (from sympy==1.13.1->torch) (1.3.0)\n",
            "Requirement already satisfied: aiohappyeyeballs>=2.3.0 in /usr/local/lib/python3.11/dist-packages (from aiohttp->datasets) (2.4.4)\n",
            "Requirement already satisfied: aiosignal>=1.1.2 in /usr/local/lib/python3.11/dist-packages (from aiohttp->datasets) (1.3.2)\n",
            "Requirement already satisfied: attrs>=17.3.0 in /usr/local/lib/python3.11/dist-packages (from aiohttp->datasets) (25.1.0)\n",
            "Requirement already satisfied: frozenlist>=1.1.1 in /usr/local/lib/python3.11/dist-packages (from aiohttp->datasets) (1.5.0)\n",
            "Requirement already satisfied: multidict<7.0,>=4.5 in /usr/local/lib/python3.11/dist-packages (from aiohttp->datasets) (6.1.0)\n",
            "Requirement already satisfied: propcache>=0.2.0 in /usr/local/lib/python3.11/dist-packages (from aiohttp->datasets) (0.2.1)\n",
            "Requirement already satisfied: yarl<2.0,>=1.17.0 in /usr/local/lib/python3.11/dist-packages (from aiohttp->datasets) (1.18.3)\n",
            "Requirement already satisfied: charset-normalizer<4,>=2 in /usr/local/lib/python3.11/dist-packages (from requests->transformers) (3.4.1)\n",
            "Requirement already satisfied: idna<4,>=2.5 in /usr/local/lib/python3.11/dist-packages (from requests->transformers) (3.10)\n",
            "Requirement already satisfied: urllib3<3,>=1.21.1 in /usr/local/lib/python3.11/dist-packages (from requests->transformers) (2.3.0)\n",
            "Requirement already satisfied: certifi>=2017.4.17 in /usr/local/lib/python3.11/dist-packages (from requests->transformers) (2024.12.14)\n",
            "Requirement already satisfied: MarkupSafe>=2.0 in /usr/local/lib/python3.11/dist-packages (from jinja2->torch) (3.0.2)\n",
            "Requirement already satisfied: python-dateutil>=2.8.2 in /usr/local/lib/python3.11/dist-packages (from pandas->datasets) (2.8.2)\n",
            "Requirement already satisfied: pytz>=2020.1 in /usr/local/lib/python3.11/dist-packages (from pandas->datasets) (2024.2)\n",
            "Requirement already satisfied: tzdata>=2022.7 in /usr/local/lib/python3.11/dist-packages (from pandas->datasets) (2025.1)\n",
            "Requirement already satisfied: six>=1.5 in /usr/local/lib/python3.11/dist-packages (from python-dateutil>=2.8.2->pandas->datasets) (1.17.0)\n"
          ]
        }
      ]
    },
    {
      "cell_type": "code",
      "source": [
        "import pandas as pd\n",
        "import numpy as np\n",
        "import torch\n",
        "from torch import nn\n",
        "from transformers import (\n",
        "    AutoTokenizer,\n",
        "    AutoModelForSequenceClassification,\n",
        "    TrainingArguments,\n",
        "    Trainer,\n",
        ")\n",
        "from datasets import Dataset\n",
        "from sklearn.preprocessing import LabelEncoder\n",
        "from sklearn.model_selection import train_test_split\n",
        "from sklearn.metrics import classification_report\n",
        "from torch.utils.data import WeightedRandomSampler\n",
        "import pandas as pd\n",
        "import torch\n",
        "from sklearn.preprocessing import LabelEncoder\n",
        "from sklearn.model_selection import StratifiedKFold\n",
        "from transformers import (\n",
        "    AutoTokenizer,\n",
        "    AutoModelForSequenceClassification,\n",
        "    TrainingArguments,\n",
        "    Trainer,\n",
        "    DataCollatorWithPadding,\n",
        "    pipeline\n",
        ")\n",
        "from sklearn.metrics import precision_recall_fscore_support, accuracy_score"
      ],
      "metadata": {
        "id": "whdhc03wmJAP"
      },
      "execution_count": 15,
      "outputs": []
    },
    {
      "cell_type": "markdown",
      "source": [
        "\n",
        "\n",
        "\n",
        "---\n",
        "\n",
        "\n",
        "> Data Prepration\n",
        "\n",
        "\n",
        "---\n",
        "\n",
        "\n"
      ],
      "metadata": {
        "id": "GpkGr0y5tcth"
      }
    },
    {
      "cell_type": "code",
      "source": [
        "# Prepare the dataset\n",
        "data = data.dropna(subset=['Version initiale', 'Version retraitée', 'Catégorie'])  # Drop rows with missing values\n",
        "X = data[['Version initiale', 'Version retraitée']].values  # Both text inputs\n",
        "y = data['Catégorie'].tolist()\n",
        "\n",
        "# Encode labels\n",
        "from sklearn.preprocessing import LabelEncoder\n",
        "label_encoder = LabelEncoder()\n",
        "y_encoded = label_encoder.fit_transform(y)\n",
        "\n",
        "# Combine Standard French and E2R version with a separator\n",
        "def combine_texts(row):\n",
        "    return f\"Standard French: {row[0]} [SEP] E2R Version: {row[1]}\"\n",
        "\n",
        "X_combined = [combine_texts(row) for row in X]\n",
        "\n",
        "# Train-test split\n",
        "from sklearn.model_selection import train_test_split\n",
        "train_texts, val_texts, train_labels, val_labels = train_test_split(\n",
        "    X_combined, y_encoded, test_size=0.2, random_state=42\n",
        ")\n",
        "\n",
        "# Train-test split\n",
        "from sklearn.model_selection import train_test_split\n",
        "train_texts, val_texts, train_typologies, val_typologies = train_test_split(\n",
        "    X_combined, y, test_size=0.2, random_state=42\n",
        ")\n",
        "\n",
        "# Show dataset statistics\n",
        "print(f\"Training samples: {len(train_texts)}\")\n",
        "print(f\"Validation samples: {len(val_texts)}\")"
      ],
      "metadata": {
        "id": "2EOK-SoIeiYV",
        "colab": {
          "base_uri": "https://localhost:8080/"
        },
        "outputId": "7dfa1a94-753d-43d9-f59b-3babfde0ac15"
      },
      "execution_count": 16,
      "outputs": [
        {
          "output_type": "stream",
          "name": "stdout",
          "text": [
            "Training samples: 296\n",
            "Validation samples: 74\n"
          ]
        }
      ]
    },
    {
      "cell_type": "markdown",
      "source": [
        "\n",
        "\n",
        "---\n",
        "\n",
        "\n",
        "\n",
        "> # Fine-tune the Model\n",
        "\n",
        "\n",
        "---\n",
        "\n"
      ],
      "metadata": {
        "id": "cfXgB98jx-L3"
      }
    },
    {
      "cell_type": "markdown",
      "source": [
        "---\n",
        "\n",
        "## **1. Data Preparation: Cleaning and Formatting the Dataset**\n",
        "Before training, we **preprocess the dataset** by:\n",
        "1. **Handling Missing Values**: Dropping any missing values in the key columns (`Version initiale` and `Catégorie`).\n",
        "   ```python\n",
        "   data = data.dropna(subset=['Version initiale', 'Catégorie'])\n",
        "   ```\n",
        "2. **Cleaning the Typology Column**: Removing **non-breaking spaces (`\\xa0`)** and regular spaces to standardize labels.\n",
        "   ```python\n",
        "   data['Typology'] = data['Catégorie'].str.replace(\"\\xa0\", \"\").str.replace(\" \", \"\")\n",
        "   ```\n",
        "3. **Encoding Typologies**: Using `LabelEncoder` to convert category labels into numerical values for the model.\n",
        "   ```python\n",
        "   label_encoder = LabelEncoder()\n",
        "   data['Typology Encoded'] = label_encoder.fit_transform(data['Typology'])\n",
        "   ```\n",
        "\n",
        "✅ **Why?**  \n",
        "- Ensures the dataset is clean and structured before augmentation and model training.\n",
        "- Helps the model recognize category labels in a numerical format.\n",
        "\n",
        "---\n",
        "\n",
        "## **2. Data Augmentation: Addressing Class Imbalance**\n",
        "To **balance underrepresented categories**, we apply **text augmentation** using a **T5-small paraphraser model**:\n",
        "To improve model performance on underrepresented categories, we applied text  The process follows these steps:\n",
        "\n",
        "- Identify the three least frequent categories in the dataset.\n",
        "- Use a **text-to-text generation model (`t5-small`)** to paraphrase sentences from these categories.\n",
        "- Generate one new paraphrased version for each text sample.\n",
        "- Append the newly augmented data to the original dataset.\n",
        "- Re-encode the typologies after augmentation to maintain consistency.\n",
        "\n",
        "✅ This step ensures that the model gets a balanced representation of all categories, leading to better generalization.\n",
        "\n",
        "1. Identify the **three least frequent classes** in the dataset.\n",
        "   ```python\n",
        "   underrepresented_classes = data['Catégorie'].value_counts().tail(3).index.tolist()\n",
        "   ```\n",
        "2. Use `t5-small` for paraphrasing:\n",
        "   ```python\n",
        "   paraphraser = pipeline(\"text2text-generation\", model=\"t5-small\")\n",
        "   ```\n",
        "3. Generate **augmented text** for samples in these classes:\n",
        "   ```python\n",
        "   def augment_text(text):\n",
        "       augmented = paraphraser(text, max_length=100, num_return_sequences=1)\n",
        "       return augmented[0]['generated_text']\n",
        "   ```\n",
        "4. Add augmented samples to the dataset:\n",
        "   ```python\n",
        "   augmented_data = []\n",
        "   for typology in underrepresented_classes:\n",
        "       class_data = data[data['Typology'] == typology]\n",
        "       for _, row in class_data.iterrows():\n",
        "           augmented_text = augment_text(row['Version initiale'])\n",
        "           augmented_data.append({'Version initiale': augmented_text, 'Typology': typology})\n",
        "\n",
        "   augmented_df = pd.DataFrame(augmented_data)\n",
        "   data = pd.concat([data, augmented_df], ignore_index=True)\n",
        "   ```\n",
        "\n",
        "✅ **Why?**  \n",
        "- Ensures the model **does not ignore** rare categories.\n",
        "- Generates **synthetic training data** to balance class distribution.\n",
        "\n",
        "---\n",
        "\n",
        "## **3. Applying Stratified K-Fold Cross-Validation**\n",
        "Instead of a **single train-test split**, we use **5-fold stratified cross-validation**: (with `n_splits=5`) to make the training process more robust.\n",
        "```python\n",
        "skf = StratifiedKFold(n_splits=5)\n",
        "```\n",
        "### **Process:**\n",
        "- **Splits data into 5 subsets** while preserving the class distribution.\n",
        "- Trains on 4 subsets and **validates on the remaining subset**.\n",
        "- **Repeats 5 times** (each subset gets a turn as the validation set).\n",
        "- Compute **average accuracy, precision, recall, and F1-score** across all folds.\n",
        "\n",
        "✅ **Why?**  \n",
        "- Prevents **biased model performance** due to unlucky data splits.\n",
        "- Ensures **robust evaluation** across different subsets.\n",
        "\n",
        "---\n",
        "\n",
        "\n",
        "## **4. Training Arguments for Optimized Model Performance**\n",
        "We define **custom training arguments** using `TrainingArguments`:\n",
        "- `output_dir`: Saves the model checkpoints for each fold.\n",
        "- `evaluation_strategy=\"epoch\"`: Evaluates the model after every epoch.\n",
        "- `save_strategy=\"epoch\"`: Saves the model at the end of each epoch.\n",
        "- `learning_rate=5e-5`: A standard learning rate for fine-tuning transformers.\n",
        "- `per_device_train_batch_size=8`: Small batch size to fit into GPU memory.\n",
        "- `num_train_epochs=3`: Trains for 3 epochs to prevent overfitting.\n",
        "- `weight_decay=0.01`: Helps with regularization.\n",
        "- `load_best_model_at_end=True`: Ensures that the best version of the model is kept.\n",
        "```python\n",
        "training_args = TrainingArguments(\n",
        "    output_dir=f\"./results/{model_name}_fold_{fold}\",\n",
        "    evaluation_strategy=\"epoch\",\n",
        "    save_strategy=\"epoch\",\n",
        "    learning_rate=5e-6,\n",
        "    per_device_train_batch_size=8,\n",
        "    per_device_eval_batch_size=8,\n",
        "    num_train_epochs=5,  # More epochs, but early stopping prevents overfitting\n",
        "    weight_decay=0.01,\n",
        "    logging_dir=f\"./logs/{model_name}_fold_{fold}\",\n",
        "    save_total_limit=2,\n",
        "    load_best_model_at_end=True,\n",
        "    gradient_accumulation_steps=1,\n",
        "    fp16=True,  # Mixed precision training for efficiency\n",
        "    gradient_checkpointing=True,  # Reduces memory consumption\n",
        "    max_grad_norm=1.0  # Prevents exploding gradients\n",
        ")\n",
        "```\n",
        "Additionally, we use **Early Stopping** to halt training when the model stops improving:\n",
        "```python\n",
        "callbacks=[EarlyStoppingCallback(early_stopping_patience=3)]\n",
        "```\n",
        "\n",
        "✅ **Why?**  \n",
        "- **Efficient GPU usage** with mixed precision (`fp16`) and gradient checkpointing.\n",
        "- **Prevents overfitting** by stopping training early when improvement slows.\n",
        "\n",
        "---\n",
        "\n",
        "## **5. Model Training and Evaluation**\n",
        "For each fold:\n",
        "- **Tokenize input data** and prepare `torch.tensor` datasets.\n",
        "- **Train the model** using the custom `Trainer`:\n",
        "  ```python\n",
        "  trainer = CustomTrainer(\n",
        "      model=model,\n",
        "      args=training_args,\n",
        "      train_dataset=train_dataset,\n",
        "      eval_dataset=val_dataset,\n",
        "      data_collator=data_collator,\n",
        "      compute_metrics=compute_metrics,\n",
        "      callbacks=[EarlyStoppingCallback(early_stopping_patience=3)]\n",
        "  )\n",
        "  ```\n",
        "- **Evaluate and store results** after each epoch:\n",
        "  ```python\n",
        "  evaluation_results = trainer.evaluate()\n",
        "  ```\n",
        "\n",
        "✅ **Why?**  \n",
        "- Automates training and validation for **multiple models**.\n",
        "- Captures **detailed per-epoch and per-fold performance**.\n",
        "\n",
        "---\n",
        "\n",
        "## **6. Storing and Analyzing Model Results**\n",
        "### **Saving Model Performance:**\n",
        "- **Final aggregated results per model**:\n",
        "  ```python\n",
        "  final_results_df = pd.DataFrame(all_model_results)\n",
        "  final_results_df.to_csv(\"complex_model_results.csv\", index=False)\n",
        "  ```\n",
        "- **Detailed per-fold and per-epoch results**:\n",
        "  ```python\n",
        "  detailed_results_df = pd.DataFrame(detailed_results)\n",
        "  detailed_results_df.to_csv(\"Complex_detailed_model_results.csv\", index=False)\n",
        "  ```\n",
        "- **Summarized aggregated performance**:\n",
        "  ```python\n",
        "  aggregated_summary_df = pd.DataFrame(aggregated_summary)\n",
        "  aggregated_summary_df.to_csv(\"Complex_aggregated_model_summary.csv\", index=False)\n",
        "  ```\n",
        "\n",
        "✅ **Why?**  \n",
        "- Enables **post-training analysis** to compare models and optimize hyperparameters.\n",
        "\n",
        "---\n",
        "\n",
        "\n"
      ],
      "metadata": {
        "id": "jgAqJcbthW-y"
      }
    },
    {
      "cell_type": "markdown",
      "source": [
        "\n",
        "\n",
        "> # Model #1 Standared+E2R\n",
        "\n"
      ],
      "metadata": {
        "id": "tq84cbQGi-NG"
      }
    },
    {
      "cell_type": "markdown",
      "source": [
        "# `**This model only Combining Standard and Easy-to-Read (E2R) and the \"Categories\" for classification.**`\n"
      ],
      "metadata": {
        "id": "b8PZOdzMk1S4"
      }
    },
    {
      "cell_type": "markdown",
      "source": [
        "\n",
        "### ** Data Preparation: Combining Standard and Easy-to-Read (E2R) Versions**  \n",
        "\n",
        "To create a **single input format** for the model, we merged two versions of the text:  \n",
        "- **Standard Version** (e.g., formal or original text)  \n",
        "- **Easy-to-Read (E2R) Version** (a simplified or adapted version for better comprehension)  \n",
        "\n",
        "#### **How We Combined Them:**  \n",
        "For each data entry, we structured the input text as:  \n",
        "\n",
        "```python\n",
        "data['Combined Text'] = data.apply(\n",
        "    lambda row: f\"Standard French: {row['Version initiale']} [SEP] Easy-to-Read: {row['Version retraitée']}\",\n",
        "    axis=1\n",
        ")\n",
        "```\n",
        "This approach:  \n",
        "✅ **Provides Context**: The model learns relationships between the original and simplified versions.  \n",
        "✅ **Ensures Uniform Input Format**: The `[SEP]` token helps the transformer model differentiate between the two parts of the text.  \n",
        "✅ **Enhances Learning**: By seeing both versions together, the model better understands variations in language complexity.\n",
        "\n",
        "---\n"
      ],
      "metadata": {
        "id": "5tyDoH1UfSK4"
      }
    },
    {
      "cell_type": "code",
      "source": [
        "\"\"\"\n",
        "### Model Description:\n",
        "This script performs text classification using transformer-based models to categorize text into different typologies.\n",
        "It follows these key steps:\n",
        "1. **Data Preparation**: Combining Standard and Easy-to-Read (E2R) versions of text to create a single input format.\n",
        "2. **Handling Class Imbalance**: Augmenting underrepresented categories using a text paraphraser.\n",
        "3. **Model Training**: Fine-tuning transformer-based models (e.g., BERT) with stratified k-fold cross-validation.\n",
        "4. **Evaluation**: Assessing model performance using accuracy, F1-score, precision, and recall.\n",
        "5. **Model Saving**: Storing the trained models for future inference.\n",
        "\n",
        "This approach ensures robust training and better generalization by leveraging data augmentation and cross-validation techniques.\n",
        "\"\"\"\n",
        "\n",
        "# Import Required Libraries\n",
        "import torch\n",
        "import pandas as pd\n",
        "from sklearn.model_selection import StratifiedKFold\n",
        "from sklearn.preprocessing import LabelEncoder\n",
        "from sklearn.metrics import accuracy_score, precision_recall_fscore_support\n",
        "from transformers import AutoTokenizer, AutoModelForSequenceClassification, Trainer, TrainingArguments, DataCollatorWithPadding, pipeline\n",
        "\n",
        "# Data Preprocessing and Augmentation\n",
        "print(\"Loading and preparing the dataset...\")\n",
        "\n",
        "# Combine \"Standard English\" and \"E2R Version\" for input\n",
        "data['Combined Text'] = data.apply(\n",
        "    lambda row: f\"Standard French: {row['Version initiale']} [SEP] Easy-to-Read: {row['Version retraitée']}\", axis=1\n",
        ")\n",
        "data = data.dropna(subset=['Combined Text', 'Catégorie'])\n",
        "\n",
        "# Encode Typologies\n",
        "label_encoder = LabelEncoder()\n",
        "data['Typology Encoded'] = label_encoder.fit_transform(data['Catégorie'])\n",
        "\n",
        "# Handle Class Imbalance with Augmentation\n",
        "underrepresented_classes = data['Catégorie'].value_counts().tail(3).index.tolist()\n",
        "paraphraser = pipeline(\"text2text-generation\", model=\"t5-small\", device=0 if torch.cuda.is_available() else -1)\n",
        "\n",
        "def augment_text(text):\n",
        "    augmented = paraphraser(text, max_length=100, num_return_sequences=1)\n",
        "    return augmented[0]['generated_text']\n",
        "\n",
        "augmented_data = []\n",
        "for typology in underrepresented_classes:\n",
        "    class_data = data[data['Catégorie'] == typology]\n",
        "    for _, row in class_data.iterrows():\n",
        "        augmented_text = augment_text(row['Combined Text'])\n",
        "        augmented_data.append({'Combined Text': augmented_text, 'Typology': typology})\n",
        "\n",
        "# Append augmented data\n",
        "augmented_df = pd.DataFrame(augmented_data)\n",
        "data = pd.concat([data, augmented_df], ignore_index=True)\n",
        "\n",
        "# Re-encode Typologies Post-Augmentation\n",
        "data['Typology Encoded'] = label_encoder.fit_transform(data['Catégorie'])\n",
        "\n",
        "# Define Models to Test\n",
        "models_to_test = [\"bert-base-multilingual-cased\"]\n",
        "all_model_results = []\n",
        "skf = StratifiedKFold(n_splits=5)\n",
        "\n",
        "for model_name in models_to_test:\n",
        "    print(f\"\\nStarting model: {model_name}\")\n",
        "    tokenizer = AutoTokenizer.from_pretrained(model_name)\n",
        "    model = AutoModelForSequenceClassification.from_pretrained(\n",
        "        model_name, num_labels=len(label_encoder.classes_)\n",
        "    )\n",
        "\n",
        "    fold_metrics = []\n",
        "    for fold, (train_index, val_index) in enumerate(skf.split(data['Combined Text'], data['Typology Encoded'])):\n",
        "        print(f\"\\nStarting Fold {fold + 1} for {model_name}\")\n",
        "\n",
        "        # Split Data\n",
        "        train_texts, val_texts = data['Combined Text'].iloc[train_index], data['Combined Text'].iloc[val_index]\n",
        "        train_labels, val_labels = data['Typology Encoded'].iloc[train_index], data['Typology Encoded'].iloc[val_index]\n",
        "\n",
        "        def tokenize_function(texts):\n",
        "            return tokenizer(list(texts), padding=True, truncation=True, max_length=512)\n",
        "\n",
        "        train_encodings = tokenize_function(train_texts)\n",
        "        val_encodings = tokenize_function(val_texts)\n",
        "\n",
        "        train_labels = torch.tensor(train_labels.values, dtype=torch.long)\n",
        "        val_labels = torch.tensor(val_labels.values, dtype=torch.long)\n",
        "\n",
        "        class Dataset(torch.utils.data.Dataset):\n",
        "            def __init__(self, encodings, labels):\n",
        "                self.encodings = encodings\n",
        "                self.labels = labels\n",
        "\n",
        "            def __len__(self):\n",
        "                return len(self.labels)\n",
        "\n",
        "            def __getitem__(self, idx):\n",
        "                item = {key: torch.tensor(val[idx]) for key, val in self.encodings.items()}\n",
        "                item['labels'] = self.labels[idx]\n",
        "                return item\n",
        "\n",
        "        train_dataset = Dataset(train_encodings, train_labels)\n",
        "        val_dataset = Dataset(val_encodings, val_labels)\n",
        "\n",
        "        # Training Arguments\n",
        "        training_args = TrainingArguments(\n",
        "            output_dir=f\"./results/{model_name}_fold_{fold}\",\n",
        "            evaluation_strategy=\"epoch\",\n",
        "            save_strategy=\"epoch\",\n",
        "            learning_rate=5e-5,\n",
        "            per_device_train_batch_size=8,\n",
        "            per_device_eval_batch_size=8,\n",
        "            num_train_epochs=3,\n",
        "            weight_decay=0.01,\n",
        "            save_total_limit=2,\n",
        "            load_best_model_at_end=True,\n",
        "        )\n",
        "\n",
        "        # Define Metrics\n",
        "        def compute_metrics(pred):\n",
        "            predictions = pred.predictions.argmax(-1)\n",
        "            labels = pred.label_ids\n",
        "            precision, recall, f1, _ = precision_recall_fscore_support(labels, predictions, average='weighted')\n",
        "            acc = accuracy_score(labels, predictions)\n",
        "            return {\"accuracy\": acc, \"f1\": f1, \"precision\": precision, \"recall\": recall}\n",
        "\n",
        "        data_collator = DataCollatorWithPadding(tokenizer=tokenizer)\n",
        "        trainer = Trainer(\n",
        "            model=model,\n",
        "            args=training_args,\n",
        "            train_dataset=train_dataset,\n",
        "            eval_dataset=val_dataset,\n",
        "            data_collator=data_collator,\n",
        "            compute_metrics=compute_metrics\n",
        "        )\n",
        "\n",
        "        # Train and Evaluate\n",
        "        trainer.train()\n",
        "        evaluation_results = trainer.evaluate()\n",
        "        print(f\"Fold {fold + 1} Results for {model_name}: {evaluation_results}\")\n",
        "        fold_metrics.append(evaluation_results)\n",
        "\n",
        "    # Compute Average Metrics Across Folds\n",
        "    avg_accuracy = sum([m['eval_accuracy'] for m in fold_metrics]) / len(fold_metrics)\n",
        "    avg_f1 = sum([m['eval_f1'] for m in fold_metrics]) / len(fold_metrics)\n",
        "    avg_precision = sum([m['eval_precision'] for m in fold_metrics]) / len(fold_metrics)\n",
        "    avg_recall = sum([m['eval_recall'] for m in fold_metrics]) / len(fold_metrics)\n",
        "\n",
        "    all_model_results.append({\n",
        "        \"Model\": model_name,\n",
        "        \"Avg_Accuracy\": avg_accuracy,\n",
        "        \"Avg_F1\": avg_f1,\n",
        "        \"Avg_Precision\": avg_precision,\n",
        "        \"Avg_Recall\": avg_recall\n",
        "    })\n",
        "\n",
        "    # Save Model and Tokenizer\n",
        "    model.save_pretrained(f\"./{model_name}_Combined\")\n",
        "    tokenizer.save_pretrained(f\"./{model_name}_Combined\")\n",
        "\n",
        "# Print Final Results\n",
        "results_df = pd.DataFrame(all_model_results)\n",
        "print(\"\\nFinal Results Across Models:\")\n",
        "print(results_df.to_string(index=False))\n"
      ],
      "metadata": {
        "colab": {
          "base_uri": "https://localhost:8080/",
          "height": 1000
        },
        "id": "xn9V_ng_9MV9",
        "outputId": "95866553-cd73-4b7e-b464-24f320acc450"
      },
      "execution_count": 21,
      "outputs": [
        {
          "output_type": "stream",
          "name": "stdout",
          "text": [
            "Loading and preparing the dataset...\n"
          ]
        },
        {
          "output_type": "stream",
          "name": "stderr",
          "text": [
            "<ipython-input-21-5c23786a6fe1>:33: SettingWithCopyWarning:\n",
            "\n",
            "\n",
            "A value is trying to be set on a copy of a slice from a DataFrame.\n",
            "Try using .loc[row_indexer,col_indexer] = value instead\n",
            "\n",
            "See the caveats in the documentation: https://pandas.pydata.org/pandas-docs/stable/user_guide/indexing.html#returning-a-view-versus-a-copy\n",
            "\n",
            "Device set to use cuda:0\n"
          ]
        },
        {
          "output_type": "stream",
          "name": "stdout",
          "text": [
            "\n",
            "Starting model: bert-base-multilingual-cased\n"
          ]
        },
        {
          "output_type": "stream",
          "name": "stderr",
          "text": [
            "Some weights of BertForSequenceClassification were not initialized from the model checkpoint at bert-base-multilingual-cased and are newly initialized: ['classifier.bias', 'classifier.weight']\n",
            "You should probably TRAIN this model on a down-stream task to be able to use it for predictions and inference.\n",
            "/usr/local/lib/python3.11/dist-packages/sklearn/model_selection/_split.py:805: UserWarning:\n",
            "\n",
            "The least populated class in y has only 3 members, which is less than n_splits=5.\n",
            "\n",
            "/usr/local/lib/python3.11/dist-packages/transformers/training_args.py:1575: FutureWarning:\n",
            "\n",
            "`evaluation_strategy` is deprecated and will be removed in version 4.46 of 🤗 Transformers. Use `eval_strategy` instead\n",
            "\n"
          ]
        },
        {
          "output_type": "stream",
          "name": "stdout",
          "text": [
            "\n",
            "Starting Fold 1 for bert-base-multilingual-cased\n"
          ]
        },
        {
          "output_type": "display_data",
          "data": {
            "text/plain": [
              "<IPython.core.display.HTML object>"
            ],
            "text/html": [
              "Tracking run with wandb version 0.19.5"
            ]
          },
          "metadata": {}
        },
        {
          "output_type": "display_data",
          "data": {
            "text/plain": [
              "<IPython.core.display.HTML object>"
            ],
            "text/html": [
              "Run data is saved locally in <code>/content/wandb/run-20250204_202618-8be0jz8n</code>"
            ]
          },
          "metadata": {}
        },
        {
          "output_type": "display_data",
          "data": {
            "text/plain": [
              "<IPython.core.display.HTML object>"
            ],
            "text/html": [
              "Syncing run <strong><a href='https://wandb.ai/nourankhallaf/huggingface/runs/8be0jz8n' target=\"_blank\">./results/bert-base-multilingual-cased_fold_0</a></strong> to <a href='https://wandb.ai/nourankhallaf/huggingface' target=\"_blank\">Weights & Biases</a> (<a href='https://wandb.me/developer-guide' target=\"_blank\">docs</a>)<br>"
            ]
          },
          "metadata": {}
        },
        {
          "output_type": "display_data",
          "data": {
            "text/plain": [
              "<IPython.core.display.HTML object>"
            ],
            "text/html": [
              " View project at <a href='https://wandb.ai/nourankhallaf/huggingface' target=\"_blank\">https://wandb.ai/nourankhallaf/huggingface</a>"
            ]
          },
          "metadata": {}
        },
        {
          "output_type": "display_data",
          "data": {
            "text/plain": [
              "<IPython.core.display.HTML object>"
            ],
            "text/html": [
              " View run at <a href='https://wandb.ai/nourankhallaf/huggingface/runs/8be0jz8n' target=\"_blank\">https://wandb.ai/nourankhallaf/huggingface/runs/8be0jz8n</a>"
            ]
          },
          "metadata": {}
        },
        {
          "output_type": "display_data",
          "data": {
            "text/plain": [
              "<IPython.core.display.HTML object>"
            ],
            "text/html": [
              "\n",
              "    <div>\n",
              "      \n",
              "      <progress value='123' max='123' style='width:300px; height:20px; vertical-align: middle;'></progress>\n",
              "      [123/123 00:58, Epoch 3/3]\n",
              "    </div>\n",
              "    <table border=\"1\" class=\"dataframe\">\n",
              "  <thead>\n",
              " <tr style=\"text-align: left;\">\n",
              "      <th>Epoch</th>\n",
              "      <th>Training Loss</th>\n",
              "      <th>Validation Loss</th>\n",
              "      <th>Accuracy</th>\n",
              "      <th>F1</th>\n",
              "      <th>Precision</th>\n",
              "      <th>Recall</th>\n",
              "    </tr>\n",
              "  </thead>\n",
              "  <tbody>\n",
              "    <tr>\n",
              "      <td>1</td>\n",
              "      <td>No log</td>\n",
              "      <td>1.965029</td>\n",
              "      <td>0.259259</td>\n",
              "      <td>0.171692</td>\n",
              "      <td>0.246550</td>\n",
              "      <td>0.259259</td>\n",
              "    </tr>\n",
              "    <tr>\n",
              "      <td>2</td>\n",
              "      <td>No log</td>\n",
              "      <td>1.738085</td>\n",
              "      <td>0.432099</td>\n",
              "      <td>0.298688</td>\n",
              "      <td>0.251347</td>\n",
              "      <td>0.432099</td>\n",
              "    </tr>\n",
              "    <tr>\n",
              "      <td>3</td>\n",
              "      <td>No log</td>\n",
              "      <td>1.662102</td>\n",
              "      <td>0.407407</td>\n",
              "      <td>0.289191</td>\n",
              "      <td>0.245628</td>\n",
              "      <td>0.407407</td>\n",
              "    </tr>\n",
              "  </tbody>\n",
              "</table><p>"
            ]
          },
          "metadata": {}
        },
        {
          "output_type": "stream",
          "name": "stderr",
          "text": [
            "/usr/local/lib/python3.11/dist-packages/sklearn/metrics/_classification.py:1565: UndefinedMetricWarning:\n",
            "\n",
            "Precision is ill-defined and being set to 0.0 in labels with no predicted samples. Use `zero_division` parameter to control this behavior.\n",
            "\n",
            "/usr/local/lib/python3.11/dist-packages/sklearn/metrics/_classification.py:1565: UndefinedMetricWarning:\n",
            "\n",
            "Precision is ill-defined and being set to 0.0 in labels with no predicted samples. Use `zero_division` parameter to control this behavior.\n",
            "\n",
            "/usr/local/lib/python3.11/dist-packages/sklearn/metrics/_classification.py:1565: UndefinedMetricWarning:\n",
            "\n",
            "Precision is ill-defined and being set to 0.0 in labels with no predicted samples. Use `zero_division` parameter to control this behavior.\n",
            "\n"
          ]
        },
        {
          "output_type": "display_data",
          "data": {
            "text/plain": [
              "<IPython.core.display.HTML object>"
            ],
            "text/html": [
              "\n",
              "    <div>\n",
              "      \n",
              "      <progress value='11' max='11' style='width:300px; height:20px; vertical-align: middle;'></progress>\n",
              "      [11/11 00:00]\n",
              "    </div>\n",
              "    "
            ]
          },
          "metadata": {}
        },
        {
          "output_type": "stream",
          "name": "stderr",
          "text": [
            "/usr/local/lib/python3.11/dist-packages/sklearn/metrics/_classification.py:1565: UndefinedMetricWarning:\n",
            "\n",
            "Precision is ill-defined and being set to 0.0 in labels with no predicted samples. Use `zero_division` parameter to control this behavior.\n",
            "\n",
            "/usr/local/lib/python3.11/dist-packages/transformers/training_args.py:1575: FutureWarning:\n",
            "\n",
            "`evaluation_strategy` is deprecated and will be removed in version 4.46 of 🤗 Transformers. Use `eval_strategy` instead\n",
            "\n"
          ]
        },
        {
          "output_type": "stream",
          "name": "stdout",
          "text": [
            "Fold 1 Results for bert-base-multilingual-cased: {'eval_loss': 1.6621018648147583, 'eval_accuracy': 0.4074074074074074, 'eval_f1': 0.2891913756111287, 'eval_precision': 0.2456275720164609, 'eval_recall': 0.4074074074074074, 'eval_runtime': 0.5945, 'eval_samples_per_second': 136.254, 'eval_steps_per_second': 18.504, 'epoch': 3.0}\n",
            "\n",
            "Starting Fold 2 for bert-base-multilingual-cased\n"
          ]
        },
        {
          "output_type": "display_data",
          "data": {
            "text/plain": [
              "<IPython.core.display.HTML object>"
            ],
            "text/html": [
              "\n",
              "    <div>\n",
              "      \n",
              "      <progress value='123' max='123' style='width:300px; height:20px; vertical-align: middle;'></progress>\n",
              "      [123/123 01:00, Epoch 3/3]\n",
              "    </div>\n",
              "    <table border=\"1\" class=\"dataframe\">\n",
              "  <thead>\n",
              " <tr style=\"text-align: left;\">\n",
              "      <th>Epoch</th>\n",
              "      <th>Training Loss</th>\n",
              "      <th>Validation Loss</th>\n",
              "      <th>Accuracy</th>\n",
              "      <th>F1</th>\n",
              "      <th>Precision</th>\n",
              "      <th>Recall</th>\n",
              "    </tr>\n",
              "  </thead>\n",
              "  <tbody>\n",
              "    <tr>\n",
              "      <td>1</td>\n",
              "      <td>No log</td>\n",
              "      <td>1.657516</td>\n",
              "      <td>0.395062</td>\n",
              "      <td>0.277821</td>\n",
              "      <td>0.240287</td>\n",
              "      <td>0.395062</td>\n",
              "    </tr>\n",
              "    <tr>\n",
              "      <td>2</td>\n",
              "      <td>No log</td>\n",
              "      <td>1.693282</td>\n",
              "      <td>0.382716</td>\n",
              "      <td>0.352641</td>\n",
              "      <td>0.370572</td>\n",
              "      <td>0.382716</td>\n",
              "    </tr>\n",
              "    <tr>\n",
              "      <td>3</td>\n",
              "      <td>No log</td>\n",
              "      <td>1.728907</td>\n",
              "      <td>0.358025</td>\n",
              "      <td>0.322762</td>\n",
              "      <td>0.304997</td>\n",
              "      <td>0.358025</td>\n",
              "    </tr>\n",
              "  </tbody>\n",
              "</table><p>"
            ]
          },
          "metadata": {}
        },
        {
          "output_type": "stream",
          "name": "stderr",
          "text": [
            "/usr/local/lib/python3.11/dist-packages/sklearn/metrics/_classification.py:1565: UndefinedMetricWarning:\n",
            "\n",
            "Precision is ill-defined and being set to 0.0 in labels with no predicted samples. Use `zero_division` parameter to control this behavior.\n",
            "\n",
            "/usr/local/lib/python3.11/dist-packages/sklearn/metrics/_classification.py:1565: UndefinedMetricWarning:\n",
            "\n",
            "Precision is ill-defined and being set to 0.0 in labels with no predicted samples. Use `zero_division` parameter to control this behavior.\n",
            "\n",
            "/usr/local/lib/python3.11/dist-packages/sklearn/metrics/_classification.py:1565: UndefinedMetricWarning:\n",
            "\n",
            "Precision is ill-defined and being set to 0.0 in labels with no predicted samples. Use `zero_division` parameter to control this behavior.\n",
            "\n"
          ]
        },
        {
          "output_type": "display_data",
          "data": {
            "text/plain": [
              "<IPython.core.display.HTML object>"
            ],
            "text/html": [
              "\n",
              "    <div>\n",
              "      \n",
              "      <progress value='11' max='11' style='width:300px; height:20px; vertical-align: middle;'></progress>\n",
              "      [11/11 00:00]\n",
              "    </div>\n",
              "    "
            ]
          },
          "metadata": {}
        },
        {
          "output_type": "stream",
          "name": "stderr",
          "text": [
            "/usr/local/lib/python3.11/dist-packages/sklearn/metrics/_classification.py:1565: UndefinedMetricWarning:\n",
            "\n",
            "Precision is ill-defined and being set to 0.0 in labels with no predicted samples. Use `zero_division` parameter to control this behavior.\n",
            "\n",
            "/usr/local/lib/python3.11/dist-packages/transformers/training_args.py:1575: FutureWarning:\n",
            "\n",
            "`evaluation_strategy` is deprecated and will be removed in version 4.46 of 🤗 Transformers. Use `eval_strategy` instead\n",
            "\n"
          ]
        },
        {
          "output_type": "stream",
          "name": "stdout",
          "text": [
            "Fold 2 Results for bert-base-multilingual-cased: {'eval_loss': 1.6575164794921875, 'eval_accuracy': 0.3950617283950617, 'eval_f1': 0.2778209444876112, 'eval_precision': 0.24028736834763204, 'eval_recall': 0.3950617283950617, 'eval_runtime': 0.8386, 'eval_samples_per_second': 96.591, 'eval_steps_per_second': 13.117, 'epoch': 3.0}\n",
            "\n",
            "Starting Fold 3 for bert-base-multilingual-cased\n"
          ]
        },
        {
          "output_type": "display_data",
          "data": {
            "text/plain": [
              "<IPython.core.display.HTML object>"
            ],
            "text/html": [
              "\n",
              "    <div>\n",
              "      \n",
              "      <progress value='123' max='123' style='width:300px; height:20px; vertical-align: middle;'></progress>\n",
              "      [123/123 01:00, Epoch 3/3]\n",
              "    </div>\n",
              "    <table border=\"1\" class=\"dataframe\">\n",
              "  <thead>\n",
              " <tr style=\"text-align: left;\">\n",
              "      <th>Epoch</th>\n",
              "      <th>Training Loss</th>\n",
              "      <th>Validation Loss</th>\n",
              "      <th>Accuracy</th>\n",
              "      <th>F1</th>\n",
              "      <th>Precision</th>\n",
              "      <th>Recall</th>\n",
              "    </tr>\n",
              "  </thead>\n",
              "  <tbody>\n",
              "    <tr>\n",
              "      <td>1</td>\n",
              "      <td>No log</td>\n",
              "      <td>1.424089</td>\n",
              "      <td>0.432099</td>\n",
              "      <td>0.381825</td>\n",
              "      <td>0.374657</td>\n",
              "      <td>0.432099</td>\n",
              "    </tr>\n",
              "    <tr>\n",
              "      <td>2</td>\n",
              "      <td>No log</td>\n",
              "      <td>1.295387</td>\n",
              "      <td>0.518519</td>\n",
              "      <td>0.477049</td>\n",
              "      <td>0.489934</td>\n",
              "      <td>0.518519</td>\n",
              "    </tr>\n",
              "    <tr>\n",
              "      <td>3</td>\n",
              "      <td>No log</td>\n",
              "      <td>1.283227</td>\n",
              "      <td>0.493827</td>\n",
              "      <td>0.486534</td>\n",
              "      <td>0.495577</td>\n",
              "      <td>0.493827</td>\n",
              "    </tr>\n",
              "  </tbody>\n",
              "</table><p>"
            ]
          },
          "metadata": {}
        },
        {
          "output_type": "stream",
          "name": "stderr",
          "text": [
            "/usr/local/lib/python3.11/dist-packages/sklearn/metrics/_classification.py:1565: UndefinedMetricWarning:\n",
            "\n",
            "Precision is ill-defined and being set to 0.0 in labels with no predicted samples. Use `zero_division` parameter to control this behavior.\n",
            "\n",
            "/usr/local/lib/python3.11/dist-packages/sklearn/metrics/_classification.py:1565: UndefinedMetricWarning:\n",
            "\n",
            "Precision is ill-defined and being set to 0.0 in labels with no predicted samples. Use `zero_division` parameter to control this behavior.\n",
            "\n",
            "/usr/local/lib/python3.11/dist-packages/sklearn/metrics/_classification.py:1565: UndefinedMetricWarning:\n",
            "\n",
            "Precision is ill-defined and being set to 0.0 in labels with no predicted samples. Use `zero_division` parameter to control this behavior.\n",
            "\n"
          ]
        },
        {
          "output_type": "display_data",
          "data": {
            "text/plain": [
              "<IPython.core.display.HTML object>"
            ],
            "text/html": [
              "\n",
              "    <div>\n",
              "      \n",
              "      <progress value='11' max='11' style='width:300px; height:20px; vertical-align: middle;'></progress>\n",
              "      [11/11 00:00]\n",
              "    </div>\n",
              "    "
            ]
          },
          "metadata": {}
        },
        {
          "output_type": "stream",
          "name": "stderr",
          "text": [
            "/usr/local/lib/python3.11/dist-packages/sklearn/metrics/_classification.py:1565: UndefinedMetricWarning:\n",
            "\n",
            "Precision is ill-defined and being set to 0.0 in labels with no predicted samples. Use `zero_division` parameter to control this behavior.\n",
            "\n",
            "/usr/local/lib/python3.11/dist-packages/transformers/training_args.py:1575: FutureWarning:\n",
            "\n",
            "`evaluation_strategy` is deprecated and will be removed in version 4.46 of 🤗 Transformers. Use `eval_strategy` instead\n",
            "\n"
          ]
        },
        {
          "output_type": "stream",
          "name": "stdout",
          "text": [
            "Fold 3 Results for bert-base-multilingual-cased: {'eval_loss': 1.2832270860671997, 'eval_accuracy': 0.49382716049382713, 'eval_f1': 0.48653407469832594, 'eval_precision': 0.49557654820812713, 'eval_recall': 0.49382716049382713, 'eval_runtime': 0.8031, 'eval_samples_per_second': 100.862, 'eval_steps_per_second': 13.697, 'epoch': 3.0}\n",
            "\n",
            "Starting Fold 4 for bert-base-multilingual-cased\n"
          ]
        },
        {
          "output_type": "display_data",
          "data": {
            "text/plain": [
              "<IPython.core.display.HTML object>"
            ],
            "text/html": [
              "\n",
              "    <div>\n",
              "      \n",
              "      <progress value='123' max='123' style='width:300px; height:20px; vertical-align: middle;'></progress>\n",
              "      [123/123 00:58, Epoch 3/3]\n",
              "    </div>\n",
              "    <table border=\"1\" class=\"dataframe\">\n",
              "  <thead>\n",
              " <tr style=\"text-align: left;\">\n",
              "      <th>Epoch</th>\n",
              "      <th>Training Loss</th>\n",
              "      <th>Validation Loss</th>\n",
              "      <th>Accuracy</th>\n",
              "      <th>F1</th>\n",
              "      <th>Precision</th>\n",
              "      <th>Recall</th>\n",
              "    </tr>\n",
              "  </thead>\n",
              "  <tbody>\n",
              "    <tr>\n",
              "      <td>1</td>\n",
              "      <td>No log</td>\n",
              "      <td>1.405984</td>\n",
              "      <td>0.493827</td>\n",
              "      <td>0.446193</td>\n",
              "      <td>0.464822</td>\n",
              "      <td>0.493827</td>\n",
              "    </tr>\n",
              "    <tr>\n",
              "      <td>2</td>\n",
              "      <td>No log</td>\n",
              "      <td>1.062407</td>\n",
              "      <td>0.604938</td>\n",
              "      <td>0.581971</td>\n",
              "      <td>0.571075</td>\n",
              "      <td>0.604938</td>\n",
              "    </tr>\n",
              "    <tr>\n",
              "      <td>3</td>\n",
              "      <td>No log</td>\n",
              "      <td>1.128953</td>\n",
              "      <td>0.592593</td>\n",
              "      <td>0.585660</td>\n",
              "      <td>0.600789</td>\n",
              "      <td>0.592593</td>\n",
              "    </tr>\n",
              "  </tbody>\n",
              "</table><p>"
            ]
          },
          "metadata": {}
        },
        {
          "output_type": "stream",
          "name": "stderr",
          "text": [
            "/usr/local/lib/python3.11/dist-packages/sklearn/metrics/_classification.py:1565: UndefinedMetricWarning:\n",
            "\n",
            "Precision is ill-defined and being set to 0.0 in labels with no predicted samples. Use `zero_division` parameter to control this behavior.\n",
            "\n",
            "/usr/local/lib/python3.11/dist-packages/sklearn/metrics/_classification.py:1565: UndefinedMetricWarning:\n",
            "\n",
            "Precision is ill-defined and being set to 0.0 in labels with no predicted samples. Use `zero_division` parameter to control this behavior.\n",
            "\n",
            "/usr/local/lib/python3.11/dist-packages/sklearn/metrics/_classification.py:1565: UndefinedMetricWarning:\n",
            "\n",
            "Precision is ill-defined and being set to 0.0 in labels with no predicted samples. Use `zero_division` parameter to control this behavior.\n",
            "\n"
          ]
        },
        {
          "output_type": "display_data",
          "data": {
            "text/plain": [
              "<IPython.core.display.HTML object>"
            ],
            "text/html": [
              "\n",
              "    <div>\n",
              "      \n",
              "      <progress value='11' max='11' style='width:300px; height:20px; vertical-align: middle;'></progress>\n",
              "      [11/11 00:00]\n",
              "    </div>\n",
              "    "
            ]
          },
          "metadata": {}
        },
        {
          "output_type": "stream",
          "name": "stderr",
          "text": [
            "/usr/local/lib/python3.11/dist-packages/sklearn/metrics/_classification.py:1565: UndefinedMetricWarning:\n",
            "\n",
            "Precision is ill-defined and being set to 0.0 in labels with no predicted samples. Use `zero_division` parameter to control this behavior.\n",
            "\n",
            "/usr/local/lib/python3.11/dist-packages/transformers/training_args.py:1575: FutureWarning:\n",
            "\n",
            "`evaluation_strategy` is deprecated and will be removed in version 4.46 of 🤗 Transformers. Use `eval_strategy` instead\n",
            "\n"
          ]
        },
        {
          "output_type": "stream",
          "name": "stdout",
          "text": [
            "Fold 4 Results for bert-base-multilingual-cased: {'eval_loss': 1.062407374382019, 'eval_accuracy': 0.6049382716049383, 'eval_f1': 0.5819714451293398, 'eval_precision': 0.5710749470008729, 'eval_recall': 0.6049382716049383, 'eval_runtime': 0.8474, 'eval_samples_per_second': 95.592, 'eval_steps_per_second': 12.982, 'epoch': 3.0}\n",
            "\n",
            "Starting Fold 5 for bert-base-multilingual-cased\n"
          ]
        },
        {
          "output_type": "display_data",
          "data": {
            "text/plain": [
              "<IPython.core.display.HTML object>"
            ],
            "text/html": [
              "\n",
              "    <div>\n",
              "      \n",
              "      <progress value='123' max='123' style='width:300px; height:20px; vertical-align: middle;'></progress>\n",
              "      [123/123 00:56, Epoch 3/3]\n",
              "    </div>\n",
              "    <table border=\"1\" class=\"dataframe\">\n",
              "  <thead>\n",
              " <tr style=\"text-align: left;\">\n",
              "      <th>Epoch</th>\n",
              "      <th>Training Loss</th>\n",
              "      <th>Validation Loss</th>\n",
              "      <th>Accuracy</th>\n",
              "      <th>F1</th>\n",
              "      <th>Precision</th>\n",
              "      <th>Recall</th>\n",
              "    </tr>\n",
              "  </thead>\n",
              "  <tbody>\n",
              "    <tr>\n",
              "      <td>1</td>\n",
              "      <td>No log</td>\n",
              "      <td>1.206366</td>\n",
              "      <td>0.575000</td>\n",
              "      <td>0.551354</td>\n",
              "      <td>0.586754</td>\n",
              "      <td>0.575000</td>\n",
              "    </tr>\n",
              "    <tr>\n",
              "      <td>2</td>\n",
              "      <td>No log</td>\n",
              "      <td>1.112996</td>\n",
              "      <td>0.600000</td>\n",
              "      <td>0.572703</td>\n",
              "      <td>0.628750</td>\n",
              "      <td>0.600000</td>\n",
              "    </tr>\n",
              "    <tr>\n",
              "      <td>3</td>\n",
              "      <td>No log</td>\n",
              "      <td>0.996694</td>\n",
              "      <td>0.625000</td>\n",
              "      <td>0.610622</td>\n",
              "      <td>0.645580</td>\n",
              "      <td>0.625000</td>\n",
              "    </tr>\n",
              "  </tbody>\n",
              "</table><p>"
            ]
          },
          "metadata": {}
        },
        {
          "output_type": "stream",
          "name": "stderr",
          "text": [
            "/usr/local/lib/python3.11/dist-packages/sklearn/metrics/_classification.py:1565: UndefinedMetricWarning:\n",
            "\n",
            "Precision is ill-defined and being set to 0.0 in labels with no predicted samples. Use `zero_division` parameter to control this behavior.\n",
            "\n",
            "/usr/local/lib/python3.11/dist-packages/sklearn/metrics/_classification.py:1565: UndefinedMetricWarning:\n",
            "\n",
            "Precision is ill-defined and being set to 0.0 in labels with no predicted samples. Use `zero_division` parameter to control this behavior.\n",
            "\n"
          ]
        },
        {
          "output_type": "display_data",
          "data": {
            "text/plain": [
              "<IPython.core.display.HTML object>"
            ],
            "text/html": [
              "\n",
              "    <div>\n",
              "      \n",
              "      <progress value='10' max='10' style='width:300px; height:20px; vertical-align: middle;'></progress>\n",
              "      [10/10 00:00]\n",
              "    </div>\n",
              "    "
            ]
          },
          "metadata": {}
        },
        {
          "output_type": "stream",
          "name": "stdout",
          "text": [
            "Fold 5 Results for bert-base-multilingual-cased: {'eval_loss': 0.9966944456100464, 'eval_accuracy': 0.625, 'eval_f1': 0.6106218791864572, 'eval_precision': 0.6455803571428571, 'eval_recall': 0.625, 'eval_runtime': 0.5799, 'eval_samples_per_second': 137.95, 'eval_steps_per_second': 17.244, 'epoch': 3.0}\n",
            "\n",
            "Final Results Across Models:\n",
            "                       Model  Avg_Accuracy   Avg_F1  Avg_Precision  Avg_Recall\n",
            "bert-base-multilingual-cased      0.505247 0.449228       0.439629    0.505247\n"
          ]
        }
      ]
    },
    {
      "cell_type": "code",
      "source": [
        "from transformers import AutoTokenizer, AutoModelForSequenceClassification, Trainer\n",
        "import numpy as np\n",
        "from sklearn.metrics import classification_report\n",
        "\n",
        "# Load the saved model and tokenizer\n",
        "saved_model_path = \"./bert-base-multilingual-cased_Combined\"\n",
        "model = AutoModelForSequenceClassification.from_pretrained(saved_model_path)\n",
        "tokenizer = AutoTokenizer.from_pretrained(saved_model_path)\n",
        "\n",
        "# Reinitialize the Trainer with the loaded model\n",
        "trainer = Trainer(\n",
        "    model=model,\n",
        "    args=training_args,  # Ensure training_args is correctly defined earlier\n",
        "    eval_dataset=val_dataset  # Ensure val_dataset is defined\n",
        ")\n",
        "\n",
        "# Evaluate the model\n",
        "trainer.evaluate()\n",
        "\n",
        "# Make predictions\n",
        "predictions = trainer.predict(val_dataset)\n",
        "\n",
        "# Decode predicted labels\n",
        "predicted_labels = np.argmax(predictions.predictions, axis=1)\n",
        "\n",
        "# Debugging output\n",
        "print(\"Predicted classes:\", len(np.unique(predicted_labels)))\n",
        "print(\"Label Encoder classes:\", len(label_encoder.classes_))\n",
        "\n",
        "# Ensure target_names is a list of strings\n",
        "target_names = list(map(str, label_encoder.classes_))\n",
        "\n",
        "# Print the classification report\n",
        "print(classification_report(\n",
        "    val_labels,  # Ensure val_labels is defined\n",
        "    predicted_labels,\n",
        "    labels=list(range(len(target_names))),\n",
        "    target_names=target_names,\n",
        "    zero_division=0\n",
        "))\n"
      ],
      "metadata": {
        "colab": {
          "base_uri": "https://localhost:8080/",
          "height": 356
        },
        "id": "bkFS38IxPjUN",
        "outputId": "4537cbe8-4692-49c5-cac1-b2ca89a59e26"
      },
      "execution_count": 23,
      "outputs": [
        {
          "output_type": "display_data",
          "data": {
            "text/plain": [
              "<IPython.core.display.HTML object>"
            ],
            "text/html": []
          },
          "metadata": {}
        },
        {
          "output_type": "stream",
          "name": "stdout",
          "text": [
            "Predicted classes: 10\n",
            "Label Encoder classes: 10\n",
            "               precision    recall  f1-score   support\n",
            "\n",
            "  Compression       0.50      0.33      0.40         3\n",
            "  Explanation       0.69      0.61      0.65        18\n",
            "   Modulation       0.57      0.50      0.53         8\n",
            "     Omission       1.00      0.33      0.50         3\n",
            " Substitution       0.48      0.80      0.60        15\n",
            "     Synonymy       0.00      0.00      0.00         1\n",
            "    Syntactic       0.67      0.40      0.50        10\n",
            "Transcription       0.92      1.00      0.96        11\n",
            "Transposition       0.50      0.20      0.29         5\n",
            "          nan       0.62      0.83      0.71         6\n",
            "\n",
            "     accuracy                           0.62        80\n",
            "    macro avg       0.59      0.50      0.51        80\n",
            " weighted avg       0.65      0.62      0.61        80\n",
            "\n"
          ]
        }
      ]
    },
    {
      "cell_type": "markdown",
      "source": [
        "\n",
        "\n",
        "> # Model #2 standard French only\n",
        "\n"
      ],
      "metadata": {
        "id": "IgCPSwm0kTyd"
      }
    },
    {
      "cell_type": "markdown",
      "source": [
        "# `**This model only uses the \"Standard\" version of the text and the \"Categories\" for classification.**`\n"
      ],
      "metadata": {
        "id": "5Y4FRY8Jke4E"
      }
    },
    {
      "cell_type": "markdown",
      "source": [
        "## ** Implementing Weighted Loss for Imbalanced Classes**\n",
        "To **handle imbalanced class representation**, we compute **class weights**:\n",
        "```python\n",
        "class_counts = data['Typology Encoded'].value_counts()\n",
        "class_weights = torch.tensor([1.0 / count * len(data) / 2.0 for count in class_counts])\n",
        "```\n",
        "We define a **custom loss function** to apply these weights:\n",
        "```python\n",
        "class CustomTrainer(Trainer):\n",
        "    def compute_loss(self, model, inputs, return_outputs=False, **kwargs):\n",
        "        labels = inputs.pop(\"labels\")\n",
        "        outputs = model(**inputs)\n",
        "        logits = outputs.logits\n",
        "        loss_fct = torch.nn.CrossEntropyLoss(weight=class_weights.to(logits.device))\n",
        "        loss = loss_fct(logits, labels)\n",
        "        return (loss, outputs) if return_outputs else loss\n",
        "```\n",
        "\n",
        "✅ **Why?**  \n",
        "- Prevents **majority classes from dominating** training.\n",
        "- Encourages the model to learn from **underrepresented classes**.\n",
        "\n",
        "\n",
        "> Only Complex\n",
        "\n",
        "## **Summary of Improvements**\n",
        "### ✅ **What We Did and Why?**\n",
        "| **Step** | **What We Did** | **Why?** |\n",
        "|----------|----------------|----------|\n",
        "| **Data Cleaning** | Removed missing values, standardized labels | Ensures consistency and avoids errors |\n",
        "| **Data Augmentation** | Used T5-small to paraphrase rare class samples | Balances class distribution |\n",
        "| **Stratified K-Fold CV** | Used 5-fold cross-validation | Ensures robust evaluation |\n",
        "| **Class Weights** | Adjusted loss function with computed class weights | Prevents bias towards majority classes |\n",
        "| **Training Optimization** | Used mixed precision (`fp16`), gradient checkpointing, and early stopping | Speeds up training and prevents overfitting |\n",
        "| **Performance Logging** | Stored detailed per-epoch, per-fold, and aggregated metrics | Enables deep analysis of model behavior |\n",
        "\n",
        "---"
      ],
      "metadata": {
        "id": "90Z_u0ZzPHui"
      }
    },
    {
      "cell_type": "code",
      "source": [
        "import pandas as pd\n",
        "import torch\n",
        "import time\n",
        "from sklearn.preprocessing import LabelEncoder\n",
        "from sklearn.model_selection import StratifiedKFold\n",
        "from transformers import (\n",
        "    AutoTokenizer,\n",
        "    AutoModelForSequenceClassification,\n",
        "    TrainingArguments,\n",
        "    Trainer,\n",
        "    DataCollatorWithPadding,\n",
        "    EarlyStoppingCallback\n",
        ")\n",
        "from sklearn.metrics import precision_recall_fscore_support, accuracy_score\n",
        "\n",
        "\n",
        "data = data.dropna(subset=['Version initiale', 'Catégorie'])\n",
        "data['Typology'] = data['Catégorie'].str.replace(\"\\xa0\", \"\").str.replace(\" \", \"\")  # Remove non-breaking spaces and regular spaces from the Typology column\n",
        "from transformers import pipeline\n",
        "\n",
        "paraphraser = pipeline(\"text2text-generation\", model=\"t5-small\")\n",
        "\n",
        "underrepresented_classes = data['Catégorie'].value_counts().tail(3).index.tolist()\n",
        "paraphraser = pipeline(\"text2text-generation\", model=\"t5-small\")\n",
        "\n",
        "def augment_text(text):\n",
        "    augmented = paraphraser(text, max_length=100, num_return_sequences=1)\n",
        "    return augmented[0]['generated_text']\n",
        "\n",
        "# Apply paraphrasing\n",
        "augmented_data = []\n",
        "for typology in underrepresented_classes:\n",
        "    class_data = data[data['Typology'] == typology]\n",
        "    for _, row in class_data.iterrows():\n",
        "        augmented_text = augment_text(row['Version initiale'])\n",
        "        augmented_data.append({'Version initiale': augmented_text, 'Typology': typology})\n",
        "\n",
        "# Append augmented data\n",
        "augmented_df = pd.DataFrame(augmented_data)\n",
        "data = pd.concat([data, augmented_df], ignore_index=True)\n",
        "\n",
        "\n",
        "# Encode Typologies\n",
        "label_encoder = LabelEncoder()\n",
        "data['Typology Encoded'] = label_encoder.fit_transform(data['Typology'])\n",
        "\n",
        "# Calculate class weights\n",
        "class_counts = data['Typology Encoded'].value_counts()\n",
        "class_weights = torch.tensor([1.0 / count * len(data) / 2.0 for count in class_counts])\n",
        "\n",
        "# Prepare Models and Loop Over Them\n",
        "models_to_test = [\n",
        "\n",
        "    \"bert-base-multilingual-cased\",\n",
        "\n",
        "]\n",
        "\n",
        "all_model_results = []\n",
        "skf = StratifiedKFold(n_splits=5)\n",
        "detailed_results = []  # Collect per-fold and per-epoch results\n",
        "aggregated_summary = []  # Aggregated summary for each model\n",
        "\n",
        "# Define a Custom Trainer to Incorporate Class Weights\n",
        "class CustomTrainer(Trainer):\n",
        "    def compute_loss(self, model, inputs, return_outputs=False, **kwargs):\n",
        "        labels = inputs.pop(\"labels\")\n",
        "        outputs = model(**inputs)\n",
        "        logits = outputs.logits\n",
        "        loss_fct = torch.nn.CrossEntropyLoss(weight=class_weights.to(logits.device))  # Use class weights\n",
        "        loss = loss_fct(logits, labels)\n",
        "        return (loss, outputs) if return_outputs else loss\n",
        "\n",
        "for model_name in models_to_test:\n",
        "\n",
        "    print(f\"\\nStarting model: {model_name}\")\n",
        "\n",
        "    tokenizer = AutoTokenizer.from_pretrained(model_name)\n",
        "    model = AutoModelForSequenceClassification.from_pretrained(\n",
        "        model_name,\n",
        "        num_labels=len(label_encoder.classes_)\n",
        "    )\n",
        "\n",
        "    fold_metrics = []\n",
        "    model_start_time = time.time()\n",
        "\n",
        "    for fold, (train_index, val_index) in enumerate(skf.split(data['Version initiale'], data['Typology Encoded'])):\n",
        "        print(f\"\\nStarting Fold {fold + 1} for {model_name}\")\n",
        "\n",
        "        # Split Data\n",
        "        train_texts, val_texts = data['Version initiale'].iloc[train_index], data['Version initiale'].iloc[val_index]\n",
        "        train_labels, val_labels = data['Typology Encoded'].iloc[train_index], data['Typology Encoded'].iloc[val_index]\n",
        "\n",
        "        def tokenize_function(texts):\n",
        "            return tokenizer(list(texts), padding=True, truncation=True, max_length=512)\n",
        "\n",
        "        train_encodings = tokenize_function(train_texts)\n",
        "        val_encodings = tokenize_function(val_texts)\n",
        "\n",
        "        train_labels = torch.tensor(train_labels.values, dtype=torch.long)\n",
        "        val_labels = torch.tensor(val_labels.values, dtype=torch.long)\n",
        "\n",
        "        class Dataset(torch.utils.data.Dataset):\n",
        "            def __init__(self, encodings, labels):\n",
        "                self.encodings = encodings\n",
        "                self.labels = labels\n",
        "\n",
        "            def __len__(self):\n",
        "                return len(self.labels)\n",
        "\n",
        "            def __getitem__(self, idx):\n",
        "                item = {key: torch.tensor(val[idx]) for key, val in self.encodings.items()}\n",
        "                item['labels'] = self.labels[idx]\n",
        "                return item\n",
        "\n",
        "        train_dataset = Dataset(train_encodings, train_labels)\n",
        "        val_dataset = Dataset(val_encodings, val_labels)\n",
        "\n",
        "        # Training Arguments\n",
        "        training_args = TrainingArguments(\n",
        "            output_dir=f\"./results/{model_name}_fold_{fold}\",\n",
        "            evaluation_strategy=\"epoch\",\n",
        "            save_strategy=\"epoch\",\n",
        "            learning_rate=5e-6,\n",
        "            per_device_train_batch_size=8,\n",
        "            per_device_eval_batch_size=8,\n",
        "            num_train_epochs=5,  # High number; EarlyStopping will handle stopping\n",
        "            weight_decay=0.01,\n",
        "            logging_dir=f\"./logs/{model_name}_fold_{fold}\",\n",
        "            save_total_limit=2,\n",
        "            load_best_model_at_end=True,\n",
        "            gradient_accumulation_steps=1,\n",
        "            fp16=True,\n",
        "            gradient_checkpointing=True,\n",
        "            max_grad_norm=1.0  # Gradient clipping\n",
        "        )\n",
        "\n",
        "        # Define Metrics\n",
        "        def compute_metrics(pred):\n",
        "            predictions = pred.predictions.argmax(-1)\n",
        "            labels = pred.label_ids\n",
        "            precision, recall, f1, _ = precision_recall_fscore_support(labels, predictions, average='weighted')\n",
        "            accuracy = accuracy_score(labels, predictions)\n",
        "            return {\n",
        "                \"eval_precision\": precision,\n",
        "                \"eval_recall\": recall,\n",
        "                \"eval_f1\": f1,\n",
        "                \"eval_accuracy\": accuracy\n",
        "            }\n",
        "\n",
        "        data_collator = DataCollatorWithPadding(tokenizer=tokenizer)\n",
        "        trainer = CustomTrainer(\n",
        "            model=model,\n",
        "            args=training_args,\n",
        "            train_dataset=train_dataset,\n",
        "            eval_dataset=val_dataset,\n",
        "            data_collator=data_collator,\n",
        "            compute_metrics=compute_metrics,\n",
        "            callbacks=[EarlyStoppingCallback(early_stopping_patience=3)]  # Early stopping\n",
        "        )\n",
        "\n",
        "        # Train and Evaluate\n",
        "        trainer.train()\n",
        "        for epoch in range(int(trainer.state.epoch)):  # Collect metrics per epoch\n",
        "            epoch_results = trainer.evaluate()\n",
        "            epoch_results.update({\"Model\": model_name, \"Fold\": fold + 1, \"Epoch\": epoch + 1})\n",
        "            detailed_results.append(epoch_results)\n",
        "\n",
        "        evaluation_results = trainer.evaluate()\n",
        "        print(f\"Fold {fold + 1} Results for {model_name}: {evaluation_results}\")\n",
        "\n",
        "        # Collect metrics for the fold\n",
        "        fold_metrics.append(evaluation_results)\n",
        "\n",
        "    # Calculate average metrics across folds\n",
        "    avg_precision = sum([m['eval_precision'] for m in fold_metrics]) / len(fold_metrics)\n",
        "    avg_recall = sum([m['eval_recall'] for m in fold_metrics]) / len(fold_metrics)\n",
        "    avg_f1 = sum([m['eval_f1'] for m in fold_metrics]) / len(fold_metrics)\n",
        "    avg_accuracy = sum([m['eval_accuracy'] for m in fold_metrics]) / len(fold_metrics)\n",
        "\n",
        "    # Calculate training time\n",
        "    model_training_time = time.time() - model_start_time\n",
        "\n",
        "\n",
        "\n",
        "    # Add to final model results\n",
        "    all_model_results.append({\n",
        "        \"Model\": model_name,\n",
        "        \"Avg_Precision\": avg_precision,\n",
        "        \"Avg_Recall\": avg_recall,\n",
        "        \"Avg_F1\": avg_f1,\n",
        "        \"Avg_Accuracy\": avg_accuracy,\n",
        "        \"Training_Time_Seconds\": model_training_time\n",
        "    })\n",
        "\n",
        "\n",
        "    # Add aggregated summary for this model\n",
        "    aggregated_summary.append({\n",
        "        \"Model\": model_name,\n",
        "        \"Avg_Precision\": avg_precision,\n",
        "        \"Avg_Recall\": avg_recall,\n",
        "        \"Avg_F1\": avg_f1,\n",
        "        \"Avg_Accuracy\": avg_accuracy,\n",
        "        \"Training_Time_Seconds\": model_training_time\n",
        "    })\n",
        "\n",
        "    # Save Model and Tokenizer\n",
        "    model.save_pretrained(f\"./{model_name}_complex\")\n",
        "    tokenizer.save_pretrained(f\"./{model_name}_complex\")\n",
        "\n",
        "# Create a DataFrame for final results\n",
        "final_results_df = pd.DataFrame(all_model_results)\n",
        "final_results_df.to_csv(\"complex_model_results.csv\", index=False)\n",
        "print(\"\\nFinal Results Across Models:\")\n",
        "print(final_results_df)\n",
        "\n",
        "# Create a DataFrame for detailed results\n",
        "detailed_results_df = pd.DataFrame(detailed_results)\n",
        "detailed_results_df.to_csv(\"Complex_detailed_model_results.csv\", index=False)\n",
        "print(\"\\nDetailed Results Per Fold and Epoch:\")\n",
        "print(detailed_results_df)\n",
        "\n",
        "# Create a DataFrame for aggregated summary\n",
        "aggregated_summary_df = pd.DataFrame(aggregated_summary)\n",
        "aggregated_summary_df.to_csv(\"Complex_aggregated_model_summary.csv\", index=False)\n",
        "print(\"\\nAggregated Summary for Each Model:\")\n",
        "print(aggregated_summary_df)\n"
      ],
      "metadata": {
        "colab": {
          "base_uri": "https://localhost:8080/",
          "height": 1000
        },
        "id": "VHXQ-D42_zLL",
        "outputId": "3c5c178d-6302-46a0-c90a-308cd864cf0a"
      },
      "execution_count": 24,
      "outputs": [
        {
          "output_type": "stream",
          "name": "stderr",
          "text": [
            "<ipython-input-24-c38eba7d920f>:18: SettingWithCopyWarning:\n",
            "\n",
            "\n",
            "A value is trying to be set on a copy of a slice from a DataFrame.\n",
            "Try using .loc[row_indexer,col_indexer] = value instead\n",
            "\n",
            "See the caveats in the documentation: https://pandas.pydata.org/pandas-docs/stable/user_guide/indexing.html#returning-a-view-versus-a-copy\n",
            "\n",
            "Device set to use cuda:0\n",
            "Device set to use cuda:0\n"
          ]
        },
        {
          "output_type": "stream",
          "name": "stdout",
          "text": [
            "\n",
            "Starting model: bert-base-multilingual-cased\n"
          ]
        },
        {
          "output_type": "stream",
          "name": "stderr",
          "text": [
            "Some weights of BertForSequenceClassification were not initialized from the model checkpoint at bert-base-multilingual-cased and are newly initialized: ['classifier.bias', 'classifier.weight']\n",
            "You should probably TRAIN this model on a down-stream task to be able to use it for predictions and inference.\n",
            "/usr/local/lib/python3.11/dist-packages/transformers/training_args.py:1575: FutureWarning:\n",
            "\n",
            "`evaluation_strategy` is deprecated and will be removed in version 4.46 of 🤗 Transformers. Use `eval_strategy` instead\n",
            "\n"
          ]
        },
        {
          "output_type": "stream",
          "name": "stdout",
          "text": [
            "\n",
            "Starting Fold 1 for bert-base-multilingual-cased\n"
          ]
        },
        {
          "output_type": "display_data",
          "data": {
            "text/plain": [
              "<IPython.core.display.HTML object>"
            ],
            "text/html": [
              "\n",
              "    <div>\n",
              "      \n",
              "      <progress value='205' max='205' style='width:300px; height:20px; vertical-align: middle;'></progress>\n",
              "      [205/205 01:04, Epoch 5/5]\n",
              "    </div>\n",
              "    <table border=\"1\" class=\"dataframe\">\n",
              "  <thead>\n",
              " <tr style=\"text-align: left;\">\n",
              "      <th>Epoch</th>\n",
              "      <th>Training Loss</th>\n",
              "      <th>Validation Loss</th>\n",
              "      <th>Precision</th>\n",
              "      <th>Recall</th>\n",
              "      <th>F1</th>\n",
              "      <th>Accuracy</th>\n",
              "    </tr>\n",
              "  </thead>\n",
              "  <tbody>\n",
              "    <tr>\n",
              "      <td>1</td>\n",
              "      <td>No log</td>\n",
              "      <td>2.106588</td>\n",
              "      <td>0.080326</td>\n",
              "      <td>0.160494</td>\n",
              "      <td>0.083288</td>\n",
              "      <td>0.160494</td>\n",
              "    </tr>\n",
              "    <tr>\n",
              "      <td>2</td>\n",
              "      <td>No log</td>\n",
              "      <td>2.036650</td>\n",
              "      <td>0.018909</td>\n",
              "      <td>0.135802</td>\n",
              "      <td>0.033196</td>\n",
              "      <td>0.135802</td>\n",
              "    </tr>\n",
              "    <tr>\n",
              "      <td>3</td>\n",
              "      <td>No log</td>\n",
              "      <td>2.025020</td>\n",
              "      <td>0.020463</td>\n",
              "      <td>0.135802</td>\n",
              "      <td>0.035567</td>\n",
              "      <td>0.135802</td>\n",
              "    </tr>\n",
              "    <tr>\n",
              "      <td>4</td>\n",
              "      <td>No log</td>\n",
              "      <td>2.008434</td>\n",
              "      <td>0.021040</td>\n",
              "      <td>0.135802</td>\n",
              "      <td>0.036435</td>\n",
              "      <td>0.135802</td>\n",
              "    </tr>\n",
              "    <tr>\n",
              "      <td>5</td>\n",
              "      <td>No log</td>\n",
              "      <td>2.003588</td>\n",
              "      <td>0.033399</td>\n",
              "      <td>0.135802</td>\n",
              "      <td>0.046946</td>\n",
              "      <td>0.135802</td>\n",
              "    </tr>\n",
              "  </tbody>\n",
              "</table><p>"
            ]
          },
          "metadata": {}
        },
        {
          "output_type": "stream",
          "name": "stderr",
          "text": [
            "/usr/local/lib/python3.11/dist-packages/sklearn/metrics/_classification.py:1565: UndefinedMetricWarning:\n",
            "\n",
            "Precision is ill-defined and being set to 0.0 in labels with no predicted samples. Use `zero_division` parameter to control this behavior.\n",
            "\n",
            "/usr/local/lib/python3.11/dist-packages/sklearn/metrics/_classification.py:1565: UndefinedMetricWarning:\n",
            "\n",
            "Precision is ill-defined and being set to 0.0 in labels with no predicted samples. Use `zero_division` parameter to control this behavior.\n",
            "\n",
            "/usr/local/lib/python3.11/dist-packages/sklearn/metrics/_classification.py:1565: UndefinedMetricWarning:\n",
            "\n",
            "Precision is ill-defined and being set to 0.0 in labels with no predicted samples. Use `zero_division` parameter to control this behavior.\n",
            "\n",
            "/usr/local/lib/python3.11/dist-packages/sklearn/metrics/_classification.py:1565: UndefinedMetricWarning:\n",
            "\n",
            "Precision is ill-defined and being set to 0.0 in labels with no predicted samples. Use `zero_division` parameter to control this behavior.\n",
            "\n",
            "/usr/local/lib/python3.11/dist-packages/sklearn/metrics/_classification.py:1565: UndefinedMetricWarning:\n",
            "\n",
            "Precision is ill-defined and being set to 0.0 in labels with no predicted samples. Use `zero_division` parameter to control this behavior.\n",
            "\n"
          ]
        },
        {
          "output_type": "display_data",
          "data": {
            "text/plain": [
              "<IPython.core.display.HTML object>"
            ],
            "text/html": [
              "\n",
              "    <div>\n",
              "      \n",
              "      <progress value='66' max='11' style='width:300px; height:20px; vertical-align: middle;'></progress>\n",
              "      [11/11 00:01]\n",
              "    </div>\n",
              "    "
            ]
          },
          "metadata": {}
        },
        {
          "output_type": "stream",
          "name": "stderr",
          "text": [
            "/usr/local/lib/python3.11/dist-packages/sklearn/metrics/_classification.py:1565: UndefinedMetricWarning:\n",
            "\n",
            "Precision is ill-defined and being set to 0.0 in labels with no predicted samples. Use `zero_division` parameter to control this behavior.\n",
            "\n",
            "/usr/local/lib/python3.11/dist-packages/sklearn/metrics/_classification.py:1565: UndefinedMetricWarning:\n",
            "\n",
            "Precision is ill-defined and being set to 0.0 in labels with no predicted samples. Use `zero_division` parameter to control this behavior.\n",
            "\n",
            "/usr/local/lib/python3.11/dist-packages/sklearn/metrics/_classification.py:1565: UndefinedMetricWarning:\n",
            "\n",
            "Precision is ill-defined and being set to 0.0 in labels with no predicted samples. Use `zero_division` parameter to control this behavior.\n",
            "\n",
            "/usr/local/lib/python3.11/dist-packages/sklearn/metrics/_classification.py:1565: UndefinedMetricWarning:\n",
            "\n",
            "Precision is ill-defined and being set to 0.0 in labels with no predicted samples. Use `zero_division` parameter to control this behavior.\n",
            "\n",
            "/usr/local/lib/python3.11/dist-packages/sklearn/metrics/_classification.py:1565: UndefinedMetricWarning:\n",
            "\n",
            "Precision is ill-defined and being set to 0.0 in labels with no predicted samples. Use `zero_division` parameter to control this behavior.\n",
            "\n",
            "/usr/local/lib/python3.11/dist-packages/sklearn/metrics/_classification.py:1565: UndefinedMetricWarning:\n",
            "\n",
            "Precision is ill-defined and being set to 0.0 in labels with no predicted samples. Use `zero_division` parameter to control this behavior.\n",
            "\n",
            "/usr/local/lib/python3.11/dist-packages/transformers/training_args.py:1575: FutureWarning:\n",
            "\n",
            "`evaluation_strategy` is deprecated and will be removed in version 4.46 of 🤗 Transformers. Use `eval_strategy` instead\n",
            "\n"
          ]
        },
        {
          "output_type": "stream",
          "name": "stdout",
          "text": [
            "Fold 1 Results for bert-base-multilingual-cased: {'eval_precision': 0.03339893839088686, 'eval_recall': 0.13580246913580246, 'eval_f1': 0.046946068875893435, 'eval_accuracy': 0.13580246913580246, 'eval_loss': 2.0035877227783203, 'eval_runtime': 0.1969, 'eval_samples_per_second': 411.353, 'eval_steps_per_second': 55.863, 'epoch': 5.0}\n",
            "\n",
            "Starting Fold 2 for bert-base-multilingual-cased\n"
          ]
        },
        {
          "output_type": "display_data",
          "data": {
            "text/plain": [
              "<IPython.core.display.HTML object>"
            ],
            "text/html": [
              "\n",
              "    <div>\n",
              "      \n",
              "      <progress value='205' max='205' style='width:300px; height:20px; vertical-align: middle;'></progress>\n",
              "      [205/205 01:07, Epoch 5/5]\n",
              "    </div>\n",
              "    <table border=\"1\" class=\"dataframe\">\n",
              "  <thead>\n",
              " <tr style=\"text-align: left;\">\n",
              "      <th>Epoch</th>\n",
              "      <th>Training Loss</th>\n",
              "      <th>Validation Loss</th>\n",
              "      <th>Precision</th>\n",
              "      <th>Recall</th>\n",
              "      <th>F1</th>\n",
              "      <th>Accuracy</th>\n",
              "    </tr>\n",
              "  </thead>\n",
              "  <tbody>\n",
              "    <tr>\n",
              "      <td>1</td>\n",
              "      <td>No log</td>\n",
              "      <td>1.894220</td>\n",
              "      <td>0.080674</td>\n",
              "      <td>0.246914</td>\n",
              "      <td>0.120830</td>\n",
              "      <td>0.246914</td>\n",
              "    </tr>\n",
              "    <tr>\n",
              "      <td>2</td>\n",
              "      <td>No log</td>\n",
              "      <td>1.881561</td>\n",
              "      <td>0.151525</td>\n",
              "      <td>0.271605</td>\n",
              "      <td>0.167883</td>\n",
              "      <td>0.271605</td>\n",
              "    </tr>\n",
              "    <tr>\n",
              "      <td>3</td>\n",
              "      <td>No log</td>\n",
              "      <td>1.858053</td>\n",
              "      <td>0.157669</td>\n",
              "      <td>0.308642</td>\n",
              "      <td>0.195816</td>\n",
              "      <td>0.308642</td>\n",
              "    </tr>\n",
              "    <tr>\n",
              "      <td>4</td>\n",
              "      <td>No log</td>\n",
              "      <td>1.856395</td>\n",
              "      <td>0.170560</td>\n",
              "      <td>0.308642</td>\n",
              "      <td>0.201822</td>\n",
              "      <td>0.308642</td>\n",
              "    </tr>\n",
              "    <tr>\n",
              "      <td>5</td>\n",
              "      <td>No log</td>\n",
              "      <td>1.854832</td>\n",
              "      <td>0.156329</td>\n",
              "      <td>0.308642</td>\n",
              "      <td>0.195142</td>\n",
              "      <td>0.308642</td>\n",
              "    </tr>\n",
              "  </tbody>\n",
              "</table><p>"
            ]
          },
          "metadata": {}
        },
        {
          "output_type": "stream",
          "name": "stderr",
          "text": [
            "/usr/local/lib/python3.11/dist-packages/sklearn/metrics/_classification.py:1565: UndefinedMetricWarning:\n",
            "\n",
            "Precision is ill-defined and being set to 0.0 in labels with no predicted samples. Use `zero_division` parameter to control this behavior.\n",
            "\n",
            "/usr/local/lib/python3.11/dist-packages/sklearn/metrics/_classification.py:1565: UndefinedMetricWarning:\n",
            "\n",
            "Precision is ill-defined and being set to 0.0 in labels with no predicted samples. Use `zero_division` parameter to control this behavior.\n",
            "\n",
            "/usr/local/lib/python3.11/dist-packages/sklearn/metrics/_classification.py:1565: UndefinedMetricWarning:\n",
            "\n",
            "Precision is ill-defined and being set to 0.0 in labels with no predicted samples. Use `zero_division` parameter to control this behavior.\n",
            "\n",
            "/usr/local/lib/python3.11/dist-packages/sklearn/metrics/_classification.py:1565: UndefinedMetricWarning:\n",
            "\n",
            "Precision is ill-defined and being set to 0.0 in labels with no predicted samples. Use `zero_division` parameter to control this behavior.\n",
            "\n",
            "/usr/local/lib/python3.11/dist-packages/sklearn/metrics/_classification.py:1565: UndefinedMetricWarning:\n",
            "\n",
            "Precision is ill-defined and being set to 0.0 in labels with no predicted samples. Use `zero_division` parameter to control this behavior.\n",
            "\n"
          ]
        },
        {
          "output_type": "display_data",
          "data": {
            "text/plain": [
              "<IPython.core.display.HTML object>"
            ],
            "text/html": [
              "\n",
              "    <div>\n",
              "      \n",
              "      <progress value='66' max='11' style='width:300px; height:20px; vertical-align: middle;'></progress>\n",
              "      [11/11 00:01]\n",
              "    </div>\n",
              "    "
            ]
          },
          "metadata": {}
        },
        {
          "output_type": "stream",
          "name": "stderr",
          "text": [
            "/usr/local/lib/python3.11/dist-packages/sklearn/metrics/_classification.py:1565: UndefinedMetricWarning:\n",
            "\n",
            "Precision is ill-defined and being set to 0.0 in labels with no predicted samples. Use `zero_division` parameter to control this behavior.\n",
            "\n",
            "/usr/local/lib/python3.11/dist-packages/sklearn/metrics/_classification.py:1565: UndefinedMetricWarning:\n",
            "\n",
            "Precision is ill-defined and being set to 0.0 in labels with no predicted samples. Use `zero_division` parameter to control this behavior.\n",
            "\n",
            "/usr/local/lib/python3.11/dist-packages/sklearn/metrics/_classification.py:1565: UndefinedMetricWarning:\n",
            "\n",
            "Precision is ill-defined and being set to 0.0 in labels with no predicted samples. Use `zero_division` parameter to control this behavior.\n",
            "\n",
            "/usr/local/lib/python3.11/dist-packages/sklearn/metrics/_classification.py:1565: UndefinedMetricWarning:\n",
            "\n",
            "Precision is ill-defined and being set to 0.0 in labels with no predicted samples. Use `zero_division` parameter to control this behavior.\n",
            "\n",
            "/usr/local/lib/python3.11/dist-packages/sklearn/metrics/_classification.py:1565: UndefinedMetricWarning:\n",
            "\n",
            "Precision is ill-defined and being set to 0.0 in labels with no predicted samples. Use `zero_division` parameter to control this behavior.\n",
            "\n",
            "/usr/local/lib/python3.11/dist-packages/sklearn/metrics/_classification.py:1565: UndefinedMetricWarning:\n",
            "\n",
            "Precision is ill-defined and being set to 0.0 in labels with no predicted samples. Use `zero_division` parameter to control this behavior.\n",
            "\n",
            "/usr/local/lib/python3.11/dist-packages/transformers/training_args.py:1575: FutureWarning:\n",
            "\n",
            "`evaluation_strategy` is deprecated and will be removed in version 4.46 of 🤗 Transformers. Use `eval_strategy` instead\n",
            "\n"
          ]
        },
        {
          "output_type": "stream",
          "name": "stdout",
          "text": [
            "Fold 2 Results for bert-base-multilingual-cased: {'eval_precision': 0.15632871929168224, 'eval_recall': 0.30864197530864196, 'eval_f1': 0.19514215849159489, 'eval_accuracy': 0.30864197530864196, 'eval_loss': 1.8548320531845093, 'eval_runtime': 0.2065, 'eval_samples_per_second': 392.171, 'eval_steps_per_second': 53.258, 'epoch': 5.0}\n",
            "\n",
            "Starting Fold 3 for bert-base-multilingual-cased\n"
          ]
        },
        {
          "output_type": "display_data",
          "data": {
            "text/plain": [
              "<IPython.core.display.HTML object>"
            ],
            "text/html": [
              "\n",
              "    <div>\n",
              "      \n",
              "      <progress value='205' max='205' style='width:300px; height:20px; vertical-align: middle;'></progress>\n",
              "      [205/205 01:03, Epoch 5/5]\n",
              "    </div>\n",
              "    <table border=\"1\" class=\"dataframe\">\n",
              "  <thead>\n",
              " <tr style=\"text-align: left;\">\n",
              "      <th>Epoch</th>\n",
              "      <th>Training Loss</th>\n",
              "      <th>Validation Loss</th>\n",
              "      <th>Precision</th>\n",
              "      <th>Recall</th>\n",
              "      <th>F1</th>\n",
              "      <th>Accuracy</th>\n",
              "    </tr>\n",
              "  </thead>\n",
              "  <tbody>\n",
              "    <tr>\n",
              "      <td>1</td>\n",
              "      <td>No log</td>\n",
              "      <td>1.717834</td>\n",
              "      <td>0.343936</td>\n",
              "      <td>0.333333</td>\n",
              "      <td>0.259626</td>\n",
              "      <td>0.333333</td>\n",
              "    </tr>\n",
              "    <tr>\n",
              "      <td>2</td>\n",
              "      <td>No log</td>\n",
              "      <td>1.676848</td>\n",
              "      <td>0.360880</td>\n",
              "      <td>0.358025</td>\n",
              "      <td>0.290194</td>\n",
              "      <td>0.358025</td>\n",
              "    </tr>\n",
              "    <tr>\n",
              "      <td>3</td>\n",
              "      <td>No log</td>\n",
              "      <td>1.661323</td>\n",
              "      <td>0.371546</td>\n",
              "      <td>0.358025</td>\n",
              "      <td>0.295023</td>\n",
              "      <td>0.358025</td>\n",
              "    </tr>\n",
              "    <tr>\n",
              "      <td>4</td>\n",
              "      <td>No log</td>\n",
              "      <td>1.598976</td>\n",
              "      <td>0.382122</td>\n",
              "      <td>0.345679</td>\n",
              "      <td>0.283173</td>\n",
              "      <td>0.345679</td>\n",
              "    </tr>\n",
              "    <tr>\n",
              "      <td>5</td>\n",
              "      <td>No log</td>\n",
              "      <td>1.604128</td>\n",
              "      <td>0.348501</td>\n",
              "      <td>0.358025</td>\n",
              "      <td>0.281555</td>\n",
              "      <td>0.358025</td>\n",
              "    </tr>\n",
              "  </tbody>\n",
              "</table><p>"
            ]
          },
          "metadata": {}
        },
        {
          "output_type": "stream",
          "name": "stderr",
          "text": [
            "/usr/local/lib/python3.11/dist-packages/sklearn/metrics/_classification.py:1565: UndefinedMetricWarning:\n",
            "\n",
            "Precision is ill-defined and being set to 0.0 in labels with no predicted samples. Use `zero_division` parameter to control this behavior.\n",
            "\n",
            "/usr/local/lib/python3.11/dist-packages/sklearn/metrics/_classification.py:1565: UndefinedMetricWarning:\n",
            "\n",
            "Precision is ill-defined and being set to 0.0 in labels with no predicted samples. Use `zero_division` parameter to control this behavior.\n",
            "\n",
            "/usr/local/lib/python3.11/dist-packages/sklearn/metrics/_classification.py:1565: UndefinedMetricWarning:\n",
            "\n",
            "Precision is ill-defined and being set to 0.0 in labels with no predicted samples. Use `zero_division` parameter to control this behavior.\n",
            "\n",
            "/usr/local/lib/python3.11/dist-packages/sklearn/metrics/_classification.py:1565: UndefinedMetricWarning:\n",
            "\n",
            "Precision is ill-defined and being set to 0.0 in labels with no predicted samples. Use `zero_division` parameter to control this behavior.\n",
            "\n",
            "/usr/local/lib/python3.11/dist-packages/sklearn/metrics/_classification.py:1565: UndefinedMetricWarning:\n",
            "\n",
            "Precision is ill-defined and being set to 0.0 in labels with no predicted samples. Use `zero_division` parameter to control this behavior.\n",
            "\n"
          ]
        },
        {
          "output_type": "display_data",
          "data": {
            "text/plain": [
              "<IPython.core.display.HTML object>"
            ],
            "text/html": [
              "\n",
              "    <div>\n",
              "      \n",
              "      <progress value='66' max='11' style='width:300px; height:20px; vertical-align: middle;'></progress>\n",
              "      [11/11 00:01]\n",
              "    </div>\n",
              "    "
            ]
          },
          "metadata": {}
        },
        {
          "output_type": "stream",
          "name": "stderr",
          "text": [
            "/usr/local/lib/python3.11/dist-packages/sklearn/metrics/_classification.py:1565: UndefinedMetricWarning:\n",
            "\n",
            "Precision is ill-defined and being set to 0.0 in labels with no predicted samples. Use `zero_division` parameter to control this behavior.\n",
            "\n",
            "/usr/local/lib/python3.11/dist-packages/sklearn/metrics/_classification.py:1565: UndefinedMetricWarning:\n",
            "\n",
            "Precision is ill-defined and being set to 0.0 in labels with no predicted samples. Use `zero_division` parameter to control this behavior.\n",
            "\n",
            "/usr/local/lib/python3.11/dist-packages/sklearn/metrics/_classification.py:1565: UndefinedMetricWarning:\n",
            "\n",
            "Precision is ill-defined and being set to 0.0 in labels with no predicted samples. Use `zero_division` parameter to control this behavior.\n",
            "\n",
            "/usr/local/lib/python3.11/dist-packages/sklearn/metrics/_classification.py:1565: UndefinedMetricWarning:\n",
            "\n",
            "Precision is ill-defined and being set to 0.0 in labels with no predicted samples. Use `zero_division` parameter to control this behavior.\n",
            "\n",
            "/usr/local/lib/python3.11/dist-packages/sklearn/metrics/_classification.py:1565: UndefinedMetricWarning:\n",
            "\n",
            "Precision is ill-defined and being set to 0.0 in labels with no predicted samples. Use `zero_division` parameter to control this behavior.\n",
            "\n",
            "/usr/local/lib/python3.11/dist-packages/sklearn/metrics/_classification.py:1565: UndefinedMetricWarning:\n",
            "\n",
            "Precision is ill-defined and being set to 0.0 in labels with no predicted samples. Use `zero_division` parameter to control this behavior.\n",
            "\n",
            "/usr/local/lib/python3.11/dist-packages/transformers/training_args.py:1575: FutureWarning:\n",
            "\n",
            "`evaluation_strategy` is deprecated and will be removed in version 4.46 of 🤗 Transformers. Use `eval_strategy` instead\n",
            "\n"
          ]
        },
        {
          "output_type": "stream",
          "name": "stdout",
          "text": [
            "Fold 3 Results for bert-base-multilingual-cased: {'eval_precision': 0.3821220782906607, 'eval_recall': 0.345679012345679, 'eval_f1': 0.2831727455996461, 'eval_accuracy': 0.345679012345679, 'eval_loss': 1.5989758968353271, 'eval_runtime': 0.205, 'eval_samples_per_second': 395.12, 'eval_steps_per_second': 53.658, 'epoch': 5.0}\n",
            "\n",
            "Starting Fold 4 for bert-base-multilingual-cased\n"
          ]
        },
        {
          "output_type": "display_data",
          "data": {
            "text/plain": [
              "<IPython.core.display.HTML object>"
            ],
            "text/html": [
              "\n",
              "    <div>\n",
              "      \n",
              "      <progress value='205' max='205' style='width:300px; height:20px; vertical-align: middle;'></progress>\n",
              "      [205/205 01:05, Epoch 5/5]\n",
              "    </div>\n",
              "    <table border=\"1\" class=\"dataframe\">\n",
              "  <thead>\n",
              " <tr style=\"text-align: left;\">\n",
              "      <th>Epoch</th>\n",
              "      <th>Training Loss</th>\n",
              "      <th>Validation Loss</th>\n",
              "      <th>Precision</th>\n",
              "      <th>Recall</th>\n",
              "      <th>F1</th>\n",
              "      <th>Accuracy</th>\n",
              "    </tr>\n",
              "  </thead>\n",
              "  <tbody>\n",
              "    <tr>\n",
              "      <td>1</td>\n",
              "      <td>No log</td>\n",
              "      <td>1.571280</td>\n",
              "      <td>0.299827</td>\n",
              "      <td>0.382716</td>\n",
              "      <td>0.301862</td>\n",
              "      <td>0.382716</td>\n",
              "    </tr>\n",
              "    <tr>\n",
              "      <td>2</td>\n",
              "      <td>No log</td>\n",
              "      <td>1.545182</td>\n",
              "      <td>0.418179</td>\n",
              "      <td>0.419753</td>\n",
              "      <td>0.338059</td>\n",
              "      <td>0.419753</td>\n",
              "    </tr>\n",
              "    <tr>\n",
              "      <td>3</td>\n",
              "      <td>No log</td>\n",
              "      <td>1.559790</td>\n",
              "      <td>0.423975</td>\n",
              "      <td>0.407407</td>\n",
              "      <td>0.348374</td>\n",
              "      <td>0.407407</td>\n",
              "    </tr>\n",
              "    <tr>\n",
              "      <td>4</td>\n",
              "      <td>No log</td>\n",
              "      <td>1.562377</td>\n",
              "      <td>0.363616</td>\n",
              "      <td>0.382716</td>\n",
              "      <td>0.306834</td>\n",
              "      <td>0.382716</td>\n",
              "    </tr>\n",
              "    <tr>\n",
              "      <td>5</td>\n",
              "      <td>No log</td>\n",
              "      <td>1.557638</td>\n",
              "      <td>0.363616</td>\n",
              "      <td>0.382716</td>\n",
              "      <td>0.306834</td>\n",
              "      <td>0.382716</td>\n",
              "    </tr>\n",
              "  </tbody>\n",
              "</table><p>"
            ]
          },
          "metadata": {}
        },
        {
          "output_type": "stream",
          "name": "stderr",
          "text": [
            "/usr/local/lib/python3.11/dist-packages/sklearn/metrics/_classification.py:1565: UndefinedMetricWarning:\n",
            "\n",
            "Precision is ill-defined and being set to 0.0 in labels with no predicted samples. Use `zero_division` parameter to control this behavior.\n",
            "\n",
            "/usr/local/lib/python3.11/dist-packages/sklearn/metrics/_classification.py:1565: UndefinedMetricWarning:\n",
            "\n",
            "Precision is ill-defined and being set to 0.0 in labels with no predicted samples. Use `zero_division` parameter to control this behavior.\n",
            "\n",
            "/usr/local/lib/python3.11/dist-packages/sklearn/metrics/_classification.py:1565: UndefinedMetricWarning:\n",
            "\n",
            "Precision is ill-defined and being set to 0.0 in labels with no predicted samples. Use `zero_division` parameter to control this behavior.\n",
            "\n",
            "/usr/local/lib/python3.11/dist-packages/sklearn/metrics/_classification.py:1565: UndefinedMetricWarning:\n",
            "\n",
            "Precision is ill-defined and being set to 0.0 in labels with no predicted samples. Use `zero_division` parameter to control this behavior.\n",
            "\n",
            "/usr/local/lib/python3.11/dist-packages/sklearn/metrics/_classification.py:1565: UndefinedMetricWarning:\n",
            "\n",
            "Precision is ill-defined and being set to 0.0 in labels with no predicted samples. Use `zero_division` parameter to control this behavior.\n",
            "\n"
          ]
        },
        {
          "output_type": "display_data",
          "data": {
            "text/plain": [
              "<IPython.core.display.HTML object>"
            ],
            "text/html": [
              "\n",
              "    <div>\n",
              "      \n",
              "      <progress value='66' max='11' style='width:300px; height:20px; vertical-align: middle;'></progress>\n",
              "      [11/11 00:01]\n",
              "    </div>\n",
              "    "
            ]
          },
          "metadata": {}
        },
        {
          "output_type": "stream",
          "name": "stderr",
          "text": [
            "/usr/local/lib/python3.11/dist-packages/sklearn/metrics/_classification.py:1565: UndefinedMetricWarning:\n",
            "\n",
            "Precision is ill-defined and being set to 0.0 in labels with no predicted samples. Use `zero_division` parameter to control this behavior.\n",
            "\n",
            "/usr/local/lib/python3.11/dist-packages/sklearn/metrics/_classification.py:1565: UndefinedMetricWarning:\n",
            "\n",
            "Precision is ill-defined and being set to 0.0 in labels with no predicted samples. Use `zero_division` parameter to control this behavior.\n",
            "\n",
            "/usr/local/lib/python3.11/dist-packages/sklearn/metrics/_classification.py:1565: UndefinedMetricWarning:\n",
            "\n",
            "Precision is ill-defined and being set to 0.0 in labels with no predicted samples. Use `zero_division` parameter to control this behavior.\n",
            "\n",
            "/usr/local/lib/python3.11/dist-packages/sklearn/metrics/_classification.py:1565: UndefinedMetricWarning:\n",
            "\n",
            "Precision is ill-defined and being set to 0.0 in labels with no predicted samples. Use `zero_division` parameter to control this behavior.\n",
            "\n",
            "/usr/local/lib/python3.11/dist-packages/sklearn/metrics/_classification.py:1565: UndefinedMetricWarning:\n",
            "\n",
            "Precision is ill-defined and being set to 0.0 in labels with no predicted samples. Use `zero_division` parameter to control this behavior.\n",
            "\n",
            "/usr/local/lib/python3.11/dist-packages/sklearn/metrics/_classification.py:1565: UndefinedMetricWarning:\n",
            "\n",
            "Precision is ill-defined and being set to 0.0 in labels with no predicted samples. Use `zero_division` parameter to control this behavior.\n",
            "\n",
            "/usr/local/lib/python3.11/dist-packages/transformers/training_args.py:1575: FutureWarning:\n",
            "\n",
            "`evaluation_strategy` is deprecated and will be removed in version 4.46 of 🤗 Transformers. Use `eval_strategy` instead\n",
            "\n"
          ]
        },
        {
          "output_type": "stream",
          "name": "stdout",
          "text": [
            "Fold 4 Results for bert-base-multilingual-cased: {'eval_precision': 0.41817851719812504, 'eval_recall': 0.41975308641975306, 'eval_f1': 0.33805916305916306, 'eval_accuracy': 0.41975308641975306, 'eval_loss': 1.5451815128326416, 'eval_runtime': 0.2369, 'eval_samples_per_second': 341.948, 'eval_steps_per_second': 46.437, 'epoch': 5.0}\n",
            "\n",
            "Starting Fold 5 for bert-base-multilingual-cased\n"
          ]
        },
        {
          "output_type": "display_data",
          "data": {
            "text/plain": [
              "<IPython.core.display.HTML object>"
            ],
            "text/html": [
              "\n",
              "    <div>\n",
              "      \n",
              "      <progress value='205' max='205' style='width:300px; height:20px; vertical-align: middle;'></progress>\n",
              "      [205/205 01:08, Epoch 5/5]\n",
              "    </div>\n",
              "    <table border=\"1\" class=\"dataframe\">\n",
              "  <thead>\n",
              " <tr style=\"text-align: left;\">\n",
              "      <th>Epoch</th>\n",
              "      <th>Training Loss</th>\n",
              "      <th>Validation Loss</th>\n",
              "      <th>Precision</th>\n",
              "      <th>Recall</th>\n",
              "      <th>F1</th>\n",
              "      <th>Accuracy</th>\n",
              "    </tr>\n",
              "  </thead>\n",
              "  <tbody>\n",
              "    <tr>\n",
              "      <td>1</td>\n",
              "      <td>No log</td>\n",
              "      <td>1.405638</td>\n",
              "      <td>0.573091</td>\n",
              "      <td>0.487500</td>\n",
              "      <td>0.430421</td>\n",
              "      <td>0.487500</td>\n",
              "    </tr>\n",
              "    <tr>\n",
              "      <td>2</td>\n",
              "      <td>No log</td>\n",
              "      <td>1.374155</td>\n",
              "      <td>0.501923</td>\n",
              "      <td>0.500000</td>\n",
              "      <td>0.445192</td>\n",
              "      <td>0.500000</td>\n",
              "    </tr>\n",
              "    <tr>\n",
              "      <td>3</td>\n",
              "      <td>No log</td>\n",
              "      <td>1.334779</td>\n",
              "      <td>0.553572</td>\n",
              "      <td>0.487500</td>\n",
              "      <td>0.426161</td>\n",
              "      <td>0.487500</td>\n",
              "    </tr>\n",
              "    <tr>\n",
              "      <td>4</td>\n",
              "      <td>No log</td>\n",
              "      <td>1.340739</td>\n",
              "      <td>0.552618</td>\n",
              "      <td>0.487500</td>\n",
              "      <td>0.425911</td>\n",
              "      <td>0.487500</td>\n",
              "    </tr>\n",
              "    <tr>\n",
              "      <td>5</td>\n",
              "      <td>No log</td>\n",
              "      <td>1.333327</td>\n",
              "      <td>0.526946</td>\n",
              "      <td>0.512500</td>\n",
              "      <td>0.464517</td>\n",
              "      <td>0.512500</td>\n",
              "    </tr>\n",
              "  </tbody>\n",
              "</table><p>"
            ]
          },
          "metadata": {}
        },
        {
          "output_type": "stream",
          "name": "stderr",
          "text": [
            "/usr/local/lib/python3.11/dist-packages/sklearn/metrics/_classification.py:1565: UndefinedMetricWarning:\n",
            "\n",
            "Precision is ill-defined and being set to 0.0 in labels with no predicted samples. Use `zero_division` parameter to control this behavior.\n",
            "\n",
            "/usr/local/lib/python3.11/dist-packages/sklearn/metrics/_classification.py:1565: UndefinedMetricWarning:\n",
            "\n",
            "Precision is ill-defined and being set to 0.0 in labels with no predicted samples. Use `zero_division` parameter to control this behavior.\n",
            "\n",
            "/usr/local/lib/python3.11/dist-packages/sklearn/metrics/_classification.py:1565: UndefinedMetricWarning:\n",
            "\n",
            "Precision is ill-defined and being set to 0.0 in labels with no predicted samples. Use `zero_division` parameter to control this behavior.\n",
            "\n",
            "/usr/local/lib/python3.11/dist-packages/sklearn/metrics/_classification.py:1565: UndefinedMetricWarning:\n",
            "\n",
            "Precision is ill-defined and being set to 0.0 in labels with no predicted samples. Use `zero_division` parameter to control this behavior.\n",
            "\n",
            "/usr/local/lib/python3.11/dist-packages/sklearn/metrics/_classification.py:1565: UndefinedMetricWarning:\n",
            "\n",
            "Precision is ill-defined and being set to 0.0 in labels with no predicted samples. Use `zero_division` parameter to control this behavior.\n",
            "\n"
          ]
        },
        {
          "output_type": "display_data",
          "data": {
            "text/plain": [
              "<IPython.core.display.HTML object>"
            ],
            "text/html": [
              "\n",
              "    <div>\n",
              "      \n",
              "      <progress value='60' max='10' style='width:300px; height:20px; vertical-align: middle;'></progress>\n",
              "      [10/10 00:01]\n",
              "    </div>\n",
              "    "
            ]
          },
          "metadata": {}
        },
        {
          "output_type": "stream",
          "name": "stderr",
          "text": [
            "/usr/local/lib/python3.11/dist-packages/sklearn/metrics/_classification.py:1565: UndefinedMetricWarning:\n",
            "\n",
            "Precision is ill-defined and being set to 0.0 in labels with no predicted samples. Use `zero_division` parameter to control this behavior.\n",
            "\n",
            "/usr/local/lib/python3.11/dist-packages/sklearn/metrics/_classification.py:1565: UndefinedMetricWarning:\n",
            "\n",
            "Precision is ill-defined and being set to 0.0 in labels with no predicted samples. Use `zero_division` parameter to control this behavior.\n",
            "\n",
            "/usr/local/lib/python3.11/dist-packages/sklearn/metrics/_classification.py:1565: UndefinedMetricWarning:\n",
            "\n",
            "Precision is ill-defined and being set to 0.0 in labels with no predicted samples. Use `zero_division` parameter to control this behavior.\n",
            "\n",
            "/usr/local/lib/python3.11/dist-packages/sklearn/metrics/_classification.py:1565: UndefinedMetricWarning:\n",
            "\n",
            "Precision is ill-defined and being set to 0.0 in labels with no predicted samples. Use `zero_division` parameter to control this behavior.\n",
            "\n",
            "/usr/local/lib/python3.11/dist-packages/sklearn/metrics/_classification.py:1565: UndefinedMetricWarning:\n",
            "\n",
            "Precision is ill-defined and being set to 0.0 in labels with no predicted samples. Use `zero_division` parameter to control this behavior.\n",
            "\n",
            "/usr/local/lib/python3.11/dist-packages/sklearn/metrics/_classification.py:1565: UndefinedMetricWarning:\n",
            "\n",
            "Precision is ill-defined and being set to 0.0 in labels with no predicted samples. Use `zero_division` parameter to control this behavior.\n",
            "\n"
          ]
        },
        {
          "output_type": "stream",
          "name": "stdout",
          "text": [
            "Fold 5 Results for bert-base-multilingual-cased: {'eval_precision': 0.5269457344341245, 'eval_recall': 0.5125, 'eval_f1': 0.4645173453996983, 'eval_accuracy': 0.5125, 'eval_loss': 1.333327054977417, 'eval_runtime': 0.1946, 'eval_samples_per_second': 411.096, 'eval_steps_per_second': 51.387, 'epoch': 5.0}\n",
            "\n",
            "Final Results Across Models:\n",
            "                          Model  Avg_Precision  Avg_Recall    Avg_F1  \\\n",
            "0  bert-base-multilingual-cased       0.303395    0.344475  0.265567   \n",
            "\n",
            "   Avg_Accuracy  Training_Time_Seconds  \n",
            "0      0.344475             339.968378  \n",
            "\n",
            "Detailed Results Per Fold and Epoch:\n",
            "    eval_precision  eval_recall   eval_f1  eval_accuracy  eval_loss  \\\n",
            "0         0.033399     0.135802  0.046946       0.135802   2.003588   \n",
            "1         0.033399     0.135802  0.046946       0.135802   2.003588   \n",
            "2         0.033399     0.135802  0.046946       0.135802   2.003588   \n",
            "3         0.033399     0.135802  0.046946       0.135802   2.003588   \n",
            "4         0.033399     0.135802  0.046946       0.135802   2.003588   \n",
            "5         0.156329     0.308642  0.195142       0.308642   1.854832   \n",
            "6         0.156329     0.308642  0.195142       0.308642   1.854832   \n",
            "7         0.156329     0.308642  0.195142       0.308642   1.854832   \n",
            "8         0.156329     0.308642  0.195142       0.308642   1.854832   \n",
            "9         0.156329     0.308642  0.195142       0.308642   1.854832   \n",
            "10        0.382122     0.345679  0.283173       0.345679   1.598976   \n",
            "11        0.382122     0.345679  0.283173       0.345679   1.598976   \n",
            "12        0.382122     0.345679  0.283173       0.345679   1.598976   \n",
            "13        0.382122     0.345679  0.283173       0.345679   1.598976   \n",
            "14        0.382122     0.345679  0.283173       0.345679   1.598976   \n",
            "15        0.418179     0.419753  0.338059       0.419753   1.545182   \n",
            "16        0.418179     0.419753  0.338059       0.419753   1.545182   \n",
            "17        0.418179     0.419753  0.338059       0.419753   1.545182   \n",
            "18        0.418179     0.419753  0.338059       0.419753   1.545182   \n",
            "19        0.418179     0.419753  0.338059       0.419753   1.545182   \n",
            "20        0.526946     0.512500  0.464517       0.512500   1.333327   \n",
            "21        0.526946     0.512500  0.464517       0.512500   1.333327   \n",
            "22        0.526946     0.512500  0.464517       0.512500   1.333327   \n",
            "23        0.526946     0.512500  0.464517       0.512500   1.333327   \n",
            "24        0.526946     0.512500  0.464517       0.512500   1.333327   \n",
            "\n",
            "    eval_runtime  eval_samples_per_second  eval_steps_per_second  epoch  \\\n",
            "0         0.2199                  368.350                 50.023    5.0   \n",
            "1         0.2150                  376.700                 51.157    5.0   \n",
            "2         0.2061                  392.961                 53.365    5.0   \n",
            "3         0.1968                  411.635                 55.901    5.0   \n",
            "4         0.1975                  410.193                 55.705    5.0   \n",
            "5         0.2294                  353.027                 47.942    5.0   \n",
            "6         0.2021                  400.721                 54.419    5.0   \n",
            "7         0.2034                  398.270                 54.086    5.0   \n",
            "8         0.1993                  406.363                 55.185    5.0   \n",
            "9         0.2012                  402.497                 54.660    5.0   \n",
            "10        0.2465                  328.616                 44.627    5.0   \n",
            "11        0.1999                  405.195                 55.026    5.0   \n",
            "12        0.1970                  411.209                 55.843    5.0   \n",
            "13        0.1905                  425.240                 57.749    5.0   \n",
            "14        0.1933                  418.974                 56.898    5.0   \n",
            "15        0.2568                  315.438                 42.837    5.0   \n",
            "16        0.2096                  386.496                 52.487    5.0   \n",
            "17        0.2135                  379.333                 51.514    5.0   \n",
            "18        0.2145                  377.682                 51.290    5.0   \n",
            "19        0.2187                  370.317                 50.290    5.0   \n",
            "20        0.2184                  366.267                 45.783    5.0   \n",
            "21        0.1859                  430.255                 53.782    5.0   \n",
            "22        0.1912                  418.347                 52.293    5.0   \n",
            "23        0.1876                  426.462                 53.308    5.0   \n",
            "24        0.1829                  437.396                 54.675    5.0   \n",
            "\n",
            "                           Model  Fold  Epoch  \n",
            "0   bert-base-multilingual-cased     1      1  \n",
            "1   bert-base-multilingual-cased     1      2  \n",
            "2   bert-base-multilingual-cased     1      3  \n",
            "3   bert-base-multilingual-cased     1      4  \n",
            "4   bert-base-multilingual-cased     1      5  \n",
            "5   bert-base-multilingual-cased     2      1  \n",
            "6   bert-base-multilingual-cased     2      2  \n",
            "7   bert-base-multilingual-cased     2      3  \n",
            "8   bert-base-multilingual-cased     2      4  \n",
            "9   bert-base-multilingual-cased     2      5  \n",
            "10  bert-base-multilingual-cased     3      1  \n",
            "11  bert-base-multilingual-cased     3      2  \n",
            "12  bert-base-multilingual-cased     3      3  \n",
            "13  bert-base-multilingual-cased     3      4  \n",
            "14  bert-base-multilingual-cased     3      5  \n",
            "15  bert-base-multilingual-cased     4      1  \n",
            "16  bert-base-multilingual-cased     4      2  \n",
            "17  bert-base-multilingual-cased     4      3  \n",
            "18  bert-base-multilingual-cased     4      4  \n",
            "19  bert-base-multilingual-cased     4      5  \n",
            "20  bert-base-multilingual-cased     5      1  \n",
            "21  bert-base-multilingual-cased     5      2  \n",
            "22  bert-base-multilingual-cased     5      3  \n",
            "23  bert-base-multilingual-cased     5      4  \n",
            "24  bert-base-multilingual-cased     5      5  \n",
            "\n",
            "Aggregated Summary for Each Model:\n",
            "                          Model  Avg_Precision  Avg_Recall    Avg_F1  \\\n",
            "0  bert-base-multilingual-cased       0.303395    0.344475  0.265567   \n",
            "\n",
            "   Avg_Accuracy  Training_Time_Seconds  \n",
            "0      0.344475             339.968378  \n"
          ]
        }
      ]
    },
    {
      "cell_type": "code",
      "source": [
        "from transformers import AutoTokenizer, AutoModelForSequenceClassification\n",
        "from transformers import Trainer\n",
        "import numpy as np\n",
        "from sklearn.metrics import classification_report\n",
        "\n",
        "# Load the saved model and tokenizer\n",
        "saved_model_path = \"./bert-base-multilingual-cased_complex\"\n",
        "model = AutoModelForSequenceClassification.from_pretrained(saved_model_path)\n",
        "tokenizer = AutoTokenizer.from_pretrained(saved_model_path)\n",
        "\n",
        "# Reinitialize the Trainer with the loaded model\n",
        "trainer = Trainer(\n",
        "    model=model,\n",
        "    args=training_args,\n",
        "    eval_dataset=val_dataset,\n",
        "    tokenizer=tokenizer,\n",
        ")\n",
        "\n",
        "# Evaluate the model\n",
        "trainer.evaluate()\n",
        "\n",
        "# Make predictions\n",
        "predictions = trainer.predict(val_dataset)\n",
        "\n",
        "# Decode predicted labels\n",
        "predicted_labels = np.argmax(predictions.predictions, axis=1)\n",
        "\n",
        "from sklearn.metrics import classification_report\n",
        "import numpy as np\n",
        "\n",
        "# Decode predicted labels\n",
        "predictions = trainer.predict(val_dataset)\n",
        "predicted_labels = np.argmax(predictions.predictions, axis=1)\n",
        "\n",
        "# Debugging output\n",
        "print(\"Predicted classes:\", len(np.unique(predicted_labels)))\n",
        "print(\"Label Encoder classes:\", len(label_encoder.classes_))\n",
        "\n",
        "\n",
        "all_labels = list(range(len(label_encoder.classes_)))\n",
        "target_names = label_encoder.classes_\n",
        "\n",
        "# Print the classification report\n",
        "print(classification_report(\n",
        "    val_labels,\n",
        "    predicted_labels,\n",
        "    labels=all_labels,\n",
        "    target_names=target_names,\n",
        "    zero_division=0\n",
        "))"
      ],
      "metadata": {
        "colab": {
          "base_uri": "https://localhost:8080/",
          "height": 410
        },
        "id": "tS9KJfBXSNZY",
        "outputId": "48e131ef-74ab-4466-fecc-f97d5b46f3bb"
      },
      "execution_count": 25,
      "outputs": [
        {
          "output_type": "stream",
          "name": "stderr",
          "text": [
            "<ipython-input-25-a57bd6d5f1be>:12: FutureWarning:\n",
            "\n",
            "`tokenizer` is deprecated and will be removed in version 5.0.0 for `Trainer.__init__`. Use `processing_class` instead.\n",
            "\n"
          ]
        },
        {
          "output_type": "display_data",
          "data": {
            "text/plain": [
              "<IPython.core.display.HTML object>"
            ],
            "text/html": []
          },
          "metadata": {}
        },
        {
          "output_type": "display_data",
          "data": {
            "text/plain": [
              "<IPython.core.display.HTML object>"
            ],
            "text/html": []
          },
          "metadata": {}
        },
        {
          "output_type": "stream",
          "name": "stdout",
          "text": [
            "Predicted classes: 7\n",
            "Label Encoder classes: 9\n",
            "               precision    recall  f1-score   support\n",
            "\n",
            "  Compression       0.00      0.00      0.00         6\n",
            "  Explanation       0.83      0.28      0.42        18\n",
            "   Modulation       0.50      0.22      0.31         9\n",
            "     Omission       0.60      0.60      0.60         5\n",
            " Substitution       0.42      0.53      0.47        15\n",
            "     Synonymy       0.00      0.00      0.00         1\n",
            "    Syntactic       0.40      0.80      0.53        10\n",
            "Transcription       0.65      1.00      0.79        11\n",
            "Transposition       0.44      0.80      0.57         5\n",
            "\n",
            "     accuracy                           0.51        80\n",
            "    macro avg       0.43      0.47      0.41        80\n",
            " weighted avg       0.53      0.51      0.46        80\n",
            "\n"
          ]
        }
      ]
    },
    {
      "cell_type": "markdown",
      "source": [
        "\n",
        "> # Model #3 No Data-Augmentation"
      ],
      "metadata": {
        "id": "7bN3_gI1mg5o"
      }
    },
    {
      "cell_type": "markdown",
      "source": [
        "---\n",
        "This script performs **text classification** using transformer-based models to categorize text into different typologies.  \n",
        "\n",
        "It follows these key steps:\n",
        "1. **Data Preparation**: Combining both Standard and Easy-to-Read versions of the text and its respective **categories** into a single input format.\n",
        "2. **Model Training**: Fine-tuning transformer-based models (e.g., **BERT**) using stratified k-fold cross-validation.\n",
        "3. **Evaluation**: Assessing model performance with **accuracy, F1-score, precision, and recall**.\n",
        "4. **Model Saving**: Storing the trained models for future inference.\n",
        "\n",
        "Unlike other versions, this approach does **not apply data augmentation** for classification. The model is trained with a **stratified k-fold cross-validation strategy** to ensure robust evaluation across different data splits.\n",
        "------\n"
      ],
      "metadata": {
        "id": "6uetGgqvl9gU"
      }
    },
    {
      "cell_type": "code",
      "source": [
        "import pandas as pd\n",
        "import torch\n",
        "from sklearn.preprocessing import LabelEncoder\n",
        "from sklearn.model_selection import StratifiedKFold\n",
        "from transformers import (\n",
        "    AutoTokenizer,\n",
        "    AutoModelForSequenceClassification,\n",
        "    TrainingArguments,\n",
        "    Trainer,\n",
        "    DataCollatorWithPadding\n",
        ")\n",
        "from sklearn.metrics import precision_recall_fscore_support, accuracy_score\n",
        "\n",
        "# Combine \"Standard English\" and \"E2R Version\" for input\n",
        "data['Combined Text'] = data.apply(\n",
        "    lambda row: f\"Standard French: {row['Version initiale']} [SEP] Easy-to-Read: {row['Version retraitée']}\", axis=1\n",
        ")\n",
        "data = data.dropna(subset=['Combined Text', 'Catégorie'])\n",
        "\n",
        "# Encode Typologies\n",
        "label_encoder = LabelEncoder()\n",
        "data['Typology Encoded'] = label_encoder.fit_transform(data['Catégorie'])\n",
        "\n",
        "# Step 4: Prepare Models and Loop Over Them\n",
        "models_to_test = [\n",
        "    \"bert-base-multilingual-cased\",\n",
        "]\n",
        "\n",
        "all_model_results = []\n",
        "skf = StratifiedKFold(n_splits=5)\n",
        "for model_name in models_to_test:\n",
        "    print(f\"\\nStarting model: {model_name}\")\n",
        "\n",
        "    tokenizer = AutoTokenizer.from_pretrained(model_name)\n",
        "    model = AutoModelForSequenceClassification.from_pretrained(\n",
        "        model_name,\n",
        "        num_labels=len(label_encoder.classes_)\n",
        "    )\n",
        "\n",
        "    fold_metrics = []\n",
        "\n",
        "    for fold, (train_index, val_index) in enumerate(skf.split(data['Combined Text'], data['Typology Encoded'])):\n",
        "        print(f\"\\nStarting Fold {fold + 1} for {model_name}\")\n",
        "\n",
        "        # Split Data\n",
        "        train_texts, val_texts = data['Combined Text'].iloc[train_index], data['Combined Text'].iloc[val_index]\n",
        "        train_labels, val_labels = data['Typology Encoded'].iloc[train_index], data['Typology Encoded'].iloc[val_index]\n",
        "\n",
        "        def tokenize_function(texts):\n",
        "            return tokenizer(list(texts), padding=True, truncation=True, max_length=512)\n",
        "\n",
        "        train_encodings = tokenize_function(train_texts)\n",
        "        val_encodings = tokenize_function(val_texts)\n",
        "\n",
        "        train_labels = torch.tensor(train_labels.values, dtype=torch.long)\n",
        "        val_labels = torch.tensor(val_labels.values, dtype=torch.long)\n",
        "\n",
        "        class Dataset(torch.utils.data.Dataset):\n",
        "            def __init__(self, encodings, labels):\n",
        "                self.encodings = encodings\n",
        "                self.labels = labels\n",
        "\n",
        "            def __len__(self):\n",
        "                return len(self.labels)\n",
        "\n",
        "            def __getitem__(self, idx):\n",
        "                item = {key: torch.tensor(val[idx]) for key, val in self.encodings.items()}\n",
        "                item['labels'] = self.labels[idx]\n",
        "                return item\n",
        "\n",
        "        train_dataset = Dataset(train_encodings, train_labels)\n",
        "        val_dataset = Dataset(val_encodings, val_labels)\n",
        "\n",
        "        # Training Arguments\n",
        "        training_args = TrainingArguments(\n",
        "            output_dir=f\"./results/{model_name}_fold_{fold}\",\n",
        "            evaluation_strategy=\"epoch\",\n",
        "            save_strategy=\"epoch\",\n",
        "            learning_rate=5e-5,\n",
        "            per_device_train_batch_size=16,\n",
        "            per_device_eval_batch_size=16,\n",
        "            num_train_epochs=3,\n",
        "            weight_decay=0.01,\n",
        "            logging_dir=f\"./logs/{model_name}_fold_{fold}\",\n",
        "            save_total_limit=2,\n",
        "            load_best_model_at_end=True,\n",
        "            max_grad_norm=1.0\n",
        "        )\n",
        "\n",
        "        # Define Metrics\n",
        "        def compute_metrics(pred):\n",
        "            predictions = pred.predictions.argmax(-1)\n",
        "            labels = pred.label_ids\n",
        "            precision, recall, f1, _ = precision_recall_fscore_support(labels, predictions, average='weighted')\n",
        "            acc = accuracy_score(labels, predictions)\n",
        "            return {\"accuracy\": acc, \"f1\": f1, \"precision\": precision, \"recall\": recall}\n",
        "\n",
        "        data_collator = DataCollatorWithPadding(tokenizer=tokenizer)\n",
        "        trainer = Trainer(\n",
        "            model=model,\n",
        "            args=training_args,\n",
        "            train_dataset=train_dataset,\n",
        "            eval_dataset=val_dataset,\n",
        "            data_collator=data_collator,\n",
        "            compute_metrics=compute_metrics\n",
        "        )\n",
        "\n",
        "        # Train and Evaluate\n",
        "        trainer.train()\n",
        "        evaluation_results = trainer.evaluate()\n",
        "        print(f\"Fold {fold + 1} Results for {model_name}: {evaluation_results}\")\n",
        "\n",
        "        # Collect metrics for the fold\n",
        "        fold_metrics.append(evaluation_results)\n",
        "\n",
        "    # Calculate average metrics across folds\n",
        "    avg_accuracy = sum([m['eval_accuracy'] for m in fold_metrics]) / len(fold_metrics)\n",
        "    avg_f1 = sum([m['eval_f1'] for m in fold_metrics]) / len(fold_metrics)\n",
        "    avg_precision = sum([m['eval_precision'] for m in fold_metrics]) / len(fold_metrics)\n",
        "    avg_recall = sum([m['eval_recall'] for m in fold_metrics]) / len(fold_metrics)\n",
        "\n",
        "    # Add to final model results\n",
        "    all_model_results.append({\n",
        "        \"Model\": model_name,\n",
        "        \"Avg_Accuracy\": avg_accuracy,\n",
        "        \"Avg_F1\": avg_f1,\n",
        "        \"Avg_Precision\": avg_precision,\n",
        "        \"Avg_Recall\": avg_recall\n",
        "    })\n",
        "\n",
        "    # Save Model and Tokenizer\n",
        "    model.save_pretrained(f\"./{model_name}_combined-non-aug\")\n",
        "    tokenizer.save_pretrained(f\"./{model_name}_combined-non-aug\")\n",
        "\n",
        "# Step 3: Print Final Table of Results\n",
        "import pandas as pd\n",
        "results_df = pd.DataFrame(all_model_results)\n",
        "print(\"\\nFinal Results Across Models:\")\n",
        "print(results_df.to_string(index=False))\n"
      ],
      "metadata": {
        "colab": {
          "base_uri": "https://localhost:8080/",
          "height": 1000
        },
        "id": "g6XFgkDuCMED",
        "outputId": "49144676-49f4-425f-cc28-85e1a3619b2f"
      },
      "execution_count": 26,
      "outputs": [
        {
          "output_type": "stream",
          "name": "stderr",
          "text": [
            "<ipython-input-26-1b65f5f5d80d>:22: SettingWithCopyWarning:\n",
            "\n",
            "\n",
            "A value is trying to be set on a copy of a slice from a DataFrame.\n",
            "Try using .loc[row_indexer,col_indexer] = value instead\n",
            "\n",
            "See the caveats in the documentation: https://pandas.pydata.org/pandas-docs/stable/user_guide/indexing.html#returning-a-view-versus-a-copy\n",
            "\n"
          ]
        },
        {
          "output_type": "stream",
          "name": "stdout",
          "text": [
            "\n",
            "Starting model: bert-base-multilingual-cased\n"
          ]
        },
        {
          "output_type": "stream",
          "name": "stderr",
          "text": [
            "Some weights of BertForSequenceClassification were not initialized from the model checkpoint at bert-base-multilingual-cased and are newly initialized: ['classifier.bias', 'classifier.weight']\n",
            "You should probably TRAIN this model on a down-stream task to be able to use it for predictions and inference.\n",
            "/usr/local/lib/python3.11/dist-packages/sklearn/model_selection/_split.py:805: UserWarning:\n",
            "\n",
            "The least populated class in y has only 3 members, which is less than n_splits=5.\n",
            "\n",
            "/usr/local/lib/python3.11/dist-packages/transformers/training_args.py:1575: FutureWarning:\n",
            "\n",
            "`evaluation_strategy` is deprecated and will be removed in version 4.46 of 🤗 Transformers. Use `eval_strategy` instead\n",
            "\n"
          ]
        },
        {
          "output_type": "stream",
          "name": "stdout",
          "text": [
            "\n",
            "Starting Fold 1 for bert-base-multilingual-cased\n"
          ]
        },
        {
          "output_type": "display_data",
          "data": {
            "text/plain": [
              "<IPython.core.display.HTML object>"
            ],
            "text/html": [
              "\n",
              "    <div>\n",
              "      \n",
              "      <progress value='57' max='57' style='width:300px; height:20px; vertical-align: middle;'></progress>\n",
              "      [57/57 00:34, Epoch 3/3]\n",
              "    </div>\n",
              "    <table border=\"1\" class=\"dataframe\">\n",
              "  <thead>\n",
              " <tr style=\"text-align: left;\">\n",
              "      <th>Epoch</th>\n",
              "      <th>Training Loss</th>\n",
              "      <th>Validation Loss</th>\n",
              "      <th>Accuracy</th>\n",
              "      <th>F1</th>\n",
              "      <th>Precision</th>\n",
              "      <th>Recall</th>\n",
              "    </tr>\n",
              "  </thead>\n",
              "  <tbody>\n",
              "    <tr>\n",
              "      <td>1</td>\n",
              "      <td>No log</td>\n",
              "      <td>1.928143</td>\n",
              "      <td>0.256757</td>\n",
              "      <td>0.186289</td>\n",
              "      <td>0.165125</td>\n",
              "      <td>0.256757</td>\n",
              "    </tr>\n",
              "    <tr>\n",
              "      <td>2</td>\n",
              "      <td>No log</td>\n",
              "      <td>1.680644</td>\n",
              "      <td>0.378378</td>\n",
              "      <td>0.231660</td>\n",
              "      <td>0.172761</td>\n",
              "      <td>0.378378</td>\n",
              "    </tr>\n",
              "    <tr>\n",
              "      <td>3</td>\n",
              "      <td>No log</td>\n",
              "      <td>1.598781</td>\n",
              "      <td>0.405405</td>\n",
              "      <td>0.258221</td>\n",
              "      <td>0.205753</td>\n",
              "      <td>0.405405</td>\n",
              "    </tr>\n",
              "  </tbody>\n",
              "</table><p>"
            ]
          },
          "metadata": {}
        },
        {
          "output_type": "stream",
          "name": "stderr",
          "text": [
            "/usr/local/lib/python3.11/dist-packages/sklearn/metrics/_classification.py:1565: UndefinedMetricWarning:\n",
            "\n",
            "Precision is ill-defined and being set to 0.0 in labels with no predicted samples. Use `zero_division` parameter to control this behavior.\n",
            "\n",
            "/usr/local/lib/python3.11/dist-packages/sklearn/metrics/_classification.py:1565: UndefinedMetricWarning:\n",
            "\n",
            "Precision is ill-defined and being set to 0.0 in labels with no predicted samples. Use `zero_division` parameter to control this behavior.\n",
            "\n",
            "/usr/local/lib/python3.11/dist-packages/sklearn/metrics/_classification.py:1565: UndefinedMetricWarning:\n",
            "\n",
            "Precision is ill-defined and being set to 0.0 in labels with no predicted samples. Use `zero_division` parameter to control this behavior.\n",
            "\n"
          ]
        },
        {
          "output_type": "display_data",
          "data": {
            "text/plain": [
              "<IPython.core.display.HTML object>"
            ],
            "text/html": [
              "\n",
              "    <div>\n",
              "      \n",
              "      <progress value='5' max='5' style='width:300px; height:20px; vertical-align: middle;'></progress>\n",
              "      [5/5 00:00]\n",
              "    </div>\n",
              "    "
            ]
          },
          "metadata": {}
        },
        {
          "output_type": "stream",
          "name": "stderr",
          "text": [
            "/usr/local/lib/python3.11/dist-packages/sklearn/metrics/_classification.py:1565: UndefinedMetricWarning:\n",
            "\n",
            "Precision is ill-defined and being set to 0.0 in labels with no predicted samples. Use `zero_division` parameter to control this behavior.\n",
            "\n",
            "/usr/local/lib/python3.11/dist-packages/transformers/training_args.py:1575: FutureWarning:\n",
            "\n",
            "`evaluation_strategy` is deprecated and will be removed in version 4.46 of 🤗 Transformers. Use `eval_strategy` instead\n",
            "\n"
          ]
        },
        {
          "output_type": "stream",
          "name": "stdout",
          "text": [
            "Fold 1 Results for bert-base-multilingual-cased: {'eval_loss': 1.5987812280654907, 'eval_accuracy': 0.40540540540540543, 'eval_f1': 0.2582207207207207, 'eval_precision': 0.20575304181861562, 'eval_recall': 0.40540540540540543, 'eval_runtime': 0.2073, 'eval_samples_per_second': 357.044, 'eval_steps_per_second': 24.125, 'epoch': 3.0}\n",
            "\n",
            "Starting Fold 2 for bert-base-multilingual-cased\n"
          ]
        },
        {
          "output_type": "display_data",
          "data": {
            "text/plain": [
              "<IPython.core.display.HTML object>"
            ],
            "text/html": [
              "\n",
              "    <div>\n",
              "      \n",
              "      <progress value='57' max='57' style='width:300px; height:20px; vertical-align: middle;'></progress>\n",
              "      [57/57 00:34, Epoch 3/3]\n",
              "    </div>\n",
              "    <table border=\"1\" class=\"dataframe\">\n",
              "  <thead>\n",
              " <tr style=\"text-align: left;\">\n",
              "      <th>Epoch</th>\n",
              "      <th>Training Loss</th>\n",
              "      <th>Validation Loss</th>\n",
              "      <th>Accuracy</th>\n",
              "      <th>F1</th>\n",
              "      <th>Precision</th>\n",
              "      <th>Recall</th>\n",
              "    </tr>\n",
              "  </thead>\n",
              "  <tbody>\n",
              "    <tr>\n",
              "      <td>1</td>\n",
              "      <td>No log</td>\n",
              "      <td>1.659722</td>\n",
              "      <td>0.351351</td>\n",
              "      <td>0.250356</td>\n",
              "      <td>0.202505</td>\n",
              "      <td>0.351351</td>\n",
              "    </tr>\n",
              "    <tr>\n",
              "      <td>2</td>\n",
              "      <td>No log</td>\n",
              "      <td>1.754901</td>\n",
              "      <td>0.351351</td>\n",
              "      <td>0.254211</td>\n",
              "      <td>0.208151</td>\n",
              "      <td>0.351351</td>\n",
              "    </tr>\n",
              "    <tr>\n",
              "      <td>3</td>\n",
              "      <td>No log</td>\n",
              "      <td>1.728228</td>\n",
              "      <td>0.324324</td>\n",
              "      <td>0.226759</td>\n",
              "      <td>0.183840</td>\n",
              "      <td>0.324324</td>\n",
              "    </tr>\n",
              "  </tbody>\n",
              "</table><p>"
            ]
          },
          "metadata": {}
        },
        {
          "output_type": "stream",
          "name": "stderr",
          "text": [
            "/usr/local/lib/python3.11/dist-packages/sklearn/metrics/_classification.py:1565: UndefinedMetricWarning:\n",
            "\n",
            "Precision is ill-defined and being set to 0.0 in labels with no predicted samples. Use `zero_division` parameter to control this behavior.\n",
            "\n",
            "/usr/local/lib/python3.11/dist-packages/sklearn/metrics/_classification.py:1565: UndefinedMetricWarning:\n",
            "\n",
            "Precision is ill-defined and being set to 0.0 in labels with no predicted samples. Use `zero_division` parameter to control this behavior.\n",
            "\n",
            "/usr/local/lib/python3.11/dist-packages/sklearn/metrics/_classification.py:1565: UndefinedMetricWarning:\n",
            "\n",
            "Precision is ill-defined and being set to 0.0 in labels with no predicted samples. Use `zero_division` parameter to control this behavior.\n",
            "\n"
          ]
        },
        {
          "output_type": "display_data",
          "data": {
            "text/plain": [
              "<IPython.core.display.HTML object>"
            ],
            "text/html": [
              "\n",
              "    <div>\n",
              "      \n",
              "      <progress value='5' max='5' style='width:300px; height:20px; vertical-align: middle;'></progress>\n",
              "      [5/5 00:00]\n",
              "    </div>\n",
              "    "
            ]
          },
          "metadata": {}
        },
        {
          "output_type": "stream",
          "name": "stderr",
          "text": [
            "/usr/local/lib/python3.11/dist-packages/sklearn/metrics/_classification.py:1565: UndefinedMetricWarning:\n",
            "\n",
            "Precision is ill-defined and being set to 0.0 in labels with no predicted samples. Use `zero_division` parameter to control this behavior.\n",
            "\n",
            "/usr/local/lib/python3.11/dist-packages/transformers/training_args.py:1575: FutureWarning:\n",
            "\n",
            "`evaluation_strategy` is deprecated and will be removed in version 4.46 of 🤗 Transformers. Use `eval_strategy` instead\n",
            "\n"
          ]
        },
        {
          "output_type": "stream",
          "name": "stdout",
          "text": [
            "Fold 2 Results for bert-base-multilingual-cased: {'eval_loss': 1.6597224473953247, 'eval_accuracy': 0.35135135135135137, 'eval_f1': 0.25035611092582605, 'eval_precision': 0.20250534815752208, 'eval_recall': 0.35135135135135137, 'eval_runtime': 0.2553, 'eval_samples_per_second': 289.86, 'eval_steps_per_second': 19.585, 'epoch': 3.0}\n",
            "\n",
            "Starting Fold 3 for bert-base-multilingual-cased\n"
          ]
        },
        {
          "output_type": "display_data",
          "data": {
            "text/plain": [
              "<IPython.core.display.HTML object>"
            ],
            "text/html": [
              "\n",
              "    <div>\n",
              "      \n",
              "      <progress value='57' max='57' style='width:300px; height:20px; vertical-align: middle;'></progress>\n",
              "      [57/57 00:33, Epoch 3/3]\n",
              "    </div>\n",
              "    <table border=\"1\" class=\"dataframe\">\n",
              "  <thead>\n",
              " <tr style=\"text-align: left;\">\n",
              "      <th>Epoch</th>\n",
              "      <th>Training Loss</th>\n",
              "      <th>Validation Loss</th>\n",
              "      <th>Accuracy</th>\n",
              "      <th>F1</th>\n",
              "      <th>Precision</th>\n",
              "      <th>Recall</th>\n",
              "    </tr>\n",
              "  </thead>\n",
              "  <tbody>\n",
              "    <tr>\n",
              "      <td>1</td>\n",
              "      <td>No log</td>\n",
              "      <td>1.532570</td>\n",
              "      <td>0.459459</td>\n",
              "      <td>0.375405</td>\n",
              "      <td>0.456053</td>\n",
              "      <td>0.459459</td>\n",
              "    </tr>\n",
              "    <tr>\n",
              "      <td>2</td>\n",
              "      <td>No log</td>\n",
              "      <td>1.544921</td>\n",
              "      <td>0.445946</td>\n",
              "      <td>0.358423</td>\n",
              "      <td>0.347583</td>\n",
              "      <td>0.445946</td>\n",
              "    </tr>\n",
              "    <tr>\n",
              "      <td>3</td>\n",
              "      <td>No log</td>\n",
              "      <td>1.431475</td>\n",
              "      <td>0.513514</td>\n",
              "      <td>0.456071</td>\n",
              "      <td>0.436503</td>\n",
              "      <td>0.513514</td>\n",
              "    </tr>\n",
              "  </tbody>\n",
              "</table><p>"
            ]
          },
          "metadata": {}
        },
        {
          "output_type": "stream",
          "name": "stderr",
          "text": [
            "/usr/local/lib/python3.11/dist-packages/sklearn/metrics/_classification.py:1565: UndefinedMetricWarning:\n",
            "\n",
            "Precision is ill-defined and being set to 0.0 in labels with no predicted samples. Use `zero_division` parameter to control this behavior.\n",
            "\n",
            "/usr/local/lib/python3.11/dist-packages/sklearn/metrics/_classification.py:1565: UndefinedMetricWarning:\n",
            "\n",
            "Precision is ill-defined and being set to 0.0 in labels with no predicted samples. Use `zero_division` parameter to control this behavior.\n",
            "\n",
            "/usr/local/lib/python3.11/dist-packages/sklearn/metrics/_classification.py:1565: UndefinedMetricWarning:\n",
            "\n",
            "Precision is ill-defined and being set to 0.0 in labels with no predicted samples. Use `zero_division` parameter to control this behavior.\n",
            "\n"
          ]
        },
        {
          "output_type": "display_data",
          "data": {
            "text/plain": [
              "<IPython.core.display.HTML object>"
            ],
            "text/html": [
              "\n",
              "    <div>\n",
              "      \n",
              "      <progress value='5' max='5' style='width:300px; height:20px; vertical-align: middle;'></progress>\n",
              "      [5/5 00:00]\n",
              "    </div>\n",
              "    "
            ]
          },
          "metadata": {}
        },
        {
          "output_type": "stream",
          "name": "stderr",
          "text": [
            "/usr/local/lib/python3.11/dist-packages/sklearn/metrics/_classification.py:1565: UndefinedMetricWarning:\n",
            "\n",
            "Precision is ill-defined and being set to 0.0 in labels with no predicted samples. Use `zero_division` parameter to control this behavior.\n",
            "\n",
            "/usr/local/lib/python3.11/dist-packages/transformers/training_args.py:1575: FutureWarning:\n",
            "\n",
            "`evaluation_strategy` is deprecated and will be removed in version 4.46 of 🤗 Transformers. Use `eval_strategy` instead\n",
            "\n"
          ]
        },
        {
          "output_type": "stream",
          "name": "stdout",
          "text": [
            "Fold 3 Results for bert-base-multilingual-cased: {'eval_loss': 1.4314748048782349, 'eval_accuracy': 0.5135135135135135, 'eval_f1': 0.4560714652033438, 'eval_precision': 0.4365026865026865, 'eval_recall': 0.5135135135135135, 'eval_runtime': 0.2758, 'eval_samples_per_second': 268.306, 'eval_steps_per_second': 18.129, 'epoch': 3.0}\n",
            "\n",
            "Starting Fold 4 for bert-base-multilingual-cased\n"
          ]
        },
        {
          "output_type": "display_data",
          "data": {
            "text/plain": [
              "<IPython.core.display.HTML object>"
            ],
            "text/html": [
              "\n",
              "    <div>\n",
              "      \n",
              "      <progress value='57' max='57' style='width:300px; height:20px; vertical-align: middle;'></progress>\n",
              "      [57/57 00:33, Epoch 3/3]\n",
              "    </div>\n",
              "    <table border=\"1\" class=\"dataframe\">\n",
              "  <thead>\n",
              " <tr style=\"text-align: left;\">\n",
              "      <th>Epoch</th>\n",
              "      <th>Training Loss</th>\n",
              "      <th>Validation Loss</th>\n",
              "      <th>Accuracy</th>\n",
              "      <th>F1</th>\n",
              "      <th>Precision</th>\n",
              "      <th>Recall</th>\n",
              "    </tr>\n",
              "  </thead>\n",
              "  <tbody>\n",
              "    <tr>\n",
              "      <td>1</td>\n",
              "      <td>No log</td>\n",
              "      <td>1.585442</td>\n",
              "      <td>0.472973</td>\n",
              "      <td>0.409037</td>\n",
              "      <td>0.394652</td>\n",
              "      <td>0.472973</td>\n",
              "    </tr>\n",
              "    <tr>\n",
              "      <td>2</td>\n",
              "      <td>No log</td>\n",
              "      <td>1.443434</td>\n",
              "      <td>0.418919</td>\n",
              "      <td>0.347301</td>\n",
              "      <td>0.352477</td>\n",
              "      <td>0.418919</td>\n",
              "    </tr>\n",
              "    <tr>\n",
              "      <td>3</td>\n",
              "      <td>No log</td>\n",
              "      <td>1.372185</td>\n",
              "      <td>0.513514</td>\n",
              "      <td>0.477856</td>\n",
              "      <td>0.517577</td>\n",
              "      <td>0.513514</td>\n",
              "    </tr>\n",
              "  </tbody>\n",
              "</table><p>"
            ]
          },
          "metadata": {}
        },
        {
          "output_type": "stream",
          "name": "stderr",
          "text": [
            "/usr/local/lib/python3.11/dist-packages/sklearn/metrics/_classification.py:1565: UndefinedMetricWarning:\n",
            "\n",
            "Precision is ill-defined and being set to 0.0 in labels with no predicted samples. Use `zero_division` parameter to control this behavior.\n",
            "\n",
            "/usr/local/lib/python3.11/dist-packages/sklearn/metrics/_classification.py:1565: UndefinedMetricWarning:\n",
            "\n",
            "Precision is ill-defined and being set to 0.0 in labels with no predicted samples. Use `zero_division` parameter to control this behavior.\n",
            "\n",
            "/usr/local/lib/python3.11/dist-packages/sklearn/metrics/_classification.py:1565: UndefinedMetricWarning:\n",
            "\n",
            "Precision is ill-defined and being set to 0.0 in labels with no predicted samples. Use `zero_division` parameter to control this behavior.\n",
            "\n"
          ]
        },
        {
          "output_type": "display_data",
          "data": {
            "text/plain": [
              "<IPython.core.display.HTML object>"
            ],
            "text/html": [
              "\n",
              "    <div>\n",
              "      \n",
              "      <progress value='5' max='5' style='width:300px; height:20px; vertical-align: middle;'></progress>\n",
              "      [5/5 00:00]\n",
              "    </div>\n",
              "    "
            ]
          },
          "metadata": {}
        },
        {
          "output_type": "stream",
          "name": "stderr",
          "text": [
            "/usr/local/lib/python3.11/dist-packages/sklearn/metrics/_classification.py:1565: UndefinedMetricWarning:\n",
            "\n",
            "Precision is ill-defined and being set to 0.0 in labels with no predicted samples. Use `zero_division` parameter to control this behavior.\n",
            "\n",
            "/usr/local/lib/python3.11/dist-packages/transformers/training_args.py:1575: FutureWarning:\n",
            "\n",
            "`evaluation_strategy` is deprecated and will be removed in version 4.46 of 🤗 Transformers. Use `eval_strategy` instead\n",
            "\n"
          ]
        },
        {
          "output_type": "stream",
          "name": "stdout",
          "text": [
            "Fold 4 Results for bert-base-multilingual-cased: {'eval_loss': 1.3721853494644165, 'eval_accuracy': 0.5135135135135135, 'eval_f1': 0.4778559206476826, 'eval_precision': 0.5175773599686643, 'eval_recall': 0.5135135135135135, 'eval_runtime': 0.2501, 'eval_samples_per_second': 295.834, 'eval_steps_per_second': 19.989, 'epoch': 3.0}\n",
            "\n",
            "Starting Fold 5 for bert-base-multilingual-cased\n"
          ]
        },
        {
          "output_type": "display_data",
          "data": {
            "text/plain": [
              "<IPython.core.display.HTML object>"
            ],
            "text/html": [
              "\n",
              "    <div>\n",
              "      \n",
              "      <progress value='57' max='57' style='width:300px; height:20px; vertical-align: middle;'></progress>\n",
              "      [57/57 00:35, Epoch 3/3]\n",
              "    </div>\n",
              "    <table border=\"1\" class=\"dataframe\">\n",
              "  <thead>\n",
              " <tr style=\"text-align: left;\">\n",
              "      <th>Epoch</th>\n",
              "      <th>Training Loss</th>\n",
              "      <th>Validation Loss</th>\n",
              "      <th>Accuracy</th>\n",
              "      <th>F1</th>\n",
              "      <th>Precision</th>\n",
              "      <th>Recall</th>\n",
              "    </tr>\n",
              "  </thead>\n",
              "  <tbody>\n",
              "    <tr>\n",
              "      <td>1</td>\n",
              "      <td>No log</td>\n",
              "      <td>1.191823</td>\n",
              "      <td>0.567568</td>\n",
              "      <td>0.505553</td>\n",
              "      <td>0.481086</td>\n",
              "      <td>0.567568</td>\n",
              "    </tr>\n",
              "    <tr>\n",
              "      <td>2</td>\n",
              "      <td>No log</td>\n",
              "      <td>1.179004</td>\n",
              "      <td>0.581081</td>\n",
              "      <td>0.536886</td>\n",
              "      <td>0.511486</td>\n",
              "      <td>0.581081</td>\n",
              "    </tr>\n",
              "    <tr>\n",
              "      <td>3</td>\n",
              "      <td>No log</td>\n",
              "      <td>1.218703</td>\n",
              "      <td>0.581081</td>\n",
              "      <td>0.537072</td>\n",
              "      <td>0.524089</td>\n",
              "      <td>0.581081</td>\n",
              "    </tr>\n",
              "  </tbody>\n",
              "</table><p>"
            ]
          },
          "metadata": {}
        },
        {
          "output_type": "stream",
          "name": "stderr",
          "text": [
            "/usr/local/lib/python3.11/dist-packages/sklearn/metrics/_classification.py:1565: UndefinedMetricWarning:\n",
            "\n",
            "Precision is ill-defined and being set to 0.0 in labels with no predicted samples. Use `zero_division` parameter to control this behavior.\n",
            "\n",
            "/usr/local/lib/python3.11/dist-packages/sklearn/metrics/_classification.py:1565: UndefinedMetricWarning:\n",
            "\n",
            "Precision is ill-defined and being set to 0.0 in labels with no predicted samples. Use `zero_division` parameter to control this behavior.\n",
            "\n",
            "/usr/local/lib/python3.11/dist-packages/sklearn/metrics/_classification.py:1565: UndefinedMetricWarning:\n",
            "\n",
            "Precision is ill-defined and being set to 0.0 in labels with no predicted samples. Use `zero_division` parameter to control this behavior.\n",
            "\n"
          ]
        },
        {
          "output_type": "display_data",
          "data": {
            "text/plain": [
              "<IPython.core.display.HTML object>"
            ],
            "text/html": [
              "\n",
              "    <div>\n",
              "      \n",
              "      <progress value='5' max='5' style='width:300px; height:20px; vertical-align: middle;'></progress>\n",
              "      [5/5 00:00]\n",
              "    </div>\n",
              "    "
            ]
          },
          "metadata": {}
        },
        {
          "output_type": "stream",
          "name": "stderr",
          "text": [
            "/usr/local/lib/python3.11/dist-packages/sklearn/metrics/_classification.py:1565: UndefinedMetricWarning:\n",
            "\n",
            "Precision is ill-defined and being set to 0.0 in labels with no predicted samples. Use `zero_division` parameter to control this behavior.\n",
            "\n"
          ]
        },
        {
          "output_type": "stream",
          "name": "stdout",
          "text": [
            "Fold 5 Results for bert-base-multilingual-cased: {'eval_loss': 1.179004192352295, 'eval_accuracy': 0.581081081081081, 'eval_f1': 0.5368855697803067, 'eval_precision': 0.5114864864864865, 'eval_recall': 0.581081081081081, 'eval_runtime': 0.2142, 'eval_samples_per_second': 345.538, 'eval_steps_per_second': 23.347, 'epoch': 3.0}\n",
            "\n",
            "Final Results Across Models:\n",
            "                       Model  Avg_Accuracy   Avg_F1  Avg_Precision  Avg_Recall\n",
            "bert-base-multilingual-cased      0.472973 0.395878       0.374765    0.472973\n"
          ]
        }
      ]
    },
    {
      "cell_type": "code",
      "source": [
        "from transformers import AutoTokenizer, AutoModelForSequenceClassification\n",
        "from transformers import Trainer\n",
        "import numpy as np\n",
        "from sklearn.metrics import classification_report\n",
        "\n",
        "# Load the saved model and tokenizer\n",
        "saved_model_path = \"./bert-base-multilingual-cased_combined-non-aug\"\n",
        "model = AutoModelForSequenceClassification.from_pretrained(saved_model_path)\n",
        "tokenizer = AutoTokenizer.from_pretrained(saved_model_path)\n",
        "\n",
        "# Reinitialize the Trainer with the loaded model\n",
        "trainer = Trainer(\n",
        "    model=model,\n",
        "    args=training_args,\n",
        "    eval_dataset=val_dataset,\n",
        "    tokenizer=tokenizer,\n",
        ")\n",
        "\n",
        "# Evaluate the model\n",
        "trainer.evaluate()\n",
        "\n",
        "# Make predictions\n",
        "predictions = trainer.predict(val_dataset)\n",
        "\n",
        "# Decode predicted labels\n",
        "predicted_labels = np.argmax(predictions.predictions, axis=1)\n",
        "\n",
        "from sklearn.metrics import classification_report\n",
        "import numpy as np\n",
        "\n",
        "# Decode predicted labels\n",
        "predictions = trainer.predict(val_dataset)\n",
        "predicted_labels = np.argmax(predictions.predictions, axis=1)\n",
        "\n",
        "# Debugging output\n",
        "print(\"Predicted classes:\", len(np.unique(predicted_labels)))\n",
        "print(\"Label Encoder classes:\", len(label_encoder.classes_))\n",
        "\n",
        "\n",
        "all_labels = list(range(len(label_encoder.classes_)))\n",
        "target_names = label_encoder.classes_\n",
        "\n",
        "# Print the classification report\n",
        "print(classification_report(\n",
        "    val_labels,\n",
        "    predicted_labels,\n",
        "    labels=all_labels,\n",
        "    target_names=target_names,\n",
        "    zero_division=0\n",
        "))"
      ],
      "metadata": {
        "colab": {
          "base_uri": "https://localhost:8080/",
          "height": 410
        },
        "id": "-sJHbdA7NBT1",
        "outputId": "c001a790-df6a-4581-be3a-01b0ea522f46"
      },
      "execution_count": 27,
      "outputs": [
        {
          "output_type": "stream",
          "name": "stderr",
          "text": [
            "<ipython-input-27-b8dd40c23323>:12: FutureWarning:\n",
            "\n",
            "`tokenizer` is deprecated and will be removed in version 5.0.0 for `Trainer.__init__`. Use `processing_class` instead.\n",
            "\n"
          ]
        },
        {
          "output_type": "display_data",
          "data": {
            "text/plain": [
              "<IPython.core.display.HTML object>"
            ],
            "text/html": []
          },
          "metadata": {}
        },
        {
          "output_type": "display_data",
          "data": {
            "text/plain": [
              "<IPython.core.display.HTML object>"
            ],
            "text/html": []
          },
          "metadata": {}
        },
        {
          "output_type": "stream",
          "name": "stdout",
          "text": [
            "Predicted classes: 5\n",
            "Label Encoder classes: 9\n",
            "               precision    recall  f1-score   support\n",
            "\n",
            "  Compression       0.00      0.00      0.00         3\n",
            "  Explanation       0.60      0.67      0.63        18\n",
            "   Modulation       0.40      0.50      0.44         8\n",
            "     Omission       0.00      0.00      0.00         3\n",
            " Substitution       0.44      0.73      0.55        15\n",
            "     Synonymy       0.00      0.00      0.00         1\n",
            "    Syntactic       0.62      0.50      0.56        10\n",
            "Transcription       1.00      1.00      1.00        11\n",
            "Transposition       0.00      0.00      0.00         5\n",
            "\n",
            "     accuracy                           0.58        74\n",
            "    macro avg       0.34      0.38      0.35        74\n",
            " weighted avg       0.51      0.58      0.54        74\n",
            "\n"
          ]
        }
      ]
    },
    {
      "cell_type": "code",
      "source": [
        "import matplotlib.pyplot as plt\n",
        "import seaborn as sns\n",
        "from sklearn.metrics import confusion_matrix\n",
        "\n",
        "# Compute the confusion matrix\n",
        "cm = confusion_matrix(val_labels, predicted_labels)\n",
        "\n",
        "# Plot the confusion matrix\n",
        "plt.figure(figsize=(10, 7))\n",
        "sns.heatmap(cm, annot=True, fmt='d', cmap='Blues', xticklabels=target_names, yticklabels=target_names)\n",
        "plt.xlabel('Predicted Labels')\n",
        "plt.ylabel('True Labels')\n",
        "plt.title('Confusion Matrix')\n",
        "plt.show()\n"
      ],
      "metadata": {
        "colab": {
          "base_uri": "https://localhost:8080/",
          "height": 719
        },
        "id": "5_lToPUOwA6S",
        "outputId": "7775c072-981f-48c0-c201-a3d569fb0ec5"
      },
      "execution_count": 28,
      "outputs": [
        {
          "output_type": "display_data",
          "data": {
            "text/plain": [
              "<Figure size 1000x700 with 2 Axes>"
            ],
            "image/png": "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\n"
          },
          "metadata": {}
        }
      ]
    },
    {
      "cell_type": "code",
      "source": [
        "# Bar plot for class distribution\n",
        "plt.figure(figsize=(10, 5))\n",
        "sns.histplot(predicted_labels, bins=len(target_names), kde=False, color='blue', label=\"Predicted Labels\", alpha=0.6)\n",
        "sns.histplot(val_labels, bins=len(target_names), kde=False, color='red', label=\"True Labels\", alpha=0.6)\n",
        "plt.xticks(range(len(target_names)), target_names, rotation=45)\n",
        "plt.legend()\n",
        "plt.xlabel(\"Classes\")\n",
        "plt.ylabel(\"Count\")\n",
        "plt.title(\"Distribution of Predicted vs. True Labels\")\n",
        "plt.show()\n"
      ],
      "metadata": {
        "colab": {
          "base_uri": "https://localhost:8080/",
          "height": 548
        },
        "id": "m4STy3TRwBNm",
        "outputId": "fd634d63-c6b9-4f1f-a047-51ad3c13da24"
      },
      "execution_count": 29,
      "outputs": [
        {
          "output_type": "display_data",
          "data": {
            "text/plain": [
              "<Figure size 1000x500 with 1 Axes>"
            ],
            "image/png": "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\n"
          },
          "metadata": {}
        }
      ]
    },
    {
      "cell_type": "code",
      "source": [
        "import matplotlib.pyplot as plt\n",
        "import seaborn as sns\n",
        "import numpy as np\n",
        "from sklearn.metrics import precision_recall_fscore_support\n",
        "\n",
        "# Compute class-wise precision, recall, and f1-score\n",
        "precision, recall, f1, _ = precision_recall_fscore_support(val_labels, predicted_labels, average=None)\n",
        "\n",
        "# Bar plot for Precision, Recall, and F1-score per class\n",
        "x = np.arange(len(target_names))  # Label indices\n",
        "width = 0.3  # Width of bars\n",
        "\n",
        "plt.figure(figsize=(12, 6))\n",
        "plt.bar(x - width, precision, width=width, label=\"Precision\", color='blue', alpha=0.7)\n",
        "plt.bar(x, recall, width=width, label=\"Recall\", color='green', alpha=0.7)\n",
        "plt.bar(x + width, f1, width=width, label=\"F1 Score\", color='red', alpha=0.7)\n",
        "\n",
        "plt.xticks(ticks=x, labels=target_names, rotation=45)\n",
        "plt.ylabel(\"Score\")\n",
        "plt.xlabel(\"Classes\")\n",
        "plt.title(\"Precision, Recall, and F1-score per Class\")\n",
        "plt.legend()\n",
        "plt.show()\n"
      ],
      "metadata": {
        "colab": {
          "base_uri": "https://localhost:8080/",
          "height": 716
        },
        "id": "ob1NbiQuwFYC",
        "outputId": "b0ac59a9-f97b-4958-d736-e492fdc4d6a6"
      },
      "execution_count": 30,
      "outputs": [
        {
          "output_type": "stream",
          "name": "stderr",
          "text": [
            "/usr/local/lib/python3.11/dist-packages/sklearn/metrics/_classification.py:1565: UndefinedMetricWarning:\n",
            "\n",
            "Precision is ill-defined and being set to 0.0 in labels with no predicted samples. Use `zero_division` parameter to control this behavior.\n",
            "\n"
          ]
        },
        {
          "output_type": "display_data",
          "data": {
            "text/plain": [
              "<Figure size 1200x600 with 1 Axes>"
            ],
            "image/png": "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\n"
          },
          "metadata": {}
        }
      ]
    },
    {
      "cell_type": "code",
      "source": [],
      "metadata": {
        "id": "tbIFC3WYwSrj"
      },
      "execution_count": null,
      "outputs": []
    }
  ]
}
