{
 "cells": [
  {
   "cell_type": "markdown",
   "metadata": {},
   "source": [
    "# Obtenir une prédiction à partir d'un checkpoint"
   ]
  },
  {
   "cell_type": "code",
   "execution_count": 1,
   "metadata": {},
   "outputs": [
    {
     "name": "stdout",
     "output_type": "stream",
     "text": [
      "Requirement already satisfied: lightning in /home/alex/CODE/genai-for-public-good/.venv/lib/python3.12/site-packages (2.5.0.post0)\n",
      "Requirement already satisfied: PyYAML<8.0,>=5.4 in /home/alex/CODE/genai-for-public-good/.venv/lib/python3.12/site-packages (from lightning) (6.0.2)\n",
      "Requirement already satisfied: fsspec<2026.0,>=2022.5.0 in /home/alex/CODE/genai-for-public-good/.venv/lib/python3.12/site-packages (from fsspec[http]<2026.0,>=2022.5.0->lightning) (2025.2.0)\n",
      "Requirement already satisfied: lightning-utilities<2.0,>=0.10.0 in /home/alex/CODE/genai-for-public-good/.venv/lib/python3.12/site-packages (from lightning) (0.12.0)\n",
      "Requirement already satisfied: packaging<25.0,>=20.0 in /home/alex/CODE/genai-for-public-good/.venv/lib/python3.12/site-packages (from lightning) (24.2)\n",
      "Requirement already satisfied: torch<4.0,>=2.1.0 in /home/alex/CODE/genai-for-public-good/.venv/lib/python3.12/site-packages (from lightning) (2.6.0)\n",
      "Requirement already satisfied: torchmetrics<3.0,>=0.7.0 in /home/alex/CODE/genai-for-public-good/.venv/lib/python3.12/site-packages (from lightning) (1.6.1)\n",
      "Requirement already satisfied: tqdm<6.0,>=4.57.0 in /home/alex/CODE/genai-for-public-good/.venv/lib/python3.12/site-packages (from lightning) (4.67.1)\n",
      "Requirement already satisfied: typing-extensions<6.0,>=4.4.0 in /home/alex/CODE/genai-for-public-good/.venv/lib/python3.12/site-packages (from lightning) (4.12.2)\n",
      "Requirement already satisfied: pytorch-lightning in /home/alex/CODE/genai-for-public-good/.venv/lib/python3.12/site-packages (from lightning) (2.5.0.post0)\n",
      "Requirement already satisfied: aiohttp!=4.0.0a0,!=4.0.0a1 in /home/alex/CODE/genai-for-public-good/.venv/lib/python3.12/site-packages (from fsspec[http]<2026.0,>=2022.5.0->lightning) (3.11.11)\n",
      "Requirement already satisfied: setuptools in /home/alex/CODE/genai-for-public-good/.venv/lib/python3.12/site-packages (from lightning-utilities<2.0,>=0.10.0->lightning) (75.8.0)\n",
      "Requirement already satisfied: filelock in /home/alex/CODE/genai-for-public-good/.venv/lib/python3.12/site-packages (from torch<4.0,>=2.1.0->lightning) (3.17.0)\n",
      "Requirement already satisfied: networkx in /home/alex/CODE/genai-for-public-good/.venv/lib/python3.12/site-packages (from torch<4.0,>=2.1.0->lightning) (3.4.2)\n",
      "Requirement already satisfied: jinja2 in /home/alex/CODE/genai-for-public-good/.venv/lib/python3.12/site-packages (from torch<4.0,>=2.1.0->lightning) (3.1.5)\n",
      "Requirement already satisfied: nvidia-cuda-nvrtc-cu12==12.4.127 in /home/alex/CODE/genai-for-public-good/.venv/lib/python3.12/site-packages (from torch<4.0,>=2.1.0->lightning) (12.4.127)\n",
      "Requirement already satisfied: nvidia-cuda-runtime-cu12==12.4.127 in /home/alex/CODE/genai-for-public-good/.venv/lib/python3.12/site-packages (from torch<4.0,>=2.1.0->lightning) (12.4.127)\n",
      "Requirement already satisfied: nvidia-cuda-cupti-cu12==12.4.127 in /home/alex/CODE/genai-for-public-good/.venv/lib/python3.12/site-packages (from torch<4.0,>=2.1.0->lightning) (12.4.127)\n",
      "Requirement already satisfied: nvidia-cudnn-cu12==9.1.0.70 in /home/alex/CODE/genai-for-public-good/.venv/lib/python3.12/site-packages (from torch<4.0,>=2.1.0->lightning) (9.1.0.70)\n",
      "Requirement already satisfied: nvidia-cublas-cu12==12.4.5.8 in /home/alex/CODE/genai-for-public-good/.venv/lib/python3.12/site-packages (from torch<4.0,>=2.1.0->lightning) (12.4.5.8)\n",
      "Requirement already satisfied: nvidia-cufft-cu12==11.2.1.3 in /home/alex/CODE/genai-for-public-good/.venv/lib/python3.12/site-packages (from torch<4.0,>=2.1.0->lightning) (11.2.1.3)\n",
      "Requirement already satisfied: nvidia-curand-cu12==10.3.5.147 in /home/alex/CODE/genai-for-public-good/.venv/lib/python3.12/site-packages (from torch<4.0,>=2.1.0->lightning) (10.3.5.147)\n",
      "Requirement already satisfied: nvidia-cusolver-cu12==11.6.1.9 in /home/alex/CODE/genai-for-public-good/.venv/lib/python3.12/site-packages (from torch<4.0,>=2.1.0->lightning) (11.6.1.9)\n",
      "Requirement already satisfied: nvidia-cusparse-cu12==12.3.1.170 in /home/alex/CODE/genai-for-public-good/.venv/lib/python3.12/site-packages (from torch<4.0,>=2.1.0->lightning) (12.3.1.170)\n",
      "Requirement already satisfied: nvidia-cusparselt-cu12==0.6.2 in /home/alex/CODE/genai-for-public-good/.venv/lib/python3.12/site-packages (from torch<4.0,>=2.1.0->lightning) (0.6.2)\n",
      "Requirement already satisfied: nvidia-nccl-cu12==2.21.5 in /home/alex/CODE/genai-for-public-good/.venv/lib/python3.12/site-packages (from torch<4.0,>=2.1.0->lightning) (2.21.5)\n",
      "Requirement already satisfied: nvidia-nvtx-cu12==12.4.127 in /home/alex/CODE/genai-for-public-good/.venv/lib/python3.12/site-packages (from torch<4.0,>=2.1.0->lightning) (12.4.127)\n",
      "Requirement already satisfied: nvidia-nvjitlink-cu12==12.4.127 in /home/alex/CODE/genai-for-public-good/.venv/lib/python3.12/site-packages (from torch<4.0,>=2.1.0->lightning) (12.4.127)\n",
      "Requirement already satisfied: triton==3.2.0 in /home/alex/CODE/genai-for-public-good/.venv/lib/python3.12/site-packages (from torch<4.0,>=2.1.0->lightning) (3.2.0)\n",
      "Requirement already satisfied: sympy==1.13.1 in /home/alex/CODE/genai-for-public-good/.venv/lib/python3.12/site-packages (from torch<4.0,>=2.1.0->lightning) (1.13.1)\n",
      "Requirement already satisfied: mpmath<1.4,>=1.1.0 in /home/alex/CODE/genai-for-public-good/.venv/lib/python3.12/site-packages (from sympy==1.13.1->torch<4.0,>=2.1.0->lightning) (1.3.0)\n",
      "Requirement already satisfied: numpy>1.20.0 in /home/alex/CODE/genai-for-public-good/.venv/lib/python3.12/site-packages (from torchmetrics<3.0,>=0.7.0->lightning) (2.2.2)\n",
      "Requirement already satisfied: aiohappyeyeballs>=2.3.0 in /home/alex/CODE/genai-for-public-good/.venv/lib/python3.12/site-packages (from aiohttp!=4.0.0a0,!=4.0.0a1->fsspec[http]<2026.0,>=2022.5.0->lightning) (2.4.4)\n",
      "Requirement already satisfied: aiosignal>=1.1.2 in /home/alex/CODE/genai-for-public-good/.venv/lib/python3.12/site-packages (from aiohttp!=4.0.0a0,!=4.0.0a1->fsspec[http]<2026.0,>=2022.5.0->lightning) (1.3.2)\n",
      "Requirement already satisfied: attrs>=17.3.0 in /home/alex/CODE/genai-for-public-good/.venv/lib/python3.12/site-packages (from aiohttp!=4.0.0a0,!=4.0.0a1->fsspec[http]<2026.0,>=2022.5.0->lightning) (25.1.0)\n",
      "Requirement already satisfied: frozenlist>=1.1.1 in /home/alex/CODE/genai-for-public-good/.venv/lib/python3.12/site-packages (from aiohttp!=4.0.0a0,!=4.0.0a1->fsspec[http]<2026.0,>=2022.5.0->lightning) (1.5.0)\n",
      "Requirement already satisfied: multidict<7.0,>=4.5 in /home/alex/CODE/genai-for-public-good/.venv/lib/python3.12/site-packages (from aiohttp!=4.0.0a0,!=4.0.0a1->fsspec[http]<2026.0,>=2022.5.0->lightning) (6.1.0)\n",
      "Requirement already satisfied: propcache>=0.2.0 in /home/alex/CODE/genai-for-public-good/.venv/lib/python3.12/site-packages (from aiohttp!=4.0.0a0,!=4.0.0a1->fsspec[http]<2026.0,>=2022.5.0->lightning) (0.2.1)\n",
      "Requirement already satisfied: yarl<2.0,>=1.17.0 in /home/alex/CODE/genai-for-public-good/.venv/lib/python3.12/site-packages (from aiohttp!=4.0.0a0,!=4.0.0a1->fsspec[http]<2026.0,>=2022.5.0->lightning) (1.18.3)\n",
      "Requirement already satisfied: MarkupSafe>=2.0 in /home/alex/CODE/genai-for-public-good/.venv/lib/python3.12/site-packages (from jinja2->torch<4.0,>=2.1.0->lightning) (3.0.2)\n",
      "Requirement already satisfied: idna>=2.0 in /home/alex/CODE/genai-for-public-good/.venv/lib/python3.12/site-packages (from yarl<2.0,>=1.17.0->aiohttp!=4.0.0a0,!=4.0.0a1->fsspec[http]<2026.0,>=2022.5.0->lightning) (3.10)\n",
      "Requirement already satisfied: wandb>=0.12.10 in /home/alex/CODE/genai-for-public-good/.venv/lib/python3.12/site-packages (0.19.6)\n",
      "Requirement already satisfied: click!=8.0.0,>=7.1 in /home/alex/CODE/genai-for-public-good/.venv/lib/python3.12/site-packages (from wandb>=0.12.10) (8.1.8)\n",
      "Requirement already satisfied: docker-pycreds>=0.4.0 in /home/alex/CODE/genai-for-public-good/.venv/lib/python3.12/site-packages (from wandb>=0.12.10) (0.4.0)\n",
      "Requirement already satisfied: gitpython!=3.1.29,>=1.0.0 in /home/alex/CODE/genai-for-public-good/.venv/lib/python3.12/site-packages (from wandb>=0.12.10) (3.1.44)\n",
      "Requirement already satisfied: platformdirs in /home/alex/CODE/genai-for-public-good/.venv/lib/python3.12/site-packages (from wandb>=0.12.10) (4.3.6)\n",
      "Requirement already satisfied: protobuf!=4.21.0,!=5.28.0,<6,>=3.19.0 in /home/alex/CODE/genai-for-public-good/.venv/lib/python3.12/site-packages (from wandb>=0.12.10) (5.29.3)\n",
      "Requirement already satisfied: psutil>=5.0.0 in /home/alex/CODE/genai-for-public-good/.venv/lib/python3.12/site-packages (from wandb>=0.12.10) (6.1.1)\n",
      "Requirement already satisfied: pydantic<3,>=2.6 in /home/alex/CODE/genai-for-public-good/.venv/lib/python3.12/site-packages (from wandb>=0.12.10) (2.10.6)\n",
      "Requirement already satisfied: pyyaml in /home/alex/CODE/genai-for-public-good/.venv/lib/python3.12/site-packages (from wandb>=0.12.10) (6.0.2)\n",
      "Requirement already satisfied: requests<3,>=2.0.0 in /home/alex/CODE/genai-for-public-good/.venv/lib/python3.12/site-packages (from wandb>=0.12.10) (2.32.3)\n",
      "Requirement already satisfied: sentry-sdk>=2.0.0 in /home/alex/CODE/genai-for-public-good/.venv/lib/python3.12/site-packages (from wandb>=0.12.10) (2.20.0)\n",
      "Requirement already satisfied: setproctitle in /home/alex/CODE/genai-for-public-good/.venv/lib/python3.12/site-packages (from wandb>=0.12.10) (1.3.4)\n",
      "Requirement already satisfied: setuptools in /home/alex/CODE/genai-for-public-good/.venv/lib/python3.12/site-packages (from wandb>=0.12.10) (75.8.0)\n",
      "Requirement already satisfied: six>=1.4.0 in /home/alex/CODE/genai-for-public-good/.venv/lib/python3.12/site-packages (from docker-pycreds>=0.4.0->wandb>=0.12.10) (1.17.0)\n",
      "Requirement already satisfied: gitdb<5,>=4.0.1 in /home/alex/CODE/genai-for-public-good/.venv/lib/python3.12/site-packages (from gitpython!=3.1.29,>=1.0.0->wandb>=0.12.10) (4.0.12)\n",
      "Requirement already satisfied: annotated-types>=0.6.0 in /home/alex/CODE/genai-for-public-good/.venv/lib/python3.12/site-packages (from pydantic<3,>=2.6->wandb>=0.12.10) (0.7.0)\n",
      "Requirement already satisfied: pydantic-core==2.27.2 in /home/alex/CODE/genai-for-public-good/.venv/lib/python3.12/site-packages (from pydantic<3,>=2.6->wandb>=0.12.10) (2.27.2)\n",
      "Requirement already satisfied: typing-extensions>=4.12.2 in /home/alex/CODE/genai-for-public-good/.venv/lib/python3.12/site-packages (from pydantic<3,>=2.6->wandb>=0.12.10) (4.12.2)\n",
      "Requirement already satisfied: charset-normalizer<4,>=2 in /home/alex/CODE/genai-for-public-good/.venv/lib/python3.12/site-packages (from requests<3,>=2.0.0->wandb>=0.12.10) (3.4.1)\n",
      "Requirement already satisfied: idna<4,>=2.5 in /home/alex/CODE/genai-for-public-good/.venv/lib/python3.12/site-packages (from requests<3,>=2.0.0->wandb>=0.12.10) (3.10)\n",
      "Requirement already satisfied: urllib3<3,>=1.21.1 in /home/alex/CODE/genai-for-public-good/.venv/lib/python3.12/site-packages (from requests<3,>=2.0.0->wandb>=0.12.10) (2.3.0)\n",
      "Requirement already satisfied: certifi>=2017.4.17 in /home/alex/CODE/genai-for-public-good/.venv/lib/python3.12/site-packages (from requests<3,>=2.0.0->wandb>=0.12.10) (2025.1.31)\n",
      "Requirement already satisfied: smmap<6,>=3.0.1 in /home/alex/CODE/genai-for-public-good/.venv/lib/python3.12/site-packages (from gitdb<5,>=4.0.1->gitpython!=3.1.29,>=1.0.0->wandb>=0.12.10) (5.0.2)\n"
     ]
    }
   ],
   "source": [
    "!pip install lightning\n",
    "!pip install -U 'wandb>=0.12.10'\n",
    "!pip install pytorch-lightning --quiet"
   ]
  },
  {
   "cell_type": "code",
   "execution_count": 2,
   "metadata": {},
   "outputs": [
    {
     "name": "stderr",
     "output_type": "stream",
     "text": [
      "/home/alex/CODE/genai-for-public-good/.venv/lib/python3.12/site-packages/tqdm/auto.py:21: TqdmWarning: IProgress not found. Please update jupyter and ipywidgets. See https://ipywidgets.readthedocs.io/en/stable/user_install.html\n",
      "  from .autonotebook import tqdm as notebook_tqdm\n"
     ]
    }
   ],
   "source": [
    "# importing libraries\n",
    "import pandas as pd\n",
    "import numpy as np\n",
    "from tqdm.auto import tqdm\n",
    "import lightning as L\n",
    "import torch\n",
    "import torchmetrics\n",
    "import torch.nn as nn\n",
    "from torch.utils.data import Dataset, DataLoader\n",
    "from transformers import BertTokenizerFast as BertTokenizer, BertModel, AdamW, get_linear_schedule_with_warmup\n",
    "\n",
    "import pytorch_lightning as pl\n",
    "from pytorch_lightning.callbacks import ModelCheckpoint, EarlyStopping\n",
    "from pytorch_lightning.loggers import TensorBoardLogger\n",
    "from sklearn.model_selection import train_test_split\n",
    "from sklearn.metrics import classification_report, multilabel_confusion_matrix\n",
    "\n",
    "import seaborn as sns\n",
    "from pylab import rcParams\n",
    "import matplotlib.pyplot as plt\n",
    "from matplotlib import rc"
   ]
  },
  {
   "cell_type": "code",
   "execution_count": 5,
   "metadata": {},
   "outputs": [],
   "source": [
    "from torcheval.metrics import MultilabelAUPRC\n",
    "bert_model = BertModel.from_pretrained(BERT_MODEL_NAME, return_dict=True)\n",
    "\n",
    "class ToxicCommentTagger(L.LightningModule):\n",
    "\n",
    "  def __init__(self, n_classes: int, n_training_steps=None, n_warmup_steps=None):\n",
    "    super().__init__()\n",
    "    self.classifier = nn.Linear(bert_model.config.hidden_size, n_classes)\n",
    "    self.n_training_steps = n_training_steps\n",
    "    self.n_warmup_steps = n_warmup_steps\n",
    "    self.criterion = nn.BCELoss()\n",
    "\n",
    "  def forward(self, input_ids, attention_mask, labels=None):\n",
    "    output = bert_model(input_ids, attention_mask=attention_mask)\n",
    "    output = self.classifier(output.pooler_output)\n",
    "    output = torch.sigmoid(output)    \n",
    "    loss = 0\n",
    "    if labels is not None:\n",
    "        loss = self.criterion(output, labels)\n",
    "    return loss, output\n",
    "\n",
    "  def training_step(self, batch, batch_idx):\n",
    "    input_ids = batch[\"input_ids\"]\n",
    "    attention_mask = batch[\"attention_mask\"]\n",
    "    labels = batch[\"labels\"]\n",
    "    loss, outputs = self(input_ids, attention_mask, labels)\n",
    "    self.log(\"train_loss\", loss, prog_bar=True, logger=True)\n",
    "    return {\"loss\": loss, \"predictions\": outputs, \"labels\": labels}\n",
    "\n",
    "  def validation_step(self, batch, batch_idx):\n",
    "    input_ids = batch[\"input_ids\"]\n",
    "    attention_mask = batch[\"attention_mask\"]\n",
    "    labels = batch[\"labels\"]\n",
    "    loss, outputs = self(input_ids, attention_mask, labels)\n",
    "    self.log(\"val_loss\", loss, prog_bar=True, logger=True)\n",
    "    metric_auprc = MultilabelAUPRC(num_labels=len(classes), average=None)\n",
    "    aupc = metric_auprc.update(outputs, labels).compute().tolist()\n",
    "    for name_class, m in zip(classes, aupc):\n",
    "      self.log(f\"aupc_{name_class}\", m, logger=True)\n",
    "    return loss\n",
    "\n",
    "  def test_step(self, batch, batch_idx):\n",
    "    input_ids = batch[\"input_ids\"]\n",
    "    attention_mask = batch[\"attention_mask\"]\n",
    "    labels = batch[\"labels\"]\n",
    "    loss, outputs = self(input_ids, attention_mask, labels)\n",
    "    self.log(\"test_loss\", loss, prog_bar=True, logger=True)\n",
    "    return loss\n",
    "\n",
    "  def on_train_epoch_end(self, *args):\n",
    "    pass\n",
    "  def configure_optimizers(self):\n",
    "\n",
    "    optimizer = AdamW(self.parameters(), lr=2e-5)\n",
    "\n",
    "    scheduler = get_linear_schedule_with_warmup(\n",
    "      optimizer,\n",
    "      num_warmup_steps=self.n_warmup_steps,\n",
    "      num_training_steps=self.n_training_steps\n",
    "    )\n",
    "\n",
    "    return dict(\n",
    "      optimizer=optimizer,\n",
    "      lr_scheduler=dict(\n",
    "        scheduler=scheduler,\n",
    "        interval='step'\n",
    "      )\n",
    "    )\n",
    "     "
   ]
  },
  {
   "cell_type": "code",
   "execution_count": 6,
   "metadata": {},
   "outputs": [
    {
     "data": {
      "text/plain": [
       "ToxicCommentTagger(\n",
       "  (classifier): Linear(in_features=768, out_features=9, bias=True)\n",
       "  (criterion): BCELoss()\n",
       ")"
      ]
     },
     "execution_count": 6,
     "metadata": {},
     "output_type": "execute_result"
    }
   ],
   "source": [
    "classes = ['Compression',\n",
    " 'Explanation',\n",
    " 'Modulation',\n",
    " 'Omission',\n",
    " 'Substitution',\n",
    " 'Synonymy',\n",
    " 'Syntactic',\n",
    " 'Transcription',\n",
    " 'Transposition']\n",
    "BERT_MODEL_NAME = \"bert-base-multilingual-cased\"\n",
    "model = ToxicCommentTagger.load_from_checkpoint(\"/home/alex/CODE/genai-for-public-good/notebooks/tb_logs/my_model/version_2/checkpoints/epoch=9-step=690.ckpt\",\n",
    "n_classes=len(classes))\n",
    "tokenizer = BertTokenizer.from_pretrained(BERT_MODEL_NAME)\n",
    "# disable randomness, dropout, etc...\n",
    "model.eval()"
   ]
  },
  {
   "cell_type": "code",
   "execution_count": 15,
   "metadata": {},
   "outputs": [],
   "source": [
    "def pipeline(text:str):\n",
    "    encoding = tokenizer.encode_plus(\n",
    "        text,\n",
    "        add_special_tokens=True,\n",
    "        max_length=512,\n",
    "        return_token_type_ids=False,\n",
    "        padding=\"max_length\",\n",
    "        return_attention_mask=True,\n",
    "        return_tensors='pt',\n",
    "        )\n",
    "    bert_model.to(\"cuda\")\n",
    "    _, test_prediction = model(encoding[\"input_ids\"].to(model.device), encoding[\"attention_mask\"].to(model.device))\n",
    "    test_prediction = test_prediction.flatten().cpu().detach().numpy()\n",
    "    bert_model.to(\"cpu\")\n",
    "    result = {}\n",
    "    for label, prediction in zip(classes, test_prediction):\n",
    "        result[label] = float(prediction)\n",
    "    return result\n",
    "\n",
    "test_comment = \"Une adhésion de 15 € / an à l'association est demandée lors de l'inscription.\"\n",
    "test_comment = \"Accompagnement individuel\""
   ]
  },
  {
   "cell_type": "code",
   "execution_count": 16,
   "metadata": {},
   "outputs": [
    {
     "data": {
      "text/plain": [
       "{'Compression': 0.2803936004638672,\n",
       " 'Explanation': 0.3854008913040161,\n",
       " 'Modulation': 0.30389881134033203,\n",
       " 'Omission': 0.31148865818977356,\n",
       " 'Substitution': 0.34294041991233826,\n",
       " 'Synonymy': 0.24214085936546326,\n",
       " 'Syntactic': 0.30812281370162964,\n",
       " 'Transcription': 0.35744500160217285,\n",
       " 'Transposition': 0.30052682757377625}"
      ]
     },
     "execution_count": 16,
     "metadata": {},
     "output_type": "execute_result"
    }
   ],
   "source": [
    "pipeline(test_comment)"
   ]
  },
  {
   "cell_type": "code",
   "execution_count": null,
   "metadata": {},
   "outputs": [],
   "source": []
  }
 ],
 "metadata": {
  "kernelspec": {
   "display_name": ".venv",
   "language": "python",
   "name": "python3"
  },
  "language_info": {
   "codemirror_mode": {
    "name": "ipython",
    "version": 3
   },
   "file_extension": ".py",
   "mimetype": "text/x-python",
   "name": "python",
   "nbconvert_exporter": "python",
   "pygments_lexer": "ipython3",
   "version": "3.12.5"
  }
 },
 "nbformat": 4,
 "nbformat_minor": 2
}
